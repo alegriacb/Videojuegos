{
 "cells": [
  {
   "cell_type": "markdown",
   "metadata": {
    "tags": [
     "e5c1f0c2-db9f-43a0-99b9-4875c52427e8"
    ]
   },
   "source": [
    "# PROYECTO INTEGRADOR, SPRINT 7"
   ]
  },
  {
   "cell_type": "markdown",
   "metadata": {},
   "source": [
    "En este proyecto se realizará un análisis sobre las ventas de videojuegos de las distintas plataformas tanto para las regiones de NA, EU, JP y otra categoría que agrupa distintos países. Adicionalmente se comparará tambien las ventas entre géneros y cómo han ido cambiando con el paso de los años. \n",
    "\n",
    "Se pretende recoger datos para una campaña de lanzamiento de videojuegos para el año 2017 mediante la selección de plataformas que sean rentables en los próximos años y las inclinaciones de los usuarios en cuanto a géneros."
   ]
  },
  {
   "cell_type": "code",
   "execution_count": 1,
   "metadata": {},
   "outputs": [],
   "source": [
    "#importar las librerías a usar \n",
    "import pandas as pd\n",
    "import numpy as np\n",
    "import seaborn as sns \n",
    "from matplotlib import pyplot as plt\n",
    "from scipy import stats as st "
   ]
  },
  {
   "cell_type": "code",
   "execution_count": 2,
   "metadata": {},
   "outputs": [],
   "source": [
    "#leer archivo\n",
    "df = pd.read_csv ('/datasets/games.csv')"
   ]
  },
  {
   "cell_type": "markdown",
   "metadata": {},
   "source": [
    "## Análisis de la información general del dataset."
   ]
  },
  {
   "cell_type": "code",
   "execution_count": 3,
   "metadata": {
    "scrolled": true
   },
   "outputs": [
    {
     "data": {
      "text/html": [
       "<div>\n",
       "<style scoped>\n",
       "    .dataframe tbody tr th:only-of-type {\n",
       "        vertical-align: middle;\n",
       "    }\n",
       "\n",
       "    .dataframe tbody tr th {\n",
       "        vertical-align: top;\n",
       "    }\n",
       "\n",
       "    .dataframe thead th {\n",
       "        text-align: right;\n",
       "    }\n",
       "</style>\n",
       "<table border=\"1\" class=\"dataframe\">\n",
       "  <thead>\n",
       "    <tr style=\"text-align: right;\">\n",
       "      <th></th>\n",
       "      <th>Name</th>\n",
       "      <th>Platform</th>\n",
       "      <th>Year_of_Release</th>\n",
       "      <th>Genre</th>\n",
       "      <th>NA_sales</th>\n",
       "      <th>EU_sales</th>\n",
       "      <th>JP_sales</th>\n",
       "      <th>Other_sales</th>\n",
       "      <th>Critic_Score</th>\n",
       "      <th>User_Score</th>\n",
       "      <th>Rating</th>\n",
       "    </tr>\n",
       "  </thead>\n",
       "  <tbody>\n",
       "    <tr>\n",
       "      <th>0</th>\n",
       "      <td>Wii Sports</td>\n",
       "      <td>Wii</td>\n",
       "      <td>2006.0</td>\n",
       "      <td>Sports</td>\n",
       "      <td>41.36</td>\n",
       "      <td>28.96</td>\n",
       "      <td>3.77</td>\n",
       "      <td>8.45</td>\n",
       "      <td>76.0</td>\n",
       "      <td>8</td>\n",
       "      <td>E</td>\n",
       "    </tr>\n",
       "    <tr>\n",
       "      <th>1</th>\n",
       "      <td>Super Mario Bros.</td>\n",
       "      <td>NES</td>\n",
       "      <td>1985.0</td>\n",
       "      <td>Platform</td>\n",
       "      <td>29.08</td>\n",
       "      <td>3.58</td>\n",
       "      <td>6.81</td>\n",
       "      <td>0.77</td>\n",
       "      <td>NaN</td>\n",
       "      <td>NaN</td>\n",
       "      <td>NaN</td>\n",
       "    </tr>\n",
       "    <tr>\n",
       "      <th>2</th>\n",
       "      <td>Mario Kart Wii</td>\n",
       "      <td>Wii</td>\n",
       "      <td>2008.0</td>\n",
       "      <td>Racing</td>\n",
       "      <td>15.68</td>\n",
       "      <td>12.76</td>\n",
       "      <td>3.79</td>\n",
       "      <td>3.29</td>\n",
       "      <td>82.0</td>\n",
       "      <td>8.3</td>\n",
       "      <td>E</td>\n",
       "    </tr>\n",
       "    <tr>\n",
       "      <th>3</th>\n",
       "      <td>Wii Sports Resort</td>\n",
       "      <td>Wii</td>\n",
       "      <td>2009.0</td>\n",
       "      <td>Sports</td>\n",
       "      <td>15.61</td>\n",
       "      <td>10.93</td>\n",
       "      <td>3.28</td>\n",
       "      <td>2.95</td>\n",
       "      <td>80.0</td>\n",
       "      <td>8</td>\n",
       "      <td>E</td>\n",
       "    </tr>\n",
       "    <tr>\n",
       "      <th>4</th>\n",
       "      <td>Pokemon Red/Pokemon Blue</td>\n",
       "      <td>GB</td>\n",
       "      <td>1996.0</td>\n",
       "      <td>Role-Playing</td>\n",
       "      <td>11.27</td>\n",
       "      <td>8.89</td>\n",
       "      <td>10.22</td>\n",
       "      <td>1.00</td>\n",
       "      <td>NaN</td>\n",
       "      <td>NaN</td>\n",
       "      <td>NaN</td>\n",
       "    </tr>\n",
       "  </tbody>\n",
       "</table>\n",
       "</div>"
      ],
      "text/plain": [
       "                       Name Platform  Year_of_Release         Genre  NA_sales  \\\n",
       "0                Wii Sports      Wii           2006.0        Sports     41.36   \n",
       "1         Super Mario Bros.      NES           1985.0      Platform     29.08   \n",
       "2            Mario Kart Wii      Wii           2008.0        Racing     15.68   \n",
       "3         Wii Sports Resort      Wii           2009.0        Sports     15.61   \n",
       "4  Pokemon Red/Pokemon Blue       GB           1996.0  Role-Playing     11.27   \n",
       "\n",
       "   EU_sales  JP_sales  Other_sales  Critic_Score User_Score Rating  \n",
       "0     28.96      3.77         8.45          76.0          8      E  \n",
       "1      3.58      6.81         0.77           NaN        NaN    NaN  \n",
       "2     12.76      3.79         3.29          82.0        8.3      E  \n",
       "3     10.93      3.28         2.95          80.0          8      E  \n",
       "4      8.89     10.22         1.00           NaN        NaN    NaN  "
      ]
     },
     "execution_count": 3,
     "metadata": {},
     "output_type": "execute_result"
    }
   ],
   "source": [
    "df.head()"
   ]
  },
  {
   "cell_type": "code",
   "execution_count": 4,
   "metadata": {},
   "outputs": [
    {
     "data": {
      "text/html": [
       "<div>\n",
       "<style scoped>\n",
       "    .dataframe tbody tr th:only-of-type {\n",
       "        vertical-align: middle;\n",
       "    }\n",
       "\n",
       "    .dataframe tbody tr th {\n",
       "        vertical-align: top;\n",
       "    }\n",
       "\n",
       "    .dataframe thead th {\n",
       "        text-align: right;\n",
       "    }\n",
       "</style>\n",
       "<table border=\"1\" class=\"dataframe\">\n",
       "  <thead>\n",
       "    <tr style=\"text-align: right;\">\n",
       "      <th></th>\n",
       "      <th>Name</th>\n",
       "      <th>Platform</th>\n",
       "      <th>Year_of_Release</th>\n",
       "      <th>Genre</th>\n",
       "      <th>NA_sales</th>\n",
       "      <th>EU_sales</th>\n",
       "      <th>JP_sales</th>\n",
       "      <th>Other_sales</th>\n",
       "      <th>Critic_Score</th>\n",
       "      <th>User_Score</th>\n",
       "      <th>Rating</th>\n",
       "    </tr>\n",
       "  </thead>\n",
       "  <tbody>\n",
       "    <tr>\n",
       "      <th>16710</th>\n",
       "      <td>Samurai Warriors: Sanada Maru</td>\n",
       "      <td>PS3</td>\n",
       "      <td>2016.0</td>\n",
       "      <td>Action</td>\n",
       "      <td>0.00</td>\n",
       "      <td>0.00</td>\n",
       "      <td>0.01</td>\n",
       "      <td>0.0</td>\n",
       "      <td>NaN</td>\n",
       "      <td>NaN</td>\n",
       "      <td>NaN</td>\n",
       "    </tr>\n",
       "    <tr>\n",
       "      <th>16711</th>\n",
       "      <td>LMA Manager 2007</td>\n",
       "      <td>X360</td>\n",
       "      <td>2006.0</td>\n",
       "      <td>Sports</td>\n",
       "      <td>0.00</td>\n",
       "      <td>0.01</td>\n",
       "      <td>0.00</td>\n",
       "      <td>0.0</td>\n",
       "      <td>NaN</td>\n",
       "      <td>NaN</td>\n",
       "      <td>NaN</td>\n",
       "    </tr>\n",
       "    <tr>\n",
       "      <th>16712</th>\n",
       "      <td>Haitaka no Psychedelica</td>\n",
       "      <td>PSV</td>\n",
       "      <td>2016.0</td>\n",
       "      <td>Adventure</td>\n",
       "      <td>0.00</td>\n",
       "      <td>0.00</td>\n",
       "      <td>0.01</td>\n",
       "      <td>0.0</td>\n",
       "      <td>NaN</td>\n",
       "      <td>NaN</td>\n",
       "      <td>NaN</td>\n",
       "    </tr>\n",
       "    <tr>\n",
       "      <th>16713</th>\n",
       "      <td>Spirits &amp; Spells</td>\n",
       "      <td>GBA</td>\n",
       "      <td>2003.0</td>\n",
       "      <td>Platform</td>\n",
       "      <td>0.01</td>\n",
       "      <td>0.00</td>\n",
       "      <td>0.00</td>\n",
       "      <td>0.0</td>\n",
       "      <td>NaN</td>\n",
       "      <td>NaN</td>\n",
       "      <td>NaN</td>\n",
       "    </tr>\n",
       "    <tr>\n",
       "      <th>16714</th>\n",
       "      <td>Winning Post 8 2016</td>\n",
       "      <td>PSV</td>\n",
       "      <td>2016.0</td>\n",
       "      <td>Simulation</td>\n",
       "      <td>0.00</td>\n",
       "      <td>0.00</td>\n",
       "      <td>0.01</td>\n",
       "      <td>0.0</td>\n",
       "      <td>NaN</td>\n",
       "      <td>NaN</td>\n",
       "      <td>NaN</td>\n",
       "    </tr>\n",
       "  </tbody>\n",
       "</table>\n",
       "</div>"
      ],
      "text/plain": [
       "                                Name Platform  Year_of_Release       Genre  \\\n",
       "16710  Samurai Warriors: Sanada Maru      PS3           2016.0      Action   \n",
       "16711               LMA Manager 2007     X360           2006.0      Sports   \n",
       "16712        Haitaka no Psychedelica      PSV           2016.0   Adventure   \n",
       "16713               Spirits & Spells      GBA           2003.0    Platform   \n",
       "16714            Winning Post 8 2016      PSV           2016.0  Simulation   \n",
       "\n",
       "       NA_sales  EU_sales  JP_sales  Other_sales  Critic_Score User_Score  \\\n",
       "16710      0.00      0.00      0.01          0.0           NaN        NaN   \n",
       "16711      0.00      0.01      0.00          0.0           NaN        NaN   \n",
       "16712      0.00      0.00      0.01          0.0           NaN        NaN   \n",
       "16713      0.01      0.00      0.00          0.0           NaN        NaN   \n",
       "16714      0.00      0.00      0.01          0.0           NaN        NaN   \n",
       "\n",
       "      Rating  \n",
       "16710    NaN  \n",
       "16711    NaN  \n",
       "16712    NaN  \n",
       "16713    NaN  \n",
       "16714    NaN  "
      ]
     },
     "execution_count": 4,
     "metadata": {},
     "output_type": "execute_result"
    }
   ],
   "source": [
    "df.tail()"
   ]
  },
  {
   "cell_type": "code",
   "execution_count": 5,
   "metadata": {},
   "outputs": [
    {
     "name": "stdout",
     "output_type": "stream",
     "text": [
      "<class 'pandas.core.frame.DataFrame'>\n",
      "RangeIndex: 16715 entries, 0 to 16714\n",
      "Data columns (total 11 columns):\n",
      " #   Column           Non-Null Count  Dtype  \n",
      "---  ------           --------------  -----  \n",
      " 0   Name             16713 non-null  object \n",
      " 1   Platform         16715 non-null  object \n",
      " 2   Year_of_Release  16446 non-null  float64\n",
      " 3   Genre            16713 non-null  object \n",
      " 4   NA_sales         16715 non-null  float64\n",
      " 5   EU_sales         16715 non-null  float64\n",
      " 6   JP_sales         16715 non-null  float64\n",
      " 7   Other_sales      16715 non-null  float64\n",
      " 8   Critic_Score     8137 non-null   float64\n",
      " 9   User_Score       10014 non-null  object \n",
      " 10  Rating           9949 non-null   object \n",
      "dtypes: float64(6), object(5)\n",
      "memory usage: 1.4+ MB\n"
     ]
    }
   ],
   "source": [
    "df.info()"
   ]
  },
  {
   "cell_type": "code",
   "execution_count": 6,
   "metadata": {},
   "outputs": [
    {
     "data": {
      "text/html": [
       "<div>\n",
       "<style scoped>\n",
       "    .dataframe tbody tr th:only-of-type {\n",
       "        vertical-align: middle;\n",
       "    }\n",
       "\n",
       "    .dataframe tbody tr th {\n",
       "        vertical-align: top;\n",
       "    }\n",
       "\n",
       "    .dataframe thead th {\n",
       "        text-align: right;\n",
       "    }\n",
       "</style>\n",
       "<table border=\"1\" class=\"dataframe\">\n",
       "  <thead>\n",
       "    <tr style=\"text-align: right;\">\n",
       "      <th></th>\n",
       "      <th>Year_of_Release</th>\n",
       "      <th>NA_sales</th>\n",
       "      <th>EU_sales</th>\n",
       "      <th>JP_sales</th>\n",
       "      <th>Other_sales</th>\n",
       "      <th>Critic_Score</th>\n",
       "    </tr>\n",
       "  </thead>\n",
       "  <tbody>\n",
       "    <tr>\n",
       "      <th>count</th>\n",
       "      <td>16446.000000</td>\n",
       "      <td>16715.000000</td>\n",
       "      <td>16715.000000</td>\n",
       "      <td>16715.000000</td>\n",
       "      <td>16715.000000</td>\n",
       "      <td>8137.000000</td>\n",
       "    </tr>\n",
       "    <tr>\n",
       "      <th>mean</th>\n",
       "      <td>2006.484616</td>\n",
       "      <td>0.263377</td>\n",
       "      <td>0.145060</td>\n",
       "      <td>0.077617</td>\n",
       "      <td>0.047342</td>\n",
       "      <td>68.967679</td>\n",
       "    </tr>\n",
       "    <tr>\n",
       "      <th>std</th>\n",
       "      <td>5.877050</td>\n",
       "      <td>0.813604</td>\n",
       "      <td>0.503339</td>\n",
       "      <td>0.308853</td>\n",
       "      <td>0.186731</td>\n",
       "      <td>13.938165</td>\n",
       "    </tr>\n",
       "    <tr>\n",
       "      <th>min</th>\n",
       "      <td>1980.000000</td>\n",
       "      <td>0.000000</td>\n",
       "      <td>0.000000</td>\n",
       "      <td>0.000000</td>\n",
       "      <td>0.000000</td>\n",
       "      <td>13.000000</td>\n",
       "    </tr>\n",
       "    <tr>\n",
       "      <th>25%</th>\n",
       "      <td>2003.000000</td>\n",
       "      <td>0.000000</td>\n",
       "      <td>0.000000</td>\n",
       "      <td>0.000000</td>\n",
       "      <td>0.000000</td>\n",
       "      <td>60.000000</td>\n",
       "    </tr>\n",
       "    <tr>\n",
       "      <th>50%</th>\n",
       "      <td>2007.000000</td>\n",
       "      <td>0.080000</td>\n",
       "      <td>0.020000</td>\n",
       "      <td>0.000000</td>\n",
       "      <td>0.010000</td>\n",
       "      <td>71.000000</td>\n",
       "    </tr>\n",
       "    <tr>\n",
       "      <th>75%</th>\n",
       "      <td>2010.000000</td>\n",
       "      <td>0.240000</td>\n",
       "      <td>0.110000</td>\n",
       "      <td>0.040000</td>\n",
       "      <td>0.030000</td>\n",
       "      <td>79.000000</td>\n",
       "    </tr>\n",
       "    <tr>\n",
       "      <th>max</th>\n",
       "      <td>2016.000000</td>\n",
       "      <td>41.360000</td>\n",
       "      <td>28.960000</td>\n",
       "      <td>10.220000</td>\n",
       "      <td>10.570000</td>\n",
       "      <td>98.000000</td>\n",
       "    </tr>\n",
       "  </tbody>\n",
       "</table>\n",
       "</div>"
      ],
      "text/plain": [
       "       Year_of_Release      NA_sales      EU_sales      JP_sales  \\\n",
       "count     16446.000000  16715.000000  16715.000000  16715.000000   \n",
       "mean       2006.484616      0.263377      0.145060      0.077617   \n",
       "std           5.877050      0.813604      0.503339      0.308853   \n",
       "min        1980.000000      0.000000      0.000000      0.000000   \n",
       "25%        2003.000000      0.000000      0.000000      0.000000   \n",
       "50%        2007.000000      0.080000      0.020000      0.000000   \n",
       "75%        2010.000000      0.240000      0.110000      0.040000   \n",
       "max        2016.000000     41.360000     28.960000     10.220000   \n",
       "\n",
       "        Other_sales  Critic_Score  \n",
       "count  16715.000000   8137.000000  \n",
       "mean       0.047342     68.967679  \n",
       "std        0.186731     13.938165  \n",
       "min        0.000000     13.000000  \n",
       "25%        0.000000     60.000000  \n",
       "50%        0.010000     71.000000  \n",
       "75%        0.030000     79.000000  \n",
       "max       10.570000     98.000000  "
      ]
     },
     "execution_count": 6,
     "metadata": {},
     "output_type": "execute_result"
    }
   ],
   "source": [
    "df.describe()"
   ]
  },
  {
   "cell_type": "markdown",
   "metadata": {},
   "source": [
    "## Preparación de Datos"
   ]
  },
  {
   "cell_type": "code",
   "execution_count": 7,
   "metadata": {},
   "outputs": [
    {
     "data": {
      "text/html": [
       "<div>\n",
       "<style scoped>\n",
       "    .dataframe tbody tr th:only-of-type {\n",
       "        vertical-align: middle;\n",
       "    }\n",
       "\n",
       "    .dataframe tbody tr th {\n",
       "        vertical-align: top;\n",
       "    }\n",
       "\n",
       "    .dataframe thead th {\n",
       "        text-align: right;\n",
       "    }\n",
       "</style>\n",
       "<table border=\"1\" class=\"dataframe\">\n",
       "  <thead>\n",
       "    <tr style=\"text-align: right;\">\n",
       "      <th></th>\n",
       "      <th>name</th>\n",
       "      <th>platform</th>\n",
       "      <th>year_of_release</th>\n",
       "      <th>genre</th>\n",
       "      <th>na_sales</th>\n",
       "      <th>eu_sales</th>\n",
       "      <th>jp_sales</th>\n",
       "      <th>other_sales</th>\n",
       "      <th>critic_score</th>\n",
       "      <th>user_score</th>\n",
       "      <th>rating</th>\n",
       "    </tr>\n",
       "  </thead>\n",
       "  <tbody>\n",
       "    <tr>\n",
       "      <th>0</th>\n",
       "      <td>Wii Sports</td>\n",
       "      <td>Wii</td>\n",
       "      <td>2006.0</td>\n",
       "      <td>Sports</td>\n",
       "      <td>41.36</td>\n",
       "      <td>28.96</td>\n",
       "      <td>3.77</td>\n",
       "      <td>8.45</td>\n",
       "      <td>76.0</td>\n",
       "      <td>8</td>\n",
       "      <td>E</td>\n",
       "    </tr>\n",
       "    <tr>\n",
       "      <th>1</th>\n",
       "      <td>Super Mario Bros.</td>\n",
       "      <td>NES</td>\n",
       "      <td>1985.0</td>\n",
       "      <td>Platform</td>\n",
       "      <td>29.08</td>\n",
       "      <td>3.58</td>\n",
       "      <td>6.81</td>\n",
       "      <td>0.77</td>\n",
       "      <td>NaN</td>\n",
       "      <td>NaN</td>\n",
       "      <td>NaN</td>\n",
       "    </tr>\n",
       "    <tr>\n",
       "      <th>2</th>\n",
       "      <td>Mario Kart Wii</td>\n",
       "      <td>Wii</td>\n",
       "      <td>2008.0</td>\n",
       "      <td>Racing</td>\n",
       "      <td>15.68</td>\n",
       "      <td>12.76</td>\n",
       "      <td>3.79</td>\n",
       "      <td>3.29</td>\n",
       "      <td>82.0</td>\n",
       "      <td>8.3</td>\n",
       "      <td>E</td>\n",
       "    </tr>\n",
       "    <tr>\n",
       "      <th>3</th>\n",
       "      <td>Wii Sports Resort</td>\n",
       "      <td>Wii</td>\n",
       "      <td>2009.0</td>\n",
       "      <td>Sports</td>\n",
       "      <td>15.61</td>\n",
       "      <td>10.93</td>\n",
       "      <td>3.28</td>\n",
       "      <td>2.95</td>\n",
       "      <td>80.0</td>\n",
       "      <td>8</td>\n",
       "      <td>E</td>\n",
       "    </tr>\n",
       "    <tr>\n",
       "      <th>4</th>\n",
       "      <td>Pokemon Red/Pokemon Blue</td>\n",
       "      <td>GB</td>\n",
       "      <td>1996.0</td>\n",
       "      <td>Role-Playing</td>\n",
       "      <td>11.27</td>\n",
       "      <td>8.89</td>\n",
       "      <td>10.22</td>\n",
       "      <td>1.00</td>\n",
       "      <td>NaN</td>\n",
       "      <td>NaN</td>\n",
       "      <td>NaN</td>\n",
       "    </tr>\n",
       "  </tbody>\n",
       "</table>\n",
       "</div>"
      ],
      "text/plain": [
       "                       name platform  year_of_release         genre  na_sales  \\\n",
       "0                Wii Sports      Wii           2006.0        Sports     41.36   \n",
       "1         Super Mario Bros.      NES           1985.0      Platform     29.08   \n",
       "2            Mario Kart Wii      Wii           2008.0        Racing     15.68   \n",
       "3         Wii Sports Resort      Wii           2009.0        Sports     15.61   \n",
       "4  Pokemon Red/Pokemon Blue       GB           1996.0  Role-Playing     11.27   \n",
       "\n",
       "   eu_sales  jp_sales  other_sales  critic_score user_score rating  \n",
       "0     28.96      3.77         8.45          76.0          8      E  \n",
       "1      3.58      6.81         0.77           NaN        NaN    NaN  \n",
       "2     12.76      3.79         3.29          82.0        8.3      E  \n",
       "3     10.93      3.28         2.95          80.0          8      E  \n",
       "4      8.89     10.22         1.00           NaN        NaN    NaN  "
      ]
     },
     "execution_count": 7,
     "metadata": {},
     "output_type": "execute_result"
    }
   ],
   "source": [
    "#pasar el nombre de las columnas a minúsculas, para evitar errores de tipeo\n",
    "df.columns = df.columns.str.lower()\n",
    "df.head()"
   ]
  },
  {
   "cell_type": "code",
   "execution_count": 8,
   "metadata": {},
   "outputs": [],
   "source": [
    "#reemplazo los valores vacios de la columna year of release por la media obtenida mediante info para asi poder transformar la columna a int \n",
    "df['year_of_release'].fillna(2006,inplace = True)"
   ]
  },
  {
   "cell_type": "markdown",
   "metadata": {},
   "source": [
    "- En este caso se reemplaza por la media ya que es una poca cantidad de datos en relación al total del dataframe y no va a afectar a nuestro análisis."
   ]
  },
  {
   "cell_type": "code",
   "execution_count": 9,
   "metadata": {},
   "outputs": [],
   "source": [
    "#convertir la columna year_of_release de float a int ya que solo se trabaja con el año y debe ser un entero \n",
    "df['year_of_release'] = df['year_of_release'].astype('int')"
   ]
  },
  {
   "cell_type": "code",
   "execution_count": 10,
   "metadata": {},
   "outputs": [],
   "source": [
    "#se reemplaza la palabra tbd por nan para poder trasnformar esa columna a float en caso de requeir algún análisis numérico\n",
    "df['user_score'] = df['user_score'].replace ('tbd', np.nan)"
   ]
  },
  {
   "cell_type": "markdown",
   "metadata": {},
   "source": [
    "En este caso de reemplaza la determinacion tbd por un valor vacío ya que tbd para nuestro objetivo de análisis es lo mismo a que no se tenga puntuación del usuario. De esta manera se puede transformar la columna a float para poder trabajar con datos numéricos en caso de requerirlo. "
   ]
  },
  {
   "cell_type": "code",
   "execution_count": 11,
   "metadata": {},
   "outputs": [],
   "source": [
    "#trasnformo a float la columna user_score\n",
    "df['user_score'] = df ['user_score'].astype('float')"
   ]
  },
  {
   "cell_type": "code",
   "execution_count": 12,
   "metadata": {},
   "outputs": [
    {
     "data": {
      "text/plain": [
       "name                object\n",
       "platform            object\n",
       "year_of_release      int64\n",
       "genre               object\n",
       "na_sales           float64\n",
       "eu_sales           float64\n",
       "jp_sales           float64\n",
       "other_sales        float64\n",
       "critic_score       float64\n",
       "user_score         float64\n",
       "rating              object\n",
       "dtype: object"
      ]
     },
     "execution_count": 12,
     "metadata": {},
     "output_type": "execute_result"
    }
   ],
   "source": [
    "#verifico que se haya realizado los cambios \n",
    "df.dtypes"
   ]
  },
  {
   "cell_type": "code",
   "execution_count": 13,
   "metadata": {},
   "outputs": [
    {
     "name": "stdout",
     "output_type": "stream",
     "text": [
      "<class 'pandas.core.frame.DataFrame'>\n",
      "RangeIndex: 16715 entries, 0 to 16714\n",
      "Data columns (total 11 columns):\n",
      " #   Column           Non-Null Count  Dtype  \n",
      "---  ------           --------------  -----  \n",
      " 0   name             16713 non-null  object \n",
      " 1   platform         16715 non-null  object \n",
      " 2   year_of_release  16715 non-null  int64  \n",
      " 3   genre            16713 non-null  object \n",
      " 4   na_sales         16715 non-null  float64\n",
      " 5   eu_sales         16715 non-null  float64\n",
      " 6   jp_sales         16715 non-null  float64\n",
      " 7   other_sales      16715 non-null  float64\n",
      " 8   critic_score     8137 non-null   float64\n",
      " 9   user_score       7590 non-null   float64\n",
      " 10  rating           9949 non-null   object \n",
      "dtypes: float64(6), int64(1), object(4)\n",
      "memory usage: 1.4+ MB\n"
     ]
    }
   ],
   "source": [
    "df.info()"
   ]
  },
  {
   "cell_type": "markdown",
   "metadata": {},
   "source": [
    "- Para los valores ausentes, tanto name como genre se van a eliminar las 2 filas que no tienen información ya que no afecta a nuestro dataset \n",
    "- Las columnas critic score y user score serán rellenadas con un valor de -1 para poder identificarlos cuando se utilicen estas columnas y poder excluirlos de los cálculos. No se puede reemplazar por la media ya que es una cantidad significativa de datos ausentes. \n",
    "- La columa rating se rellenará con pendiente ya que al ser una columna cualitativa no afectara a ningún análisis. "
   ]
  },
  {
   "cell_type": "code",
   "execution_count": 15,
   "metadata": {},
   "outputs": [
    {
     "name": "stdout",
     "output_type": "stream",
     "text": [
      "<class 'pandas.core.frame.DataFrame'>\n",
      "Int64Index: 16713 entries, 0 to 16714\n",
      "Data columns (total 11 columns):\n",
      " #   Column           Non-Null Count  Dtype  \n",
      "---  ------           --------------  -----  \n",
      " 0   name             16713 non-null  object \n",
      " 1   platform         16713 non-null  object \n",
      " 2   year_of_release  16713 non-null  int64  \n",
      " 3   genre            16713 non-null  object \n",
      " 4   na_sales         16713 non-null  float64\n",
      " 5   eu_sales         16713 non-null  float64\n",
      " 6   jp_sales         16713 non-null  float64\n",
      " 7   other_sales      16713 non-null  float64\n",
      " 8   critic_score     8137 non-null   float64\n",
      " 9   user_score       7590 non-null   float64\n",
      " 10  rating           9949 non-null   object \n",
      "dtypes: float64(6), int64(1), object(4)\n",
      "memory usage: 1.5+ MB\n"
     ]
    }
   ],
   "source": [
    "#se verifica que se han eliminado las columnas vacias para name y genre\n",
    "df.info()"
   ]
  },
  {
   "cell_type": "code",
   "execution_count": 14,
   "metadata": {},
   "outputs": [],
   "source": [
    "#eliminar filas con valores ausentes de name y genre\n",
    "df = df.dropna(subset=['name'])"
   ]
  },
  {
   "cell_type": "code",
   "execution_count": 16,
   "metadata": {},
   "outputs": [],
   "source": [
    "#se rellena los datos nulos de critic score con el un valor de -1\n",
    "df['critic_score'].fillna(-1, inplace = True)"
   ]
  },
  {
   "cell_type": "code",
   "execution_count": 17,
   "metadata": {},
   "outputs": [],
   "source": [
    "#se rellena los nulos de la columna user score con un valor de -1 \n",
    "df['user_score'].fillna(-1, inplace = True)"
   ]
  },
  {
   "cell_type": "code",
   "execution_count": 18,
   "metadata": {},
   "outputs": [],
   "source": [
    "#se rellena los valores vacios de la columna rating con NaN\n",
    "df['rating'].fillna('pendiente', inplace = True)"
   ]
  },
  {
   "cell_type": "code",
   "execution_count": 19,
   "metadata": {},
   "outputs": [
    {
     "name": "stdout",
     "output_type": "stream",
     "text": [
      "<class 'pandas.core.frame.DataFrame'>\n",
      "Int64Index: 16713 entries, 0 to 16714\n",
      "Data columns (total 11 columns):\n",
      " #   Column           Non-Null Count  Dtype  \n",
      "---  ------           --------------  -----  \n",
      " 0   name             16713 non-null  object \n",
      " 1   platform         16713 non-null  object \n",
      " 2   year_of_release  16713 non-null  int64  \n",
      " 3   genre            16713 non-null  object \n",
      " 4   na_sales         16713 non-null  float64\n",
      " 5   eu_sales         16713 non-null  float64\n",
      " 6   jp_sales         16713 non-null  float64\n",
      " 7   other_sales      16713 non-null  float64\n",
      " 8   critic_score     16713 non-null  float64\n",
      " 9   user_score       16713 non-null  float64\n",
      " 10  rating           16713 non-null  object \n",
      "dtypes: float64(6), int64(1), object(4)\n",
      "memory usage: 1.5+ MB\n"
     ]
    }
   ],
   "source": [
    "#se verifica que se haya rellenado correctamente\n",
    "df.info()"
   ]
  },
  {
   "cell_type": "code",
   "execution_count": 20,
   "metadata": {},
   "outputs": [],
   "source": [
    "#se calcula las ventas totales para cada juego y se crea una nueva columna \n",
    "df['total_sales'] = df['na_sales'] + df['eu_sales'] + df['jp_sales'] + df['other_sales']"
   ]
  },
  {
   "cell_type": "code",
   "execution_count": 21,
   "metadata": {},
   "outputs": [
    {
     "data": {
      "text/html": [
       "<div>\n",
       "<style scoped>\n",
       "    .dataframe tbody tr th:only-of-type {\n",
       "        vertical-align: middle;\n",
       "    }\n",
       "\n",
       "    .dataframe tbody tr th {\n",
       "        vertical-align: top;\n",
       "    }\n",
       "\n",
       "    .dataframe thead th {\n",
       "        text-align: right;\n",
       "    }\n",
       "</style>\n",
       "<table border=\"1\" class=\"dataframe\">\n",
       "  <thead>\n",
       "    <tr style=\"text-align: right;\">\n",
       "      <th></th>\n",
       "      <th>name</th>\n",
       "      <th>platform</th>\n",
       "      <th>year_of_release</th>\n",
       "      <th>genre</th>\n",
       "      <th>na_sales</th>\n",
       "      <th>eu_sales</th>\n",
       "      <th>jp_sales</th>\n",
       "      <th>other_sales</th>\n",
       "      <th>critic_score</th>\n",
       "      <th>user_score</th>\n",
       "      <th>rating</th>\n",
       "      <th>total_sales</th>\n",
       "    </tr>\n",
       "  </thead>\n",
       "  <tbody>\n",
       "    <tr>\n",
       "      <th>0</th>\n",
       "      <td>Wii Sports</td>\n",
       "      <td>Wii</td>\n",
       "      <td>2006</td>\n",
       "      <td>Sports</td>\n",
       "      <td>41.36</td>\n",
       "      <td>28.96</td>\n",
       "      <td>3.77</td>\n",
       "      <td>8.45</td>\n",
       "      <td>76.0</td>\n",
       "      <td>8.0</td>\n",
       "      <td>E</td>\n",
       "      <td>82.54</td>\n",
       "    </tr>\n",
       "    <tr>\n",
       "      <th>1</th>\n",
       "      <td>Super Mario Bros.</td>\n",
       "      <td>NES</td>\n",
       "      <td>1985</td>\n",
       "      <td>Platform</td>\n",
       "      <td>29.08</td>\n",
       "      <td>3.58</td>\n",
       "      <td>6.81</td>\n",
       "      <td>0.77</td>\n",
       "      <td>-1.0</td>\n",
       "      <td>-1.0</td>\n",
       "      <td>pendiente</td>\n",
       "      <td>40.24</td>\n",
       "    </tr>\n",
       "    <tr>\n",
       "      <th>2</th>\n",
       "      <td>Mario Kart Wii</td>\n",
       "      <td>Wii</td>\n",
       "      <td>2008</td>\n",
       "      <td>Racing</td>\n",
       "      <td>15.68</td>\n",
       "      <td>12.76</td>\n",
       "      <td>3.79</td>\n",
       "      <td>3.29</td>\n",
       "      <td>82.0</td>\n",
       "      <td>8.3</td>\n",
       "      <td>E</td>\n",
       "      <td>35.52</td>\n",
       "    </tr>\n",
       "    <tr>\n",
       "      <th>3</th>\n",
       "      <td>Wii Sports Resort</td>\n",
       "      <td>Wii</td>\n",
       "      <td>2009</td>\n",
       "      <td>Sports</td>\n",
       "      <td>15.61</td>\n",
       "      <td>10.93</td>\n",
       "      <td>3.28</td>\n",
       "      <td>2.95</td>\n",
       "      <td>80.0</td>\n",
       "      <td>8.0</td>\n",
       "      <td>E</td>\n",
       "      <td>32.77</td>\n",
       "    </tr>\n",
       "    <tr>\n",
       "      <th>4</th>\n",
       "      <td>Pokemon Red/Pokemon Blue</td>\n",
       "      <td>GB</td>\n",
       "      <td>1996</td>\n",
       "      <td>Role-Playing</td>\n",
       "      <td>11.27</td>\n",
       "      <td>8.89</td>\n",
       "      <td>10.22</td>\n",
       "      <td>1.00</td>\n",
       "      <td>-1.0</td>\n",
       "      <td>-1.0</td>\n",
       "      <td>pendiente</td>\n",
       "      <td>31.38</td>\n",
       "    </tr>\n",
       "  </tbody>\n",
       "</table>\n",
       "</div>"
      ],
      "text/plain": [
       "                       name platform  year_of_release         genre  na_sales  \\\n",
       "0                Wii Sports      Wii             2006        Sports     41.36   \n",
       "1         Super Mario Bros.      NES             1985      Platform     29.08   \n",
       "2            Mario Kart Wii      Wii             2008        Racing     15.68   \n",
       "3         Wii Sports Resort      Wii             2009        Sports     15.61   \n",
       "4  Pokemon Red/Pokemon Blue       GB             1996  Role-Playing     11.27   \n",
       "\n",
       "   eu_sales  jp_sales  other_sales  critic_score  user_score     rating  \\\n",
       "0     28.96      3.77         8.45          76.0         8.0          E   \n",
       "1      3.58      6.81         0.77          -1.0        -1.0  pendiente   \n",
       "2     12.76      3.79         3.29          82.0         8.3          E   \n",
       "3     10.93      3.28         2.95          80.0         8.0          E   \n",
       "4      8.89     10.22         1.00          -1.0        -1.0  pendiente   \n",
       "\n",
       "   total_sales  \n",
       "0        82.54  \n",
       "1        40.24  \n",
       "2        35.52  \n",
       "3        32.77  \n",
       "4        31.38  "
      ]
     },
     "execution_count": 21,
     "metadata": {},
     "output_type": "execute_result"
    }
   ],
   "source": [
    "#se imprime nuevamente el dataset\n",
    "df.head()"
   ]
  },
  {
   "cell_type": "markdown",
   "metadata": {},
   "source": [
    "## Análisis de Datos"
   ]
  },
  {
   "cell_type": "code",
   "execution_count": 22,
   "metadata": {},
   "outputs": [
    {
     "name": "stdout",
     "output_type": "stream",
     "text": [
      "    year_of_release  game_count\n",
      "0              1980           9\n",
      "1              1981          46\n",
      "2              1982          36\n",
      "3              1983          17\n",
      "4              1984          14\n",
      "5              1985          14\n",
      "6              1986          21\n",
      "7              1987          16\n",
      "8              1988          15\n",
      "9              1989          17\n",
      "10             1990          16\n",
      "11             1991          41\n",
      "12             1992          43\n",
      "13             1993          60\n",
      "14             1994         121\n",
      "15             1995         219\n",
      "16             1996         263\n",
      "17             1997         289\n",
      "18             1998         379\n",
      "19             1999         338\n",
      "20             2000         350\n",
      "21             2001         482\n",
      "22             2002         829\n",
      "23             2003         775\n",
      "24             2004         762\n",
      "25             2005         939\n",
      "26             2006        1275\n",
      "27             2007        1197\n",
      "28             2008        1427\n",
      "29             2009        1426\n",
      "30             2010        1255\n",
      "31             2011        1136\n",
      "32             2012         653\n",
      "33             2013         544\n",
      "34             2014         581\n",
      "35             2015         606\n",
      "36             2016         502\n"
     ]
    }
   ],
   "source": [
    "#se analiza cuántos juegos fueron lanzados en cada año. Agrupo por año, sumo la cantidad de jugos por nombre. \n",
    "#Cambio el Nombre de las columnas \n",
    "count_per_year = df.groupby('year_of_release')['name'].count().reset_index()\n",
    "count_per_year.columns = ['year_of_release', 'game_count']\n",
    "print (count_per_year)"
   ]
  },
  {
   "cell_type": "code",
   "execution_count": 23,
   "metadata": {},
   "outputs": [
    {
     "data": {
      "text/html": [
       "<div>\n",
       "<style scoped>\n",
       "    .dataframe tbody tr th:only-of-type {\n",
       "        vertical-align: middle;\n",
       "    }\n",
       "\n",
       "    .dataframe tbody tr th {\n",
       "        vertical-align: top;\n",
       "    }\n",
       "\n",
       "    .dataframe thead th {\n",
       "        text-align: right;\n",
       "    }\n",
       "</style>\n",
       "<table border=\"1\" class=\"dataframe\">\n",
       "  <thead>\n",
       "    <tr style=\"text-align: right;\">\n",
       "      <th></th>\n",
       "      <th>platform</th>\n",
       "      <th>total_sales</th>\n",
       "    </tr>\n",
       "  </thead>\n",
       "  <tbody>\n",
       "    <tr>\n",
       "      <th>16</th>\n",
       "      <td>PS2</td>\n",
       "      <td>1255.77</td>\n",
       "    </tr>\n",
       "    <tr>\n",
       "      <th>28</th>\n",
       "      <td>X360</td>\n",
       "      <td>971.42</td>\n",
       "    </tr>\n",
       "    <tr>\n",
       "      <th>17</th>\n",
       "      <td>PS3</td>\n",
       "      <td>939.65</td>\n",
       "    </tr>\n",
       "    <tr>\n",
       "      <th>26</th>\n",
       "      <td>Wii</td>\n",
       "      <td>907.51</td>\n",
       "    </tr>\n",
       "    <tr>\n",
       "      <th>4</th>\n",
       "      <td>DS</td>\n",
       "      <td>806.12</td>\n",
       "    </tr>\n",
       "    <tr>\n",
       "      <th>15</th>\n",
       "      <td>PS</td>\n",
       "      <td>730.86</td>\n",
       "    </tr>\n",
       "    <tr>\n",
       "      <th>6</th>\n",
       "      <td>GBA</td>\n",
       "      <td>317.85</td>\n",
       "    </tr>\n",
       "    <tr>\n",
       "      <th>18</th>\n",
       "      <td>PS4</td>\n",
       "      <td>314.14</td>\n",
       "    </tr>\n",
       "    <tr>\n",
       "      <th>19</th>\n",
       "      <td>PSP</td>\n",
       "      <td>294.05</td>\n",
       "    </tr>\n",
       "    <tr>\n",
       "      <th>13</th>\n",
       "      <td>PC</td>\n",
       "      <td>259.52</td>\n",
       "    </tr>\n",
       "    <tr>\n",
       "      <th>2</th>\n",
       "      <td>3DS</td>\n",
       "      <td>259.00</td>\n",
       "    </tr>\n",
       "    <tr>\n",
       "      <th>29</th>\n",
       "      <td>XB</td>\n",
       "      <td>257.74</td>\n",
       "    </tr>\n",
       "    <tr>\n",
       "      <th>5</th>\n",
       "      <td>GB</td>\n",
       "      <td>255.46</td>\n",
       "    </tr>\n",
       "    <tr>\n",
       "      <th>11</th>\n",
       "      <td>NES</td>\n",
       "      <td>251.05</td>\n",
       "    </tr>\n",
       "    <tr>\n",
       "      <th>10</th>\n",
       "      <td>N64</td>\n",
       "      <td>218.68</td>\n",
       "    </tr>\n",
       "    <tr>\n",
       "      <th>23</th>\n",
       "      <td>SNES</td>\n",
       "      <td>200.04</td>\n",
       "    </tr>\n",
       "    <tr>\n",
       "      <th>7</th>\n",
       "      <td>GC</td>\n",
       "      <td>198.93</td>\n",
       "    </tr>\n",
       "    <tr>\n",
       "      <th>30</th>\n",
       "      <td>XOne</td>\n",
       "      <td>159.32</td>\n",
       "    </tr>\n",
       "    <tr>\n",
       "      <th>0</th>\n",
       "      <td>2600</td>\n",
       "      <td>96.98</td>\n",
       "    </tr>\n",
       "    <tr>\n",
       "      <th>27</th>\n",
       "      <td>WiiU</td>\n",
       "      <td>82.19</td>\n",
       "    </tr>\n",
       "    <tr>\n",
       "      <th>20</th>\n",
       "      <td>PSV</td>\n",
       "      <td>54.07</td>\n",
       "    </tr>\n",
       "    <tr>\n",
       "      <th>21</th>\n",
       "      <td>SAT</td>\n",
       "      <td>33.59</td>\n",
       "    </tr>\n",
       "    <tr>\n",
       "      <th>8</th>\n",
       "      <td>GEN</td>\n",
       "      <td>28.35</td>\n",
       "    </tr>\n",
       "    <tr>\n",
       "      <th>3</th>\n",
       "      <td>DC</td>\n",
       "      <td>15.95</td>\n",
       "    </tr>\n",
       "    <tr>\n",
       "      <th>22</th>\n",
       "      <td>SCD</td>\n",
       "      <td>1.86</td>\n",
       "    </tr>\n",
       "    <tr>\n",
       "      <th>12</th>\n",
       "      <td>NG</td>\n",
       "      <td>1.44</td>\n",
       "    </tr>\n",
       "    <tr>\n",
       "      <th>25</th>\n",
       "      <td>WS</td>\n",
       "      <td>1.42</td>\n",
       "    </tr>\n",
       "    <tr>\n",
       "      <th>24</th>\n",
       "      <td>TG16</td>\n",
       "      <td>0.16</td>\n",
       "    </tr>\n",
       "    <tr>\n",
       "      <th>1</th>\n",
       "      <td>3DO</td>\n",
       "      <td>0.10</td>\n",
       "    </tr>\n",
       "    <tr>\n",
       "      <th>9</th>\n",
       "      <td>GG</td>\n",
       "      <td>0.04</td>\n",
       "    </tr>\n",
       "    <tr>\n",
       "      <th>14</th>\n",
       "      <td>PCFX</td>\n",
       "      <td>0.03</td>\n",
       "    </tr>\n",
       "  </tbody>\n",
       "</table>\n",
       "</div>"
      ],
      "text/plain": [
       "   platform  total_sales\n",
       "16      PS2      1255.77\n",
       "28     X360       971.42\n",
       "17      PS3       939.65\n",
       "26      Wii       907.51\n",
       "4        DS       806.12\n",
       "15       PS       730.86\n",
       "6       GBA       317.85\n",
       "18      PS4       314.14\n",
       "19      PSP       294.05\n",
       "13       PC       259.52\n",
       "2       3DS       259.00\n",
       "29       XB       257.74\n",
       "5        GB       255.46\n",
       "11      NES       251.05\n",
       "10      N64       218.68\n",
       "23     SNES       200.04\n",
       "7        GC       198.93\n",
       "30     XOne       159.32\n",
       "0      2600        96.98\n",
       "27     WiiU        82.19\n",
       "20      PSV        54.07\n",
       "21      SAT        33.59\n",
       "8       GEN        28.35\n",
       "3        DC        15.95\n",
       "22      SCD         1.86\n",
       "12       NG         1.44\n",
       "25       WS         1.42\n",
       "24     TG16         0.16\n",
       "1       3DO         0.10\n",
       "9        GG         0.04\n",
       "14     PCFX         0.03"
      ]
     },
     "execution_count": 23,
     "metadata": {},
     "output_type": "execute_result"
    }
   ],
   "source": [
    "#identidicar las plataformas con mayor ventas, agrupando por plataforma y sumar ventas totales\n",
    "df_platform =  df.groupby('platform')['total_sales'].sum().reset_index()\n",
    "df_platform = df_platform.sort_values(by='total_sales', ascending=False)\n",
    "df_platform "
   ]
  },
  {
   "cell_type": "markdown",
   "metadata": {},
   "source": [
    "- Se puede identificar que las plataformas significativas con mayores ventas son las 6 primeras: PS2, X360, PS3, Wii, DS, PS"
   ]
  },
  {
   "cell_type": "code",
   "execution_count": 24,
   "metadata": {},
   "outputs": [],
   "source": [
    "#selecciono las plataformas con mayores ventas \n",
    "top_platforms = df_platform.head(6)['platform']"
   ]
  },
  {
   "cell_type": "code",
   "execution_count": 25,
   "metadata": {},
   "outputs": [],
   "source": [
    "#filtro el dataframe para incluir solo las filtradas \n",
    "df_top_platforms = df[df['platform'].isin(top_platforms)]"
   ]
  },
  {
   "cell_type": "code",
   "execution_count": 26,
   "metadata": {},
   "outputs": [],
   "source": [
    "#agrupo por año y plataforma y sumo las ventas para tener el dataset para el grafico \n",
    "top_platform_year = df_top_platforms.groupby (['year_of_release', 'platform'])['total_sales'].sum().reset_index()"
   ]
  },
  {
   "cell_type": "code",
   "execution_count": 27,
   "metadata": {},
   "outputs": [
    {
     "data": {
      "image/png": "[encoded data removed]",
      "text/plain": [
       "<Figure size 640x480 with 1 Axes>"
      ]
     },
     "metadata": {},
     "output_type": "display_data"
    }
   ],
   "source": [
    "#creo una tabla pivote para poder crear el grafico de barras y genero el grafico  \n",
    "pivot_table = top_platform_year.pivot (index = 'year_of_release', columns = 'platform', values = 'total_sales')\n",
    "pivot_table.plot (kind = 'bar', xlabel = 'Año de lanzamiento', title = \"Ventas anuales por plataforma\")\n",
    "plt.show()\n"
   ]
  },
  {
   "cell_type": "markdown",
   "metadata": {},
   "source": [
    "- Al comparar las top plataformas con mayores ventas durante todos los años vs las ventas anuales de cada plataforma, se puede ver que la plataforma que más ventas ha generado siendo PS2, práctimanete desapareció en el año 2010. \n",
    "- Desde que las plataformas ingresan al mercado, pasan al rededor de 5 años para que lleguen a su máximo de ventas y tienden a tener una duración de presencia en el mercado de al rededor de 10 años desde que ingresan hasta que salen. Esto se da ya que como se puede ver con PS van sacando nuevas versiones como la 2 y la 3, lo que produce que los clientes dejen de comprar las versiones viejas. \n",
    "- Las distribuciones para las ventas anuales de cada plataforma parece que tienden a seguir una distribución normal. Lo que corrobora que conforme van saliendo nuevas nerviones o modelos, se van dejando de comprar las anteriores.\n",
    "- Se puede ver que la mayor concentración de plataformas en el mercado se da en el año 2006 - 2007."
   ]
  },
  {
   "cell_type": "markdown",
   "metadata": {},
   "source": [
    "- Considerando que una plataforma está en el merdado al rededor de 10 años, pero que sus años de mayores ventas son de 5 años los datos que se tomarán son desde el año 2012 para analizar un periodo completo de mayores ventas de una plataforma. \n",
    "- Además desde este año se puede ver que se ha mantenido la cantidad de juegos que me han lanzado, por lo que se espera que el comportamiento sea igual para el 2017."
   ]
  },
  {
   "cell_type": "code",
   "execution_count": 28,
   "metadata": {},
   "outputs": [],
   "source": [
    "#se filtra el df original y se crea uno nuevo solo con información desde el año 2004 en adelante \n",
    "new_df = df[df['year_of_release']> 2011]"
   ]
  },
  {
   "cell_type": "code",
   "execution_count": 29,
   "metadata": {},
   "outputs": [
    {
     "name": "stdout",
     "output_type": "stream",
     "text": [
      "<class 'pandas.core.frame.DataFrame'>\n",
      "Int64Index: 2886 entries, 16 to 16714\n",
      "Data columns (total 12 columns):\n",
      " #   Column           Non-Null Count  Dtype  \n",
      "---  ------           --------------  -----  \n",
      " 0   name             2886 non-null   object \n",
      " 1   platform         2886 non-null   object \n",
      " 2   year_of_release  2886 non-null   int64  \n",
      " 3   genre            2886 non-null   object \n",
      " 4   na_sales         2886 non-null   float64\n",
      " 5   eu_sales         2886 non-null   float64\n",
      " 6   jp_sales         2886 non-null   float64\n",
      " 7   other_sales      2886 non-null   float64\n",
      " 8   critic_score     2886 non-null   float64\n",
      " 9   user_score       2886 non-null   float64\n",
      " 10  rating           2886 non-null   object \n",
      " 11  total_sales      2886 non-null   float64\n",
      "dtypes: float64(7), int64(1), object(4)\n",
      "memory usage: 293.1+ KB\n"
     ]
    }
   ],
   "source": [
    "new_df.info()"
   ]
  },
  {
   "cell_type": "code",
   "execution_count": 30,
   "metadata": {
    "scrolled": true
   },
   "outputs": [
    {
     "data": {
      "text/html": [
       "<div>\n",
       "<style scoped>\n",
       "    .dataframe tbody tr th:only-of-type {\n",
       "        vertical-align: middle;\n",
       "    }\n",
       "\n",
       "    .dataframe tbody tr th {\n",
       "        vertical-align: top;\n",
       "    }\n",
       "\n",
       "    .dataframe thead th {\n",
       "        text-align: right;\n",
       "    }\n",
       "</style>\n",
       "<table border=\"1\" class=\"dataframe\">\n",
       "  <thead>\n",
       "    <tr style=\"text-align: right;\">\n",
       "      <th></th>\n",
       "      <th>year_of_release</th>\n",
       "      <th>na_sales</th>\n",
       "      <th>eu_sales</th>\n",
       "      <th>jp_sales</th>\n",
       "      <th>other_sales</th>\n",
       "      <th>critic_score</th>\n",
       "      <th>user_score</th>\n",
       "      <th>total_sales</th>\n",
       "    </tr>\n",
       "  </thead>\n",
       "  <tbody>\n",
       "    <tr>\n",
       "      <th>count</th>\n",
       "      <td>2886.000000</td>\n",
       "      <td>2886.000000</td>\n",
       "      <td>2886.000000</td>\n",
       "      <td>2886.000000</td>\n",
       "      <td>2886.000000</td>\n",
       "      <td>2886.000000</td>\n",
       "      <td>2886.000000</td>\n",
       "      <td>2886.000000</td>\n",
       "    </tr>\n",
       "    <tr>\n",
       "      <th>mean</th>\n",
       "      <td>2013.916840</td>\n",
       "      <td>0.204771</td>\n",
       "      <td>0.175613</td>\n",
       "      <td>0.066729</td>\n",
       "      <td>0.054109</td>\n",
       "      <td>32.303881</td>\n",
       "      <td>3.050901</td>\n",
       "      <td>0.501223</td>\n",
       "    </tr>\n",
       "    <tr>\n",
       "      <th>std</th>\n",
       "      <td>1.411766</td>\n",
       "      <td>0.566696</td>\n",
       "      <td>0.505346</td>\n",
       "      <td>0.241575</td>\n",
       "      <td>0.164639</td>\n",
       "      <td>37.473265</td>\n",
       "      <td>3.979196</td>\n",
       "      <td>1.249157</td>\n",
       "    </tr>\n",
       "    <tr>\n",
       "      <th>min</th>\n",
       "      <td>2012.000000</td>\n",
       "      <td>0.000000</td>\n",
       "      <td>0.000000</td>\n",
       "      <td>0.000000</td>\n",
       "      <td>0.000000</td>\n",
       "      <td>-1.000000</td>\n",
       "      <td>-1.000000</td>\n",
       "      <td>0.010000</td>\n",
       "    </tr>\n",
       "    <tr>\n",
       "      <th>25%</th>\n",
       "      <td>2013.000000</td>\n",
       "      <td>0.000000</td>\n",
       "      <td>0.000000</td>\n",
       "      <td>0.000000</td>\n",
       "      <td>0.000000</td>\n",
       "      <td>-1.000000</td>\n",
       "      <td>-1.000000</td>\n",
       "      <td>0.040000</td>\n",
       "    </tr>\n",
       "    <tr>\n",
       "      <th>50%</th>\n",
       "      <td>2014.000000</td>\n",
       "      <td>0.030000</td>\n",
       "      <td>0.030000</td>\n",
       "      <td>0.010000</td>\n",
       "      <td>0.010000</td>\n",
       "      <td>-1.000000</td>\n",
       "      <td>3.500000</td>\n",
       "      <td>0.120000</td>\n",
       "    </tr>\n",
       "    <tr>\n",
       "      <th>75%</th>\n",
       "      <td>2015.000000</td>\n",
       "      <td>0.170000</td>\n",
       "      <td>0.140000</td>\n",
       "      <td>0.050000</td>\n",
       "      <td>0.040000</td>\n",
       "      <td>73.000000</td>\n",
       "      <td>7.100000</td>\n",
       "      <td>0.430000</td>\n",
       "    </tr>\n",
       "    <tr>\n",
       "      <th>max</th>\n",
       "      <td>2016.000000</td>\n",
       "      <td>9.660000</td>\n",
       "      <td>9.090000</td>\n",
       "      <td>4.390000</td>\n",
       "      <td>3.960000</td>\n",
       "      <td>97.000000</td>\n",
       "      <td>9.300000</td>\n",
       "      <td>21.050000</td>\n",
       "    </tr>\n",
       "  </tbody>\n",
       "</table>\n",
       "</div>"
      ],
      "text/plain": [
       "       year_of_release     na_sales     eu_sales     jp_sales  other_sales  \\\n",
       "count      2886.000000  2886.000000  2886.000000  2886.000000  2886.000000   \n",
       "mean       2013.916840     0.204771     0.175613     0.066729     0.054109   \n",
       "std           1.411766     0.566696     0.505346     0.241575     0.164639   \n",
       "min        2012.000000     0.000000     0.000000     0.000000     0.000000   \n",
       "25%        2013.000000     0.000000     0.000000     0.000000     0.000000   \n",
       "50%        2014.000000     0.030000     0.030000     0.010000     0.010000   \n",
       "75%        2015.000000     0.170000     0.140000     0.050000     0.040000   \n",
       "max        2016.000000     9.660000     9.090000     4.390000     3.960000   \n",
       "\n",
       "       critic_score   user_score  total_sales  \n",
       "count   2886.000000  2886.000000  2886.000000  \n",
       "mean      32.303881     3.050901     0.501223  \n",
       "std       37.473265     3.979196     1.249157  \n",
       "min       -1.000000    -1.000000     0.010000  \n",
       "25%       -1.000000    -1.000000     0.040000  \n",
       "50%       -1.000000     3.500000     0.120000  \n",
       "75%       73.000000     7.100000     0.430000  \n",
       "max       97.000000     9.300000    21.050000  "
      ]
     },
     "execution_count": 30,
     "metadata": {},
     "output_type": "execute_result"
    }
   ],
   "source": [
    "#se verifica que el nuevo dataframe tenga datos desde el año 2012\n",
    "new_df.describe()"
   ]
  },
  {
   "cell_type": "code",
   "execution_count": 31,
   "metadata": {
    "scrolled": true
   },
   "outputs": [
    {
     "data": {
      "text/html": [
       "<div>\n",
       "<style scoped>\n",
       "    .dataframe tbody tr th:only-of-type {\n",
       "        vertical-align: middle;\n",
       "    }\n",
       "\n",
       "    .dataframe tbody tr th {\n",
       "        vertical-align: top;\n",
       "    }\n",
       "\n",
       "    .dataframe thead th {\n",
       "        text-align: right;\n",
       "    }\n",
       "</style>\n",
       "<table border=\"1\" class=\"dataframe\">\n",
       "  <thead>\n",
       "    <tr style=\"text-align: right;\">\n",
       "      <th></th>\n",
       "      <th>platform</th>\n",
       "      <th>total_sales</th>\n",
       "    </tr>\n",
       "  </thead>\n",
       "  <tbody>\n",
       "    <tr>\n",
       "      <th>4</th>\n",
       "      <td>PS4</td>\n",
       "      <td>314.14</td>\n",
       "    </tr>\n",
       "    <tr>\n",
       "      <th>3</th>\n",
       "      <td>PS3</td>\n",
       "      <td>288.79</td>\n",
       "    </tr>\n",
       "    <tr>\n",
       "      <th>9</th>\n",
       "      <td>X360</td>\n",
       "      <td>236.54</td>\n",
       "    </tr>\n",
       "    <tr>\n",
       "      <th>0</th>\n",
       "      <td>3DS</td>\n",
       "      <td>194.61</td>\n",
       "    </tr>\n",
       "    <tr>\n",
       "      <th>10</th>\n",
       "      <td>XOne</td>\n",
       "      <td>159.32</td>\n",
       "    </tr>\n",
       "    <tr>\n",
       "      <th>8</th>\n",
       "      <td>WiiU</td>\n",
       "      <td>82.19</td>\n",
       "    </tr>\n",
       "    <tr>\n",
       "      <th>2</th>\n",
       "      <td>PC</td>\n",
       "      <td>62.65</td>\n",
       "    </tr>\n",
       "    <tr>\n",
       "      <th>6</th>\n",
       "      <td>PSV</td>\n",
       "      <td>49.18</td>\n",
       "    </tr>\n",
       "    <tr>\n",
       "      <th>7</th>\n",
       "      <td>Wii</td>\n",
       "      <td>35.37</td>\n",
       "    </tr>\n",
       "    <tr>\n",
       "      <th>1</th>\n",
       "      <td>DS</td>\n",
       "      <td>12.55</td>\n",
       "    </tr>\n",
       "    <tr>\n",
       "      <th>5</th>\n",
       "      <td>PSP</td>\n",
       "      <td>11.19</td>\n",
       "    </tr>\n",
       "  </tbody>\n",
       "</table>\n",
       "</div>"
      ],
      "text/plain": [
       "   platform  total_sales\n",
       "4       PS4       314.14\n",
       "3       PS3       288.79\n",
       "9      X360       236.54\n",
       "0       3DS       194.61\n",
       "10     XOne       159.32\n",
       "8      WiiU        82.19\n",
       "2        PC        62.65\n",
       "6       PSV        49.18\n",
       "7       Wii        35.37\n",
       "1        DS        12.55\n",
       "5       PSP        11.19"
      ]
     },
     "execution_count": 31,
     "metadata": {},
     "output_type": "execute_result"
    }
   ],
   "source": [
    "#identificar las plataformas líderes en ventas. y seleccionar solo esas\n",
    "new_top_plat =  new_df.groupby('platform')['total_sales'].sum().reset_index()\n",
    "new_top_plat = new_top_plat.sort_values(by='total_sales', ascending=False)\n",
    "new_top_plat"
   ]
  },
  {
   "cell_type": "code",
   "execution_count": 32,
   "metadata": {},
   "outputs": [
    {
     "data": {
      "text/plain": [
       "4      PS4\n",
       "3      PS3\n",
       "9     X360\n",
       "0      3DS\n",
       "10    XOne\n",
       "Name: platform, dtype: object"
      ]
     },
     "execution_count": 32,
     "metadata": {},
     "output_type": "execute_result"
    }
   ],
   "source": [
    "#selecciono las plataformas lideres en ventas\n",
    "platforms2 = new_top_plat.head(5)['platform']\n",
    "platforms2"
   ]
  },
  {
   "cell_type": "code",
   "execution_count": 33,
   "metadata": {},
   "outputs": [],
   "source": [
    "#nuevo dataframe solo con las plataformas lideres\n",
    "sort_platforms = new_df[new_df['platform'].isin(platforms2)]"
   ]
  },
  {
   "cell_type": "code",
   "execution_count": 34,
   "metadata": {
    "scrolled": true
   },
   "outputs": [
    {
     "data": {
      "text/html": [
       "<div>\n",
       "<style scoped>\n",
       "    .dataframe tbody tr th:only-of-type {\n",
       "        vertical-align: middle;\n",
       "    }\n",
       "\n",
       "    .dataframe tbody tr th {\n",
       "        vertical-align: top;\n",
       "    }\n",
       "\n",
       "    .dataframe thead th {\n",
       "        text-align: right;\n",
       "    }\n",
       "</style>\n",
       "<table border=\"1\" class=\"dataframe\">\n",
       "  <thead>\n",
       "    <tr style=\"text-align: right;\">\n",
       "      <th>platform</th>\n",
       "      <th>3DS</th>\n",
       "      <th>PS3</th>\n",
       "      <th>PS4</th>\n",
       "      <th>X360</th>\n",
       "      <th>XOne</th>\n",
       "    </tr>\n",
       "    <tr>\n",
       "      <th>year_of_release</th>\n",
       "      <th></th>\n",
       "      <th></th>\n",
       "      <th></th>\n",
       "      <th></th>\n",
       "      <th></th>\n",
       "    </tr>\n",
       "  </thead>\n",
       "  <tbody>\n",
       "    <tr>\n",
       "      <th>2012</th>\n",
       "      <td>51.36</td>\n",
       "      <td>107.36</td>\n",
       "      <td>0.00</td>\n",
       "      <td>99.74</td>\n",
       "      <td>0.00</td>\n",
       "    </tr>\n",
       "    <tr>\n",
       "      <th>2013</th>\n",
       "      <td>56.57</td>\n",
       "      <td>113.25</td>\n",
       "      <td>25.99</td>\n",
       "      <td>88.58</td>\n",
       "      <td>18.96</td>\n",
       "    </tr>\n",
       "    <tr>\n",
       "      <th>2014</th>\n",
       "      <td>43.76</td>\n",
       "      <td>47.76</td>\n",
       "      <td>100.00</td>\n",
       "      <td>34.74</td>\n",
       "      <td>54.07</td>\n",
       "    </tr>\n",
       "    <tr>\n",
       "      <th>2015</th>\n",
       "      <td>27.78</td>\n",
       "      <td>16.82</td>\n",
       "      <td>118.90</td>\n",
       "      <td>11.96</td>\n",
       "      <td>60.14</td>\n",
       "    </tr>\n",
       "    <tr>\n",
       "      <th>2016</th>\n",
       "      <td>15.14</td>\n",
       "      <td>3.60</td>\n",
       "      <td>69.25</td>\n",
       "      <td>1.52</td>\n",
       "      <td>26.15</td>\n",
       "    </tr>\n",
       "  </tbody>\n",
       "</table>\n",
       "</div>"
      ],
      "text/plain": [
       "platform           3DS     PS3     PS4   X360   XOne\n",
       "year_of_release                                     \n",
       "2012             51.36  107.36    0.00  99.74   0.00\n",
       "2013             56.57  113.25   25.99  88.58  18.96\n",
       "2014             43.76   47.76  100.00  34.74  54.07\n",
       "2015             27.78   16.82  118.90  11.96  60.14\n",
       "2016             15.14    3.60   69.25   1.52  26.15"
      ]
     },
     "execution_count": 34,
     "metadata": {},
     "output_type": "execute_result"
    }
   ],
   "source": [
    "#Ver como han cambiado en los años las plataformas líderes en ventas. Crear una tabla pivote  \n",
    "pivot_top_platforms = sort_platforms.pivot_table(index='year_of_release',values='total_sales',columns=\"platform\",aggfunc='sum',fill_value=0)\n",
    "pivot_top_platforms"
   ]
  },
  {
   "cell_type": "markdown",
   "metadata": {},
   "source": [
    "- Las plataformas líderes en ventas desde el 2012 son PS4, PS3, X360, 3DS, XOne. Viendo las ventas por años, se puede decir que PS4 y XOne son las plataformas más rentables debido a sus ventas en el 2015 y lo que va del 2016 y que tan solo llevan 4 años en el mercado. X360 y PS3 son las que ventas más bajas están teniendo por lo que se podría pensar que están por salir del mercado. "
   ]
  },
  {
   "cell_type": "code",
   "execution_count": 35,
   "metadata": {},
   "outputs": [
    {
     "data": {
      "text/html": [
       "<div>\n",
       "<style scoped>\n",
       "    .dataframe tbody tr th:only-of-type {\n",
       "        vertical-align: middle;\n",
       "    }\n",
       "\n",
       "    .dataframe tbody tr th {\n",
       "        vertical-align: top;\n",
       "    }\n",
       "\n",
       "    .dataframe thead th {\n",
       "        text-align: right;\n",
       "    }\n",
       "</style>\n",
       "<table border=\"1\" class=\"dataframe\">\n",
       "  <thead>\n",
       "    <tr style=\"text-align: right;\">\n",
       "      <th></th>\n",
       "      <th>name</th>\n",
       "      <th>platform</th>\n",
       "      <th>year_of_release</th>\n",
       "      <th>genre</th>\n",
       "      <th>na_sales</th>\n",
       "      <th>eu_sales</th>\n",
       "      <th>jp_sales</th>\n",
       "      <th>other_sales</th>\n",
       "      <th>critic_score</th>\n",
       "      <th>user_score</th>\n",
       "      <th>rating</th>\n",
       "      <th>total_sales</th>\n",
       "    </tr>\n",
       "  </thead>\n",
       "  <tbody>\n",
       "    <tr>\n",
       "      <th>16</th>\n",
       "      <td>Grand Theft Auto V</td>\n",
       "      <td>PS3</td>\n",
       "      <td>2013</td>\n",
       "      <td>Action</td>\n",
       "      <td>7.02</td>\n",
       "      <td>9.09</td>\n",
       "      <td>0.98</td>\n",
       "      <td>3.96</td>\n",
       "      <td>97.0</td>\n",
       "      <td>8.2</td>\n",
       "      <td>M</td>\n",
       "      <td>21.05</td>\n",
       "    </tr>\n",
       "    <tr>\n",
       "      <th>23</th>\n",
       "      <td>Grand Theft Auto V</td>\n",
       "      <td>X360</td>\n",
       "      <td>2013</td>\n",
       "      <td>Action</td>\n",
       "      <td>9.66</td>\n",
       "      <td>5.14</td>\n",
       "      <td>0.06</td>\n",
       "      <td>1.41</td>\n",
       "      <td>97.0</td>\n",
       "      <td>8.1</td>\n",
       "      <td>M</td>\n",
       "      <td>16.27</td>\n",
       "    </tr>\n",
       "    <tr>\n",
       "      <th>31</th>\n",
       "      <td>Call of Duty: Black Ops 3</td>\n",
       "      <td>PS4</td>\n",
       "      <td>2015</td>\n",
       "      <td>Shooter</td>\n",
       "      <td>6.03</td>\n",
       "      <td>5.86</td>\n",
       "      <td>0.36</td>\n",
       "      <td>2.38</td>\n",
       "      <td>-1.0</td>\n",
       "      <td>-1.0</td>\n",
       "      <td>pendiente</td>\n",
       "      <td>14.63</td>\n",
       "    </tr>\n",
       "    <tr>\n",
       "      <th>33</th>\n",
       "      <td>Pokemon X/Pokemon Y</td>\n",
       "      <td>3DS</td>\n",
       "      <td>2013</td>\n",
       "      <td>Role-Playing</td>\n",
       "      <td>5.28</td>\n",
       "      <td>4.19</td>\n",
       "      <td>4.35</td>\n",
       "      <td>0.78</td>\n",
       "      <td>-1.0</td>\n",
       "      <td>-1.0</td>\n",
       "      <td>pendiente</td>\n",
       "      <td>14.60</td>\n",
       "    </tr>\n",
       "    <tr>\n",
       "      <th>34</th>\n",
       "      <td>Call of Duty: Black Ops II</td>\n",
       "      <td>PS3</td>\n",
       "      <td>2012</td>\n",
       "      <td>Shooter</td>\n",
       "      <td>4.99</td>\n",
       "      <td>5.73</td>\n",
       "      <td>0.65</td>\n",
       "      <td>2.42</td>\n",
       "      <td>83.0</td>\n",
       "      <td>5.3</td>\n",
       "      <td>M</td>\n",
       "      <td>13.79</td>\n",
       "    </tr>\n",
       "  </tbody>\n",
       "</table>\n",
       "</div>"
      ],
      "text/plain": [
       "                          name platform  year_of_release         genre  \\\n",
       "16          Grand Theft Auto V      PS3             2013        Action   \n",
       "23          Grand Theft Auto V     X360             2013        Action   \n",
       "31   Call of Duty: Black Ops 3      PS4             2015       Shooter   \n",
       "33         Pokemon X/Pokemon Y      3DS             2013  Role-Playing   \n",
       "34  Call of Duty: Black Ops II      PS3             2012       Shooter   \n",
       "\n",
       "    na_sales  eu_sales  jp_sales  other_sales  critic_score  user_score  \\\n",
       "16      7.02      9.09      0.98         3.96          97.0         8.2   \n",
       "23      9.66      5.14      0.06         1.41          97.0         8.1   \n",
       "31      6.03      5.86      0.36         2.38          -1.0        -1.0   \n",
       "33      5.28      4.19      4.35         0.78          -1.0        -1.0   \n",
       "34      4.99      5.73      0.65         2.42          83.0         5.3   \n",
       "\n",
       "       rating  total_sales  \n",
       "16          M        21.05  \n",
       "23          M        16.27  \n",
       "31  pendiente        14.63  \n",
       "33  pendiente        14.60  \n",
       "34          M        13.79  "
      ]
     },
     "execution_count": 35,
     "metadata": {},
     "output_type": "execute_result"
    }
   ],
   "source": [
    "new_df.head()"
   ]
  },
  {
   "cell_type": "code",
   "execution_count": 36,
   "metadata": {},
   "outputs": [
    {
     "data": {
      "image/png": "[encoded data removed]",
      "text/plain": [
       "<Figure size 640x480 with 1 Axes>"
      ]
     },
     "metadata": {},
     "output_type": "display_data"
    }
   ],
   "source": [
    "#diagrama de caja para las ventas globales de los juegos desglosado por plataforma \n",
    "sns.boxplot (data = new_df, x = 'platform', y = 'total_sales')\n",
    "plt.title ('Diagrama de caja de ventas globales por plataforma')\n",
    "plt.xlabel ('Plataforma')\n",
    "plt.ylabel ('Ventas totales')\n",
    "plt.xticks(rotation=45)\n",
    "plt.grid()\n",
    "plt.show()"
   ]
  },
  {
   "cell_type": "markdown",
   "metadata": {},
   "source": [
    "- Se puede ver en los diagramas de cajas que las ventas entre distintas plataformas son parecidas para la mayoría. Sin embargo existen plataformas que tienen una gran cantidad de valores atípicos, lo que en este caso quiere decir que son juegos que han tenido un grán éxito en el mercado para cada plataforma, y esto afecta las ventas promedio de las mismas. En este caso se puede ver que para la plataforma PS3, hubo un juego que tuvo la acogia más grande del mercado hasta el 2016. \n",
    "- La mediana de venta entre la mayoría de las plataformas parece ser muy cercana, todas son bajas, a excepto de X360 que levemente resalta sobre las demás. "
   ]
  },
  {
   "cell_type": "code",
   "execution_count": 37,
   "metadata": {},
   "outputs": [],
   "source": [
    "#reseñas de usuarios y profesionales frente a las ventas de la plataforma X360\n",
    "#primero se filtra para excluir los valores de -1 con lo que se rellenó los vacíos y que no afecte al analisis\n",
    "df_excluido = new_df.query('user_score != -1')"
   ]
  },
  {
   "cell_type": "code",
   "execution_count": 38,
   "metadata": {},
   "outputs": [
    {
     "data": {
      "text/plain": [
       "0.006163978646213326"
      ]
     },
     "execution_count": 38,
     "metadata": {},
     "output_type": "execute_result"
    }
   ],
   "source": [
    "#se calcula los coeficientes de correlación entre las ventas de X360 con las reseñas de usuarios \n",
    "corr1 = df_excluido[df_excluido['platform'] == 'X360']\n",
    "corr_u = corr1 ['user_score'].corr(corr1['total_sales'])\n",
    "corr_u"
   ]
  },
  {
   "cell_type": "code",
   "execution_count": 39,
   "metadata": {},
   "outputs": [
    {
     "data": {
      "image/png": "[encoded data removed]",
      "text/plain": [
       "<Figure size 200x200 with 1 Axes>"
      ]
     },
     "metadata": {},
     "output_type": "display_data"
    }
   ],
   "source": [
    "#diagrama de dispersion \n",
    "plt.figure (figsize = (2, 2))\n",
    "sns.scatterplot (data = corr1, x = 'user_score', y = 'total_sales')\n",
    "plt.show()"
   ]
  },
  {
   "cell_type": "code",
   "execution_count": 40,
   "metadata": {},
   "outputs": [],
   "source": [
    "#se excluye los valores de -1 con lo que se relleno los vacios para que no afecte el analisis\n",
    "df_excluido2 = new_df.query('critic_score != -1')"
   ]
  },
  {
   "cell_type": "code",
   "execution_count": 41,
   "metadata": {},
   "outputs": [
    {
     "data": {
      "text/plain": [
       "0.3605734888507336"
      ]
     },
     "execution_count": 41,
     "metadata": {},
     "output_type": "execute_result"
    }
   ],
   "source": [
    "#se calcula los coeficientes de correlación entre las ventas de X360 con las reseñas de profesionales \n",
    "corr2 = df_excluido2[df_excluido2['platform'] == 'X360']\n",
    "corr_p = corr2 ['critic_score'].corr(corr2['total_sales'])\n",
    "corr_p"
   ]
  },
  {
   "cell_type": "code",
   "execution_count": 42,
   "metadata": {},
   "outputs": [
    {
     "data": {
      "image/png": "[encoded data removed]",
      "text/plain": [
       "<Figure size 200x200 with 1 Axes>"
      ]
     },
     "metadata": {},
     "output_type": "display_data"
    }
   ],
   "source": [
    "#diagrama de dispersion \n",
    "plt.figure (figsize = (2,2))\n",
    "sns.scatterplot (data = corr2, x = 'critic_score', y = 'total_sales')\n",
    "plt.show()"
   ]
  },
  {
   "cell_type": "markdown",
   "metadata": {},
   "source": [
    "- En el caso de user score, se obtuvo un coeficiente de 0.00. Esto significa que no hay relación significativa entre user score y ventas totales. \n",
    "- En el caso de critic score, se obtuvo un coeficiente de correlación de 0.36, siendo una correlación positiva, pero baja. Esto quiere decir que si afecta en cierto modo la puntuación de profesionales. Mientras más alto es la puntuación de un profesional, más altas son las ventas. "
   ]
  },
  {
   "cell_type": "code",
   "execution_count": 43,
   "metadata": {
    "scrolled": true
   },
   "outputs": [
    {
     "data": {
      "text/html": [
       "<div>\n",
       "<style scoped>\n",
       "    .dataframe tbody tr th:only-of-type {\n",
       "        vertical-align: middle;\n",
       "    }\n",
       "\n",
       "    .dataframe tbody tr th {\n",
       "        vertical-align: top;\n",
       "    }\n",
       "\n",
       "    .dataframe thead th {\n",
       "        text-align: right;\n",
       "    }\n",
       "</style>\n",
       "<table border=\"1\" class=\"dataframe\">\n",
       "  <thead>\n",
       "    <tr style=\"text-align: right;\">\n",
       "      <th>platform</th>\n",
       "      <th>3DS</th>\n",
       "      <th>DS</th>\n",
       "      <th>PC</th>\n",
       "      <th>PS3</th>\n",
       "      <th>PS4</th>\n",
       "      <th>PSP</th>\n",
       "      <th>PSV</th>\n",
       "      <th>Wii</th>\n",
       "      <th>WiiU</th>\n",
       "      <th>X360</th>\n",
       "      <th>XOne</th>\n",
       "    </tr>\n",
       "    <tr>\n",
       "      <th>name</th>\n",
       "      <th></th>\n",
       "      <th></th>\n",
       "      <th></th>\n",
       "      <th></th>\n",
       "      <th></th>\n",
       "      <th></th>\n",
       "      <th></th>\n",
       "      <th></th>\n",
       "      <th></th>\n",
       "      <th></th>\n",
       "      <th></th>\n",
       "    </tr>\n",
       "  </thead>\n",
       "  <tbody>\n",
       "    <tr>\n",
       "      <th>New Super Mario Bros. 2</th>\n",
       "      <td>9.90</td>\n",
       "      <td>0.0</td>\n",
       "      <td>0.00</td>\n",
       "      <td>0.00</td>\n",
       "      <td>0.00</td>\n",
       "      <td>0.00</td>\n",
       "      <td>0.00</td>\n",
       "      <td>0.00</td>\n",
       "      <td>0.00</td>\n",
       "      <td>0.00</td>\n",
       "      <td>0.00</td>\n",
       "    </tr>\n",
       "    <tr>\n",
       "      <th>Doraemon: Nobita to Himitsu Dougu Hakubutsukan</th>\n",
       "      <td>0.07</td>\n",
       "      <td>0.0</td>\n",
       "      <td>0.00</td>\n",
       "      <td>0.00</td>\n",
       "      <td>0.00</td>\n",
       "      <td>0.00</td>\n",
       "      <td>0.00</td>\n",
       "      <td>0.00</td>\n",
       "      <td>0.00</td>\n",
       "      <td>0.00</td>\n",
       "      <td>0.00</td>\n",
       "    </tr>\n",
       "    <tr>\n",
       "      <th>The Last of Us</th>\n",
       "      <td>0.00</td>\n",
       "      <td>0.0</td>\n",
       "      <td>0.00</td>\n",
       "      <td>5.86</td>\n",
       "      <td>4.72</td>\n",
       "      <td>0.00</td>\n",
       "      <td>0.00</td>\n",
       "      <td>0.00</td>\n",
       "      <td>0.00</td>\n",
       "      <td>0.00</td>\n",
       "      <td>0.00</td>\n",
       "    </tr>\n",
       "    <tr>\n",
       "      <th>Battlezone</th>\n",
       "      <td>0.00</td>\n",
       "      <td>0.0</td>\n",
       "      <td>0.00</td>\n",
       "      <td>0.00</td>\n",
       "      <td>0.05</td>\n",
       "      <td>0.00</td>\n",
       "      <td>0.00</td>\n",
       "      <td>0.00</td>\n",
       "      <td>0.00</td>\n",
       "      <td>0.00</td>\n",
       "      <td>0.00</td>\n",
       "    </tr>\n",
       "    <tr>\n",
       "      <th>Adventure Time: Explore the Dungeon Because I Don't Know!</th>\n",
       "      <td>0.14</td>\n",
       "      <td>0.0</td>\n",
       "      <td>0.00</td>\n",
       "      <td>0.04</td>\n",
       "      <td>0.00</td>\n",
       "      <td>0.00</td>\n",
       "      <td>0.00</td>\n",
       "      <td>0.00</td>\n",
       "      <td>0.03</td>\n",
       "      <td>0.08</td>\n",
       "      <td>0.00</td>\n",
       "    </tr>\n",
       "    <tr>\n",
       "      <th>Stellaris</th>\n",
       "      <td>0.00</td>\n",
       "      <td>0.0</td>\n",
       "      <td>0.04</td>\n",
       "      <td>0.00</td>\n",
       "      <td>0.00</td>\n",
       "      <td>0.00</td>\n",
       "      <td>0.00</td>\n",
       "      <td>0.00</td>\n",
       "      <td>0.00</td>\n",
       "      <td>0.00</td>\n",
       "      <td>0.00</td>\n",
       "    </tr>\n",
       "    <tr>\n",
       "      <th>Epic Mickey 2: The Power of Two</th>\n",
       "      <td>0.00</td>\n",
       "      <td>0.0</td>\n",
       "      <td>0.00</td>\n",
       "      <td>0.47</td>\n",
       "      <td>0.00</td>\n",
       "      <td>0.00</td>\n",
       "      <td>0.00</td>\n",
       "      <td>0.95</td>\n",
       "      <td>0.23</td>\n",
       "      <td>0.51</td>\n",
       "      <td>0.00</td>\n",
       "    </tr>\n",
       "    <tr>\n",
       "      <th>Don Bradman Cricket 14</th>\n",
       "      <td>0.00</td>\n",
       "      <td>0.0</td>\n",
       "      <td>0.00</td>\n",
       "      <td>0.01</td>\n",
       "      <td>0.12</td>\n",
       "      <td>0.00</td>\n",
       "      <td>0.00</td>\n",
       "      <td>0.00</td>\n",
       "      <td>0.00</td>\n",
       "      <td>0.00</td>\n",
       "      <td>0.04</td>\n",
       "    </tr>\n",
       "    <tr>\n",
       "      <th>Taiko no Tatsujin: Chibi Dragon to Fushigi na Orb</th>\n",
       "      <td>0.63</td>\n",
       "      <td>0.0</td>\n",
       "      <td>0.00</td>\n",
       "      <td>0.00</td>\n",
       "      <td>0.00</td>\n",
       "      <td>0.00</td>\n",
       "      <td>0.00</td>\n",
       "      <td>0.00</td>\n",
       "      <td>0.00</td>\n",
       "      <td>0.00</td>\n",
       "      <td>0.00</td>\n",
       "    </tr>\n",
       "    <tr>\n",
       "      <th>1/2 Summer +</th>\n",
       "      <td>0.00</td>\n",
       "      <td>0.0</td>\n",
       "      <td>0.00</td>\n",
       "      <td>0.00</td>\n",
       "      <td>0.00</td>\n",
       "      <td>0.01</td>\n",
       "      <td>0.00</td>\n",
       "      <td>0.00</td>\n",
       "      <td>0.00</td>\n",
       "      <td>0.00</td>\n",
       "      <td>0.00</td>\n",
       "    </tr>\n",
       "    <tr>\n",
       "      <th>TV Anime Idolm@ster: Cinderella Girls G4U! Pack Vol.4</th>\n",
       "      <td>0.00</td>\n",
       "      <td>0.0</td>\n",
       "      <td>0.00</td>\n",
       "      <td>0.02</td>\n",
       "      <td>0.00</td>\n",
       "      <td>0.00</td>\n",
       "      <td>0.00</td>\n",
       "      <td>0.00</td>\n",
       "      <td>0.00</td>\n",
       "      <td>0.00</td>\n",
       "      <td>0.00</td>\n",
       "    </tr>\n",
       "    <tr>\n",
       "      <th>Teddy Together</th>\n",
       "      <td>0.02</td>\n",
       "      <td>0.0</td>\n",
       "      <td>0.00</td>\n",
       "      <td>0.00</td>\n",
       "      <td>0.00</td>\n",
       "      <td>0.00</td>\n",
       "      <td>0.00</td>\n",
       "      <td>0.00</td>\n",
       "      <td>0.00</td>\n",
       "      <td>0.00</td>\n",
       "      <td>0.00</td>\n",
       "    </tr>\n",
       "    <tr>\n",
       "      <th>Touch Detective: Nameko Shigeru</th>\n",
       "      <td>0.07</td>\n",
       "      <td>0.0</td>\n",
       "      <td>0.00</td>\n",
       "      <td>0.00</td>\n",
       "      <td>0.00</td>\n",
       "      <td>0.00</td>\n",
       "      <td>0.00</td>\n",
       "      <td>0.00</td>\n",
       "      <td>0.00</td>\n",
       "      <td>0.00</td>\n",
       "      <td>0.00</td>\n",
       "    </tr>\n",
       "    <tr>\n",
       "      <th>Amagami</th>\n",
       "      <td>0.00</td>\n",
       "      <td>0.0</td>\n",
       "      <td>0.00</td>\n",
       "      <td>0.00</td>\n",
       "      <td>0.00</td>\n",
       "      <td>0.00</td>\n",
       "      <td>0.04</td>\n",
       "      <td>0.00</td>\n",
       "      <td>0.00</td>\n",
       "      <td>0.00</td>\n",
       "      <td>0.00</td>\n",
       "    </tr>\n",
       "    <tr>\n",
       "      <th>Warhammer: The End Times - Vermintide</th>\n",
       "      <td>0.00</td>\n",
       "      <td>0.0</td>\n",
       "      <td>0.00</td>\n",
       "      <td>0.00</td>\n",
       "      <td>0.04</td>\n",
       "      <td>0.00</td>\n",
       "      <td>0.00</td>\n",
       "      <td>0.00</td>\n",
       "      <td>0.00</td>\n",
       "      <td>0.00</td>\n",
       "      <td>0.00</td>\n",
       "    </tr>\n",
       "    <tr>\n",
       "      <th>Professional Farmer 2016</th>\n",
       "      <td>0.00</td>\n",
       "      <td>0.0</td>\n",
       "      <td>0.00</td>\n",
       "      <td>0.00</td>\n",
       "      <td>0.01</td>\n",
       "      <td>0.00</td>\n",
       "      <td>0.00</td>\n",
       "      <td>0.00</td>\n",
       "      <td>0.00</td>\n",
       "      <td>0.00</td>\n",
       "      <td>0.00</td>\n",
       "    </tr>\n",
       "    <tr>\n",
       "      <th>Psycho-Pass</th>\n",
       "      <td>0.00</td>\n",
       "      <td>0.0</td>\n",
       "      <td>0.00</td>\n",
       "      <td>0.00</td>\n",
       "      <td>0.00</td>\n",
       "      <td>0.00</td>\n",
       "      <td>0.00</td>\n",
       "      <td>0.00</td>\n",
       "      <td>0.00</td>\n",
       "      <td>0.00</td>\n",
       "      <td>0.01</td>\n",
       "    </tr>\n",
       "    <tr>\n",
       "      <th>SSX</th>\n",
       "      <td>0.00</td>\n",
       "      <td>0.0</td>\n",
       "      <td>0.00</td>\n",
       "      <td>0.92</td>\n",
       "      <td>0.00</td>\n",
       "      <td>0.00</td>\n",
       "      <td>0.00</td>\n",
       "      <td>0.00</td>\n",
       "      <td>0.00</td>\n",
       "      <td>0.70</td>\n",
       "      <td>0.00</td>\n",
       "    </tr>\n",
       "    <tr>\n",
       "      <th>Hyperdimension Neptunia</th>\n",
       "      <td>0.00</td>\n",
       "      <td>0.0</td>\n",
       "      <td>0.00</td>\n",
       "      <td>0.00</td>\n",
       "      <td>0.00</td>\n",
       "      <td>0.00</td>\n",
       "      <td>0.13</td>\n",
       "      <td>0.00</td>\n",
       "      <td>0.00</td>\n",
       "      <td>0.00</td>\n",
       "      <td>0.00</td>\n",
       "    </tr>\n",
       "    <tr>\n",
       "      <th>Fighter Within</th>\n",
       "      <td>0.00</td>\n",
       "      <td>0.0</td>\n",
       "      <td>0.00</td>\n",
       "      <td>0.00</td>\n",
       "      <td>0.00</td>\n",
       "      <td>0.00</td>\n",
       "      <td>0.00</td>\n",
       "      <td>0.00</td>\n",
       "      <td>0.00</td>\n",
       "      <td>0.00</td>\n",
       "      <td>0.20</td>\n",
       "    </tr>\n",
       "  </tbody>\n",
       "</table>\n",
       "</div>"
      ],
      "text/plain": [
       "platform                                             3DS   DS    PC   PS3  \\\n",
       "name                                                                        \n",
       "New Super Mario Bros. 2                             9.90  0.0  0.00  0.00   \n",
       "Doraemon: Nobita to Himitsu Dougu Hakubutsukan      0.07  0.0  0.00  0.00   \n",
       "The Last of Us                                      0.00  0.0  0.00  5.86   \n",
       "Battlezone                                          0.00  0.0  0.00  0.00   \n",
       "Adventure Time: Explore the Dungeon Because I D...  0.14  0.0  0.00  0.04   \n",
       "Stellaris                                           0.00  0.0  0.04  0.00   \n",
       "Epic Mickey 2: The Power of Two                     0.00  0.0  0.00  0.47   \n",
       "Don Bradman Cricket 14                              0.00  0.0  0.00  0.01   \n",
       "Taiko no Tatsujin: Chibi Dragon to Fushigi na Orb   0.63  0.0  0.00  0.00   \n",
       "1/2 Summer +                                        0.00  0.0  0.00  0.00   \n",
       "TV Anime Idolm@ster: Cinderella Girls G4U! Pack...  0.00  0.0  0.00  0.02   \n",
       "Teddy Together                                      0.02  0.0  0.00  0.00   \n",
       "Touch Detective: Nameko Shigeru                     0.07  0.0  0.00  0.00   \n",
       "Amagami                                             0.00  0.0  0.00  0.00   \n",
       "Warhammer: The End Times - Vermintide               0.00  0.0  0.00  0.00   \n",
       "Professional Farmer 2016                            0.00  0.0  0.00  0.00   \n",
       "Psycho-Pass                                         0.00  0.0  0.00  0.00   \n",
       "SSX                                                 0.00  0.0  0.00  0.92   \n",
       "Hyperdimension Neptunia                             0.00  0.0  0.00  0.00   \n",
       "Fighter Within                                      0.00  0.0  0.00  0.00   \n",
       "\n",
       "platform                                             PS4   PSP   PSV   Wii  \\\n",
       "name                                                                         \n",
       "New Super Mario Bros. 2                             0.00  0.00  0.00  0.00   \n",
       "Doraemon: Nobita to Himitsu Dougu Hakubutsukan      0.00  0.00  0.00  0.00   \n",
       "The Last of Us                                      4.72  0.00  0.00  0.00   \n",
       "Battlezone                                          0.05  0.00  0.00  0.00   \n",
       "Adventure Time: Explore the Dungeon Because I D...  0.00  0.00  0.00  0.00   \n",
       "Stellaris                                           0.00  0.00  0.00  0.00   \n",
       "Epic Mickey 2: The Power of Two                     0.00  0.00  0.00  0.95   \n",
       "Don Bradman Cricket 14                              0.12  0.00  0.00  0.00   \n",
       "Taiko no Tatsujin: Chibi Dragon to Fushigi na Orb   0.00  0.00  0.00  0.00   \n",
       "1/2 Summer +                                        0.00  0.01  0.00  0.00   \n",
       "TV Anime Idolm@ster: Cinderella Girls G4U! Pack...  0.00  0.00  0.00  0.00   \n",
       "Teddy Together                                      0.00  0.00  0.00  0.00   \n",
       "Touch Detective: Nameko Shigeru                     0.00  0.00  0.00  0.00   \n",
       "Amagami                                             0.00  0.00  0.04  0.00   \n",
       "Warhammer: The End Times - Vermintide               0.04  0.00  0.00  0.00   \n",
       "Professional Farmer 2016                            0.01  0.00  0.00  0.00   \n",
       "Psycho-Pass                                         0.00  0.00  0.00  0.00   \n",
       "SSX                                                 0.00  0.00  0.00  0.00   \n",
       "Hyperdimension Neptunia                             0.00  0.00  0.13  0.00   \n",
       "Fighter Within                                      0.00  0.00  0.00  0.00   \n",
       "\n",
       "platform                                            WiiU  X360  XOne  \n",
       "name                                                                  \n",
       "New Super Mario Bros. 2                             0.00  0.00  0.00  \n",
       "Doraemon: Nobita to Himitsu Dougu Hakubutsukan      0.00  0.00  0.00  \n",
       "The Last of Us                                      0.00  0.00  0.00  \n",
       "Battlezone                                          0.00  0.00  0.00  \n",
       "Adventure Time: Explore the Dungeon Because I D...  0.03  0.08  0.00  \n",
       "Stellaris                                           0.00  0.00  0.00  \n",
       "Epic Mickey 2: The Power of Two                     0.23  0.51  0.00  \n",
       "Don Bradman Cricket 14                              0.00  0.00  0.04  \n",
       "Taiko no Tatsujin: Chibi Dragon to Fushigi na Orb   0.00  0.00  0.00  \n",
       "1/2 Summer +                                        0.00  0.00  0.00  \n",
       "TV Anime Idolm@ster: Cinderella Girls G4U! Pack...  0.00  0.00  0.00  \n",
       "Teddy Together                                      0.00  0.00  0.00  \n",
       "Touch Detective: Nameko Shigeru                     0.00  0.00  0.00  \n",
       "Amagami                                             0.00  0.00  0.00  \n",
       "Warhammer: The End Times - Vermintide               0.00  0.00  0.00  \n",
       "Professional Farmer 2016                            0.00  0.00  0.00  \n",
       "Psycho-Pass                                         0.00  0.00  0.01  \n",
       "SSX                                                 0.00  0.70  0.00  \n",
       "Hyperdimension Neptunia                             0.00  0.00  0.00  \n",
       "Fighter Within                                      0.00  0.00  0.20  "
      ]
     },
     "execution_count": 43,
     "metadata": {},
     "output_type": "execute_result"
    }
   ],
   "source": [
    "#comparación de los mismo juegos entre plataformas \n",
    "#se hace una tabla pivote para poder comparar y se saca una muestra de 20 para ver el comportamiento de un juego en las distintas plataformas. \n",
    "games_pivot = new_df.pivot_table(index='name',values='total_sales',columns=\"platform\",aggfunc='sum',fill_value=0)\n",
    "games_pivot.sample(20)"
   ]
  },
  {
   "cell_type": "markdown",
   "metadata": {},
   "source": [
    "- Alcomparar las ventas de un mismo juego entre las distintas plataformas, se puede evidenciar que para la gran mayoría, un juego está diseñado solo para la plataforma en la que el juego es lanzado, por lo que no se generan ventas de ese juego dentro de otra plataforma. Existen muy pocos casos en los que un mismo juego es utilizado por 2 distintas plataformas."
   ]
  },
  {
   "cell_type": "code",
   "execution_count": 44,
   "metadata": {},
   "outputs": [
    {
     "data": {
      "text/html": [
       "<div>\n",
       "<style scoped>\n",
       "    .dataframe tbody tr th:only-of-type {\n",
       "        vertical-align: middle;\n",
       "    }\n",
       "\n",
       "    .dataframe tbody tr th {\n",
       "        vertical-align: top;\n",
       "    }\n",
       "\n",
       "    .dataframe thead th {\n",
       "        text-align: right;\n",
       "    }\n",
       "</style>\n",
       "<table border=\"1\" class=\"dataframe\">\n",
       "  <thead>\n",
       "    <tr style=\"text-align: right;\">\n",
       "      <th></th>\n",
       "      <th>genre</th>\n",
       "      <th>total_sales</th>\n",
       "    </tr>\n",
       "  </thead>\n",
       "  <tbody>\n",
       "    <tr>\n",
       "      <th>0</th>\n",
       "      <td>Action</td>\n",
       "      <td>441.12</td>\n",
       "    </tr>\n",
       "    <tr>\n",
       "      <th>8</th>\n",
       "      <td>Shooter</td>\n",
       "      <td>304.73</td>\n",
       "    </tr>\n",
       "    <tr>\n",
       "      <th>7</th>\n",
       "      <td>Role-Playing</td>\n",
       "      <td>192.80</td>\n",
       "    </tr>\n",
       "    <tr>\n",
       "      <th>10</th>\n",
       "      <td>Sports</td>\n",
       "      <td>181.07</td>\n",
       "    </tr>\n",
       "    <tr>\n",
       "      <th>3</th>\n",
       "      <td>Misc</td>\n",
       "      <td>85.04</td>\n",
       "    </tr>\n",
       "    <tr>\n",
       "      <th>4</th>\n",
       "      <td>Platform</td>\n",
       "      <td>61.00</td>\n",
       "    </tr>\n",
       "    <tr>\n",
       "      <th>6</th>\n",
       "      <td>Racing</td>\n",
       "      <td>53.50</td>\n",
       "    </tr>\n",
       "    <tr>\n",
       "      <th>2</th>\n",
       "      <td>Fighting</td>\n",
       "      <td>44.49</td>\n",
       "    </tr>\n",
       "    <tr>\n",
       "      <th>9</th>\n",
       "      <td>Simulation</td>\n",
       "      <td>35.12</td>\n",
       "    </tr>\n",
       "    <tr>\n",
       "      <th>1</th>\n",
       "      <td>Adventure</td>\n",
       "      <td>29.43</td>\n",
       "    </tr>\n",
       "    <tr>\n",
       "      <th>11</th>\n",
       "      <td>Strategy</td>\n",
       "      <td>13.34</td>\n",
       "    </tr>\n",
       "    <tr>\n",
       "      <th>5</th>\n",
       "      <td>Puzzle</td>\n",
       "      <td>4.89</td>\n",
       "    </tr>\n",
       "  </tbody>\n",
       "</table>\n",
       "</div>"
      ],
      "text/plain": [
       "           genre  total_sales\n",
       "0         Action       441.12\n",
       "8        Shooter       304.73\n",
       "7   Role-Playing       192.80\n",
       "10        Sports       181.07\n",
       "3           Misc        85.04\n",
       "4       Platform        61.00\n",
       "6         Racing        53.50\n",
       "2       Fighting        44.49\n",
       "9     Simulation        35.12\n",
       "1      Adventure        29.43\n",
       "11      Strategy        13.34\n",
       "5         Puzzle         4.89"
      ]
     },
     "execution_count": 44,
     "metadata": {},
     "output_type": "execute_result"
    }
   ],
   "source": [
    "#distribución general de juegos por genero \n",
    "#se agrupa por genero y se suman las ventas totales para identificar los generos más vendidos\n",
    "genre_df =  new_df.groupby('genre')['total_sales'].sum().reset_index()\n",
    "top_genre = genre_df.sort_values(by='total_sales', ascending=False)\n",
    "top_genre"
   ]
  },
  {
   "cell_type": "code",
   "execution_count": 45,
   "metadata": {},
   "outputs": [
    {
     "data": {
      "image/png": "[encoded data removed]",
      "text/plain": [
       "<Figure size 500x200 with 1 Axes>"
      ]
     },
     "metadata": {},
     "output_type": "display_data"
    }
   ],
   "source": [
    "#se crea un gráfico de barras para una mejor visualización de los géneros más vendidos. \n",
    "plt.figure(figsize=(5, 2))\n",
    "sns.barplot(data=top_genre, x='genre', y='total_sales')\n",
    "plt.title (\"Ventas totales por género de juegos\")\n",
    "plt.xlabel('Género')\n",
    "plt.ylabel('Ventas Totales')\n",
    "plt.xticks(rotation=75)\n",
    "plt.grid(axis='y')\n",
    "plt.show()"
   ]
  },
  {
   "cell_type": "markdown",
   "metadata": {},
   "source": [
    "- Los géneros más vendidos son: Action, Shooter, Role Playing, Sports, Misc.\n",
    "- Se podría decir que los géneros más rentables son los que generan más adrenalina y los que tienes que ir contruyendo un personaje o completando misiones. Estos juegos permiten que el usuario se enganche a largo plazo y a su vez te dan la opción de jugar en línea lo cual favorece mucho para que otros usuarios adquieran estos juegos. \n",
    "- A comparación de los juegos menos vendidos, son juegos que facilmente se lo puede hacer desde un celular y que no generan la adrenalina necesaria para enchangar a nuevos clientes."
   ]
  },
  {
   "cell_type": "markdown",
   "metadata": {},
   "source": [
    "## Análisis por región para NA, EU, JP"
   ]
  },
  {
   "cell_type": "markdown",
   "metadata": {},
   "source": [
    "### Región NA"
   ]
  },
  {
   "cell_type": "code",
   "execution_count": 46,
   "metadata": {},
   "outputs": [
    {
     "data": {
      "text/html": [
       "<div>\n",
       "<style scoped>\n",
       "    .dataframe tbody tr th:only-of-type {\n",
       "        vertical-align: middle;\n",
       "    }\n",
       "\n",
       "    .dataframe tbody tr th {\n",
       "        vertical-align: top;\n",
       "    }\n",
       "\n",
       "    .dataframe thead th {\n",
       "        text-align: right;\n",
       "    }\n",
       "</style>\n",
       "<table border=\"1\" class=\"dataframe\">\n",
       "  <thead>\n",
       "    <tr style=\"text-align: right;\">\n",
       "      <th></th>\n",
       "      <th>name</th>\n",
       "      <th>platform</th>\n",
       "      <th>year_of_release</th>\n",
       "      <th>genre</th>\n",
       "      <th>na_sales</th>\n",
       "      <th>eu_sales</th>\n",
       "      <th>jp_sales</th>\n",
       "      <th>other_sales</th>\n",
       "      <th>critic_score</th>\n",
       "      <th>user_score</th>\n",
       "      <th>rating</th>\n",
       "      <th>total_sales</th>\n",
       "    </tr>\n",
       "  </thead>\n",
       "  <tbody>\n",
       "    <tr>\n",
       "      <th>16</th>\n",
       "      <td>Grand Theft Auto V</td>\n",
       "      <td>PS3</td>\n",
       "      <td>2013</td>\n",
       "      <td>Action</td>\n",
       "      <td>7.02</td>\n",
       "      <td>9.09</td>\n",
       "      <td>0.98</td>\n",
       "      <td>3.96</td>\n",
       "      <td>97.0</td>\n",
       "      <td>8.2</td>\n",
       "      <td>M</td>\n",
       "      <td>21.05</td>\n",
       "    </tr>\n",
       "    <tr>\n",
       "      <th>23</th>\n",
       "      <td>Grand Theft Auto V</td>\n",
       "      <td>X360</td>\n",
       "      <td>2013</td>\n",
       "      <td>Action</td>\n",
       "      <td>9.66</td>\n",
       "      <td>5.14</td>\n",
       "      <td>0.06</td>\n",
       "      <td>1.41</td>\n",
       "      <td>97.0</td>\n",
       "      <td>8.1</td>\n",
       "      <td>M</td>\n",
       "      <td>16.27</td>\n",
       "    </tr>\n",
       "    <tr>\n",
       "      <th>31</th>\n",
       "      <td>Call of Duty: Black Ops 3</td>\n",
       "      <td>PS4</td>\n",
       "      <td>2015</td>\n",
       "      <td>Shooter</td>\n",
       "      <td>6.03</td>\n",
       "      <td>5.86</td>\n",
       "      <td>0.36</td>\n",
       "      <td>2.38</td>\n",
       "      <td>-1.0</td>\n",
       "      <td>-1.0</td>\n",
       "      <td>pendiente</td>\n",
       "      <td>14.63</td>\n",
       "    </tr>\n",
       "    <tr>\n",
       "      <th>33</th>\n",
       "      <td>Pokemon X/Pokemon Y</td>\n",
       "      <td>3DS</td>\n",
       "      <td>2013</td>\n",
       "      <td>Role-Playing</td>\n",
       "      <td>5.28</td>\n",
       "      <td>4.19</td>\n",
       "      <td>4.35</td>\n",
       "      <td>0.78</td>\n",
       "      <td>-1.0</td>\n",
       "      <td>-1.0</td>\n",
       "      <td>pendiente</td>\n",
       "      <td>14.60</td>\n",
       "    </tr>\n",
       "    <tr>\n",
       "      <th>34</th>\n",
       "      <td>Call of Duty: Black Ops II</td>\n",
       "      <td>PS3</td>\n",
       "      <td>2012</td>\n",
       "      <td>Shooter</td>\n",
       "      <td>4.99</td>\n",
       "      <td>5.73</td>\n",
       "      <td>0.65</td>\n",
       "      <td>2.42</td>\n",
       "      <td>83.0</td>\n",
       "      <td>5.3</td>\n",
       "      <td>M</td>\n",
       "      <td>13.79</td>\n",
       "    </tr>\n",
       "  </tbody>\n",
       "</table>\n",
       "</div>"
      ],
      "text/plain": [
       "                          name platform  year_of_release         genre  \\\n",
       "16          Grand Theft Auto V      PS3             2013        Action   \n",
       "23          Grand Theft Auto V     X360             2013        Action   \n",
       "31   Call of Duty: Black Ops 3      PS4             2015       Shooter   \n",
       "33         Pokemon X/Pokemon Y      3DS             2013  Role-Playing   \n",
       "34  Call of Duty: Black Ops II      PS3             2012       Shooter   \n",
       "\n",
       "    na_sales  eu_sales  jp_sales  other_sales  critic_score  user_score  \\\n",
       "16      7.02      9.09      0.98         3.96          97.0         8.2   \n",
       "23      9.66      5.14      0.06         1.41          97.0         8.1   \n",
       "31      6.03      5.86      0.36         2.38          -1.0        -1.0   \n",
       "33      5.28      4.19      4.35         0.78          -1.0        -1.0   \n",
       "34      4.99      5.73      0.65         2.42          83.0         5.3   \n",
       "\n",
       "       rating  total_sales  \n",
       "16          M        21.05  \n",
       "23          M        16.27  \n",
       "31  pendiente        14.63  \n",
       "33  pendiente        14.60  \n",
       "34          M        13.79  "
      ]
     },
     "execution_count": 46,
     "metadata": {},
     "output_type": "execute_result"
    }
   ],
   "source": [
    "new_df.head()"
   ]
  },
  {
   "cell_type": "code",
   "execution_count": 47,
   "metadata": {},
   "outputs": [
    {
     "data": {
      "text/html": [
       "<div>\n",
       "<style scoped>\n",
       "    .dataframe tbody tr th:only-of-type {\n",
       "        vertical-align: middle;\n",
       "    }\n",
       "\n",
       "    .dataframe tbody tr th {\n",
       "        vertical-align: top;\n",
       "    }\n",
       "\n",
       "    .dataframe thead th {\n",
       "        text-align: right;\n",
       "    }\n",
       "</style>\n",
       "<table border=\"1\" class=\"dataframe\">\n",
       "  <thead>\n",
       "    <tr style=\"text-align: right;\">\n",
       "      <th></th>\n",
       "      <th>platform</th>\n",
       "      <th>na_sales</th>\n",
       "    </tr>\n",
       "  </thead>\n",
       "  <tbody>\n",
       "    <tr>\n",
       "      <th>9</th>\n",
       "      <td>X360</td>\n",
       "      <td>140.05</td>\n",
       "    </tr>\n",
       "    <tr>\n",
       "      <th>4</th>\n",
       "      <td>PS4</td>\n",
       "      <td>108.74</td>\n",
       "    </tr>\n",
       "    <tr>\n",
       "      <th>3</th>\n",
       "      <td>PS3</td>\n",
       "      <td>103.38</td>\n",
       "    </tr>\n",
       "    <tr>\n",
       "      <th>10</th>\n",
       "      <td>XOne</td>\n",
       "      <td>93.12</td>\n",
       "    </tr>\n",
       "    <tr>\n",
       "      <th>0</th>\n",
       "      <td>3DS</td>\n",
       "      <td>55.31</td>\n",
       "    </tr>\n",
       "    <tr>\n",
       "      <th>8</th>\n",
       "      <td>WiiU</td>\n",
       "      <td>38.10</td>\n",
       "    </tr>\n",
       "    <tr>\n",
       "      <th>2</th>\n",
       "      <td>PC</td>\n",
       "      <td>19.12</td>\n",
       "    </tr>\n",
       "    <tr>\n",
       "      <th>7</th>\n",
       "      <td>Wii</td>\n",
       "      <td>17.45</td>\n",
       "    </tr>\n",
       "    <tr>\n",
       "      <th>6</th>\n",
       "      <td>PSV</td>\n",
       "      <td>10.98</td>\n",
       "    </tr>\n",
       "    <tr>\n",
       "      <th>1</th>\n",
       "      <td>DS</td>\n",
       "      <td>4.59</td>\n",
       "    </tr>\n",
       "    <tr>\n",
       "      <th>5</th>\n",
       "      <td>PSP</td>\n",
       "      <td>0.13</td>\n",
       "    </tr>\n",
       "  </tbody>\n",
       "</table>\n",
       "</div>"
      ],
      "text/plain": [
       "   platform  na_sales\n",
       "9      X360    140.05\n",
       "4       PS4    108.74\n",
       "3       PS3    103.38\n",
       "10     XOne     93.12\n",
       "0       3DS     55.31\n",
       "8      WiiU     38.10\n",
       "2        PC     19.12\n",
       "7       Wii     17.45\n",
       "6       PSV     10.98\n",
       "1        DS      4.59\n",
       "5       PSP      0.13"
      ]
     },
     "execution_count": 47,
     "metadata": {},
     "output_type": "execute_result"
    }
   ],
   "source": [
    "# se identifica las 5 plataformas principales de la región NA\n",
    "na_platform = new_df.groupby('platform')['na_sales'].sum().reset_index()\n",
    "top_na_platform = na_platform.sort_values (by = 'na_sales', ascending = False)\n",
    "top_na_platform"
   ]
  },
  {
   "cell_type": "markdown",
   "metadata": {},
   "source": [
    "- Las 5 principales plataformas en NA son X360, PS4, PS3, XOne, 3DS. Hasta ahí las ventas están entre los 90 y 150 mil. De ahí para abajo las ventas de cada plataforma bajan considerablemente. "
   ]
  },
  {
   "cell_type": "code",
   "execution_count": 48,
   "metadata": {},
   "outputs": [
    {
     "data": {
      "text/html": [
       "<div>\n",
       "<style scoped>\n",
       "    .dataframe tbody tr th:only-of-type {\n",
       "        vertical-align: middle;\n",
       "    }\n",
       "\n",
       "    .dataframe tbody tr th {\n",
       "        vertical-align: top;\n",
       "    }\n",
       "\n",
       "    .dataframe thead th {\n",
       "        text-align: right;\n",
       "    }\n",
       "</style>\n",
       "<table border=\"1\" class=\"dataframe\">\n",
       "  <thead>\n",
       "    <tr style=\"text-align: right;\">\n",
       "      <th></th>\n",
       "      <th>genre</th>\n",
       "      <th>na_sales</th>\n",
       "    </tr>\n",
       "  </thead>\n",
       "  <tbody>\n",
       "    <tr>\n",
       "      <th>0</th>\n",
       "      <td>Action</td>\n",
       "      <td>177.84</td>\n",
       "    </tr>\n",
       "    <tr>\n",
       "      <th>8</th>\n",
       "      <td>Shooter</td>\n",
       "      <td>144.77</td>\n",
       "    </tr>\n",
       "    <tr>\n",
       "      <th>10</th>\n",
       "      <td>Sports</td>\n",
       "      <td>81.53</td>\n",
       "    </tr>\n",
       "    <tr>\n",
       "      <th>7</th>\n",
       "      <td>Role-Playing</td>\n",
       "      <td>64.00</td>\n",
       "    </tr>\n",
       "    <tr>\n",
       "      <th>3</th>\n",
       "      <td>Misc</td>\n",
       "      <td>38.19</td>\n",
       "    </tr>\n",
       "    <tr>\n",
       "      <th>4</th>\n",
       "      <td>Platform</td>\n",
       "      <td>25.38</td>\n",
       "    </tr>\n",
       "    <tr>\n",
       "      <th>2</th>\n",
       "      <td>Fighting</td>\n",
       "      <td>19.79</td>\n",
       "    </tr>\n",
       "    <tr>\n",
       "      <th>6</th>\n",
       "      <td>Racing</td>\n",
       "      <td>17.22</td>\n",
       "    </tr>\n",
       "    <tr>\n",
       "      <th>1</th>\n",
       "      <td>Adventure</td>\n",
       "      <td>8.92</td>\n",
       "    </tr>\n",
       "    <tr>\n",
       "      <th>9</th>\n",
       "      <td>Simulation</td>\n",
       "      <td>7.97</td>\n",
       "    </tr>\n",
       "    <tr>\n",
       "      <th>11</th>\n",
       "      <td>Strategy</td>\n",
       "      <td>4.23</td>\n",
       "    </tr>\n",
       "    <tr>\n",
       "      <th>5</th>\n",
       "      <td>Puzzle</td>\n",
       "      <td>1.13</td>\n",
       "    </tr>\n",
       "  </tbody>\n",
       "</table>\n",
       "</div>"
      ],
      "text/plain": [
       "           genre  na_sales\n",
       "0         Action    177.84\n",
       "8        Shooter    144.77\n",
       "10        Sports     81.53\n",
       "7   Role-Playing     64.00\n",
       "3           Misc     38.19\n",
       "4       Platform     25.38\n",
       "2       Fighting     19.79\n",
       "6         Racing     17.22\n",
       "1      Adventure      8.92\n",
       "9     Simulation      7.97\n",
       "11      Strategy      4.23\n",
       "5         Puzzle      1.13"
      ]
     },
     "execution_count": 48,
     "metadata": {},
     "output_type": "execute_result"
    }
   ],
   "source": [
    "#se identifican los principales géneros \n",
    "na_genre = new_df.groupby('genre')['na_sales'].sum().reset_index()\n",
    "top_na_genre = na_genre.sort_values (by = 'na_sales', ascending = False)\n",
    "top_na_genre"
   ]
  },
  {
   "cell_type": "markdown",
   "metadata": {},
   "source": [
    "- Se puede ver que los principales 5 géneros de ventas en NA son los mismos que para las ventas globales. Estos son Action, Shooter, Role-Playing, Sports, Misc."
   ]
  },
  {
   "cell_type": "code",
   "execution_count": 61,
   "metadata": {},
   "outputs": [],
   "source": [
    "#gráfico para ver las ventas por ESRB \n",
    "#primero se excluye la categoría de \"pendiente\" que fue asignado a los valores vacios \n",
    "exclu = new_df.query(\"rating != 'pendiente'\")"
   ]
  },
  {
   "cell_type": "code",
   "execution_count": 73,
   "metadata": {},
   "outputs": [],
   "source": [
    "#se agrupa por rating y se suman las ventas de EU\n",
    "rating = exclu.groupby(['year_of_release', 'rating'])['na_sales'].sum().reset_index()"
   ]
  },
  {
   "cell_type": "code",
   "execution_count": 64,
   "metadata": {},
   "outputs": [
    {
     "data": {
      "image/png": "[encoded data removed]",
      "text/plain": [
       "<Figure size 500x200 with 1 Axes>"
      ]
     },
     "metadata": {},
     "output_type": "display_data"
    }
   ],
   "source": [
    "pivotna = rating.pivot (index = 'year_of_release', columns = 'rating', values = 'na_sales')\n",
    "pivotna.plot (kind = 'bar', xlabel = 'Año de lanzamiento', title = \"Ventas anuales en NA por categoria ESRB\", figsize = (5, 2))\n",
    "plt.show()"
   ]
  },
  {
   "cell_type": "code",
   "execution_count": 86,
   "metadata": {},
   "outputs": [
    {
     "data": {
      "image/png": "[encoded data removed]",
      "text/plain": [
       "<Figure size 500x200 with 1 Axes>"
      ]
     },
     "metadata": {},
     "output_type": "display_data"
    }
   ],
   "source": [
    "#se crea un gráfico de barras para una mejor visualización de las categorías más vendidas. \n",
    "plt.figure(figsize=(5, 2))\n",
    "sns.barplot(data= rating, x='rating', y='na_sales')\n",
    "plt.title (\"Ventas en la región NA por categoría ESRB\")\n",
    "plt.xlabel('Categoría')\n",
    "plt.ylabel('Ventas NA')\n",
    "plt.grid(axis='y')\n",
    "plt.show()"
   ]
  },
  {
   "cell_type": "markdown",
   "metadata": {},
   "source": [
    "- Mediante el gráfico se puede ver que la mayor cantidad de ventas está en los juegos categorizados para \"Maduro\" que corresponde a mayores de 17+. Sin embargo las ventas para todas las categrías han ido disminuyendo con el paso de los años."
   ]
  },
  {
   "cell_type": "markdown",
   "metadata": {},
   "source": [
    "### Región EU"
   ]
  },
  {
   "cell_type": "code",
   "execution_count": 59,
   "metadata": {},
   "outputs": [
    {
     "data": {
      "text/html": [
       "<div>\n",
       "<style scoped>\n",
       "    .dataframe tbody tr th:only-of-type {\n",
       "        vertical-align: middle;\n",
       "    }\n",
       "\n",
       "    .dataframe tbody tr th {\n",
       "        vertical-align: top;\n",
       "    }\n",
       "\n",
       "    .dataframe thead th {\n",
       "        text-align: right;\n",
       "    }\n",
       "</style>\n",
       "<table border=\"1\" class=\"dataframe\">\n",
       "  <thead>\n",
       "    <tr style=\"text-align: right;\">\n",
       "      <th></th>\n",
       "      <th>platform</th>\n",
       "      <th>eu_sales</th>\n",
       "    </tr>\n",
       "  </thead>\n",
       "  <tbody>\n",
       "    <tr>\n",
       "      <th>4</th>\n",
       "      <td>PS4</td>\n",
       "      <td>141.09</td>\n",
       "    </tr>\n",
       "    <tr>\n",
       "      <th>3</th>\n",
       "      <td>PS3</td>\n",
       "      <td>106.86</td>\n",
       "    </tr>\n",
       "    <tr>\n",
       "      <th>9</th>\n",
       "      <td>X360</td>\n",
       "      <td>74.52</td>\n",
       "    </tr>\n",
       "    <tr>\n",
       "      <th>10</th>\n",
       "      <td>XOne</td>\n",
       "      <td>51.59</td>\n",
       "    </tr>\n",
       "    <tr>\n",
       "      <th>0</th>\n",
       "      <td>3DS</td>\n",
       "      <td>42.64</td>\n",
       "    </tr>\n",
       "    <tr>\n",
       "      <th>2</th>\n",
       "      <td>PC</td>\n",
       "      <td>37.76</td>\n",
       "    </tr>\n",
       "    <tr>\n",
       "      <th>8</th>\n",
       "      <td>WiiU</td>\n",
       "      <td>25.13</td>\n",
       "    </tr>\n",
       "    <tr>\n",
       "      <th>7</th>\n",
       "      <td>Wii</td>\n",
       "      <td>11.92</td>\n",
       "    </tr>\n",
       "    <tr>\n",
       "      <th>6</th>\n",
       "      <td>PSV</td>\n",
       "      <td>11.36</td>\n",
       "    </tr>\n",
       "    <tr>\n",
       "      <th>1</th>\n",
       "      <td>DS</td>\n",
       "      <td>3.53</td>\n",
       "    </tr>\n",
       "    <tr>\n",
       "      <th>5</th>\n",
       "      <td>PSP</td>\n",
       "      <td>0.42</td>\n",
       "    </tr>\n",
       "  </tbody>\n",
       "</table>\n",
       "</div>"
      ],
      "text/plain": [
       "   platform  eu_sales\n",
       "4       PS4    141.09\n",
       "3       PS3    106.86\n",
       "9      X360     74.52\n",
       "10     XOne     51.59\n",
       "0       3DS     42.64\n",
       "2        PC     37.76\n",
       "8      WiiU     25.13\n",
       "7       Wii     11.92\n",
       "6       PSV     11.36\n",
       "1        DS      3.53\n",
       "5       PSP      0.42"
      ]
     },
     "execution_count": 59,
     "metadata": {},
     "output_type": "execute_result"
    }
   ],
   "source": [
    "# se identifica las 5 plataformas principales de la región UE\n",
    "eu_platform = new_df.groupby('platform')['eu_sales'].sum().reset_index()\n",
    "top_eu_platform = eu_platform.sort_values (by = 'eu_sales', ascending = False)\n",
    "top_eu_platform"
   ]
  },
  {
   "cell_type": "markdown",
   "metadata": {},
   "source": [
    "- Para la región de EU, las 5 principales plataformas son PS4, PS3, X360, XOne y 3DS. Se puede ver que son las mismas que para NA, a diferencia del orden. En EU PS4 toma la posición de X360 en NA, casi con el mismo número de ventas. "
   ]
  },
  {
   "cell_type": "code",
   "execution_count": 60,
   "metadata": {},
   "outputs": [
    {
     "data": {
      "text/html": [
       "<div>\n",
       "<style scoped>\n",
       "    .dataframe tbody tr th:only-of-type {\n",
       "        vertical-align: middle;\n",
       "    }\n",
       "\n",
       "    .dataframe tbody tr th {\n",
       "        vertical-align: top;\n",
       "    }\n",
       "\n",
       "    .dataframe thead th {\n",
       "        text-align: right;\n",
       "    }\n",
       "</style>\n",
       "<table border=\"1\" class=\"dataframe\">\n",
       "  <thead>\n",
       "    <tr style=\"text-align: right;\">\n",
       "      <th></th>\n",
       "      <th>genre</th>\n",
       "      <th>eu_sales</th>\n",
       "    </tr>\n",
       "  </thead>\n",
       "  <tbody>\n",
       "    <tr>\n",
       "      <th>0</th>\n",
       "      <td>Action</td>\n",
       "      <td>159.34</td>\n",
       "    </tr>\n",
       "    <tr>\n",
       "      <th>8</th>\n",
       "      <td>Shooter</td>\n",
       "      <td>113.47</td>\n",
       "    </tr>\n",
       "    <tr>\n",
       "      <th>10</th>\n",
       "      <td>Sports</td>\n",
       "      <td>69.09</td>\n",
       "    </tr>\n",
       "    <tr>\n",
       "      <th>7</th>\n",
       "      <td>Role-Playing</td>\n",
       "      <td>48.53</td>\n",
       "    </tr>\n",
       "    <tr>\n",
       "      <th>6</th>\n",
       "      <td>Racing</td>\n",
       "      <td>27.29</td>\n",
       "    </tr>\n",
       "    <tr>\n",
       "      <th>3</th>\n",
       "      <td>Misc</td>\n",
       "      <td>26.32</td>\n",
       "    </tr>\n",
       "    <tr>\n",
       "      <th>4</th>\n",
       "      <td>Platform</td>\n",
       "      <td>21.41</td>\n",
       "    </tr>\n",
       "    <tr>\n",
       "      <th>9</th>\n",
       "      <td>Simulation</td>\n",
       "      <td>14.55</td>\n",
       "    </tr>\n",
       "    <tr>\n",
       "      <th>2</th>\n",
       "      <td>Fighting</td>\n",
       "      <td>10.79</td>\n",
       "    </tr>\n",
       "    <tr>\n",
       "      <th>1</th>\n",
       "      <td>Adventure</td>\n",
       "      <td>9.46</td>\n",
       "    </tr>\n",
       "    <tr>\n",
       "      <th>11</th>\n",
       "      <td>Strategy</td>\n",
       "      <td>5.17</td>\n",
       "    </tr>\n",
       "    <tr>\n",
       "      <th>5</th>\n",
       "      <td>Puzzle</td>\n",
       "      <td>1.40</td>\n",
       "    </tr>\n",
       "  </tbody>\n",
       "</table>\n",
       "</div>"
      ],
      "text/plain": [
       "           genre  eu_sales\n",
       "0         Action    159.34\n",
       "8        Shooter    113.47\n",
       "10        Sports     69.09\n",
       "7   Role-Playing     48.53\n",
       "6         Racing     27.29\n",
       "3           Misc     26.32\n",
       "4       Platform     21.41\n",
       "9     Simulation     14.55\n",
       "2       Fighting     10.79\n",
       "1      Adventure      9.46\n",
       "11      Strategy      5.17\n",
       "5         Puzzle      1.40"
      ]
     },
     "execution_count": 60,
     "metadata": {},
     "output_type": "execute_result"
    }
   ],
   "source": [
    "#se identifican los principales géneros \n",
    "eu_genre = new_df.groupby('genre')['eu_sales'].sum().reset_index()\n",
    "top_eu_genre = eu_genre.sort_values (by = 'eu_sales', ascending = False)\n",
    "top_eu_genre"
   ]
  },
  {
   "cell_type": "markdown",
   "metadata": {},
   "source": [
    "- En cuanto a los géneros principales en EU, se mantienen los mismos que en NA, con la única diferencia que Racing entra en el top 5 en lugar de Misc."
   ]
  },
  {
   "cell_type": "code",
   "execution_count": 69,
   "metadata": {},
   "outputs": [],
   "source": [
    "#se identifica las ventas por ESRB\n",
    "#se agrupa por rating y se suman las ventas de EU\n",
    "ratingeu = exclu.groupby(['year_of_release', 'rating'])['eu_sales'].sum().reset_index()"
   ]
  },
  {
   "cell_type": "code",
   "execution_count": 81,
   "metadata": {},
   "outputs": [
    {
     "data": {
      "image/png": "[encoded data removed]",
      "text/plain": [
       "<Figure size 500x200 with 1 Axes>"
      ]
     },
     "metadata": {},
     "output_type": "display_data"
    }
   ],
   "source": [
    "#se crea una tabla pivote y un gráfico de barras\n",
    "pivoteu = ratingeu.pivot (index = 'year_of_release', columns = 'rating', values = 'eu_sales')\n",
    "pivoteu.plot (kind = 'bar', xlabel = 'Año de lanzamiento', title = \"Ventas anuales en EU por categoria ESRB\", figsize = (5, 2))\n",
    "plt.show()"
   ]
  },
  {
   "cell_type": "code",
   "execution_count": 87,
   "metadata": {},
   "outputs": [
    {
     "data": {
      "image/png": "[encoded data removed]",
      "text/plain": [
       "<Figure size 500x200 with 1 Axes>"
      ]
     },
     "metadata": {},
     "output_type": "display_data"
    }
   ],
   "source": [
    "#se crea un gráfico de barras para una mejor visualización de las categorías más vendidas. \n",
    "plt.figure(figsize=(5, 2))\n",
    "sns.barplot(data= ratingeu, x='rating', y='eu_sales')\n",
    "plt.title (\"Ventas en la región EU por categoría ESRB\")\n",
    "plt.xlabel('Categoría')\n",
    "plt.ylabel('Ventas EU')\n",
    "plt.grid(axis='y')\n",
    "plt.show()"
   ]
  },
  {
   "cell_type": "markdown",
   "metadata": {},
   "source": [
    "- Se puede observar que para EU, la categoría M o Mature 17+ también es la que mas ventas genera. Las otras categorías también se mantienen en el mismo orden de ventas generadas que para la región NA.\n"
   ]
  },
  {
   "cell_type": "markdown",
   "metadata": {},
   "source": [
    "### Región JP"
   ]
  },
  {
   "cell_type": "code",
   "execution_count": 78,
   "metadata": {},
   "outputs": [
    {
     "data": {
      "text/html": [
       "<div>\n",
       "<style scoped>\n",
       "    .dataframe tbody tr th:only-of-type {\n",
       "        vertical-align: middle;\n",
       "    }\n",
       "\n",
       "    .dataframe tbody tr th {\n",
       "        vertical-align: top;\n",
       "    }\n",
       "\n",
       "    .dataframe thead th {\n",
       "        text-align: right;\n",
       "    }\n",
       "</style>\n",
       "<table border=\"1\" class=\"dataframe\">\n",
       "  <thead>\n",
       "    <tr style=\"text-align: right;\">\n",
       "      <th></th>\n",
       "      <th>platform</th>\n",
       "      <th>jp_sales</th>\n",
       "    </tr>\n",
       "  </thead>\n",
       "  <tbody>\n",
       "    <tr>\n",
       "      <th>0</th>\n",
       "      <td>3DS</td>\n",
       "      <td>87.79</td>\n",
       "    </tr>\n",
       "    <tr>\n",
       "      <th>3</th>\n",
       "      <td>PS3</td>\n",
       "      <td>35.29</td>\n",
       "    </tr>\n",
       "    <tr>\n",
       "      <th>6</th>\n",
       "      <td>PSV</td>\n",
       "      <td>21.04</td>\n",
       "    </tr>\n",
       "    <tr>\n",
       "      <th>4</th>\n",
       "      <td>PS4</td>\n",
       "      <td>15.96</td>\n",
       "    </tr>\n",
       "    <tr>\n",
       "      <th>8</th>\n",
       "      <td>WiiU</td>\n",
       "      <td>13.01</td>\n",
       "    </tr>\n",
       "    <tr>\n",
       "      <th>5</th>\n",
       "      <td>PSP</td>\n",
       "      <td>10.47</td>\n",
       "    </tr>\n",
       "    <tr>\n",
       "      <th>1</th>\n",
       "      <td>DS</td>\n",
       "      <td>3.72</td>\n",
       "    </tr>\n",
       "    <tr>\n",
       "      <th>7</th>\n",
       "      <td>Wii</td>\n",
       "      <td>3.39</td>\n",
       "    </tr>\n",
       "    <tr>\n",
       "      <th>9</th>\n",
       "      <td>X360</td>\n",
       "      <td>1.57</td>\n",
       "    </tr>\n",
       "    <tr>\n",
       "      <th>10</th>\n",
       "      <td>XOne</td>\n",
       "      <td>0.34</td>\n",
       "    </tr>\n",
       "    <tr>\n",
       "      <th>2</th>\n",
       "      <td>PC</td>\n",
       "      <td>0.00</td>\n",
       "    </tr>\n",
       "  </tbody>\n",
       "</table>\n",
       "</div>"
      ],
      "text/plain": [
       "   platform  jp_sales\n",
       "0       3DS     87.79\n",
       "3       PS3     35.29\n",
       "6       PSV     21.04\n",
       "4       PS4     15.96\n",
       "8      WiiU     13.01\n",
       "5       PSP     10.47\n",
       "1        DS      3.72\n",
       "7       Wii      3.39\n",
       "9      X360      1.57\n",
       "10     XOne      0.34\n",
       "2        PC      0.00"
      ]
     },
     "execution_count": 78,
     "metadata": {},
     "output_type": "execute_result"
    }
   ],
   "source": [
    "# se identifica las 5 plataformas principales de la región JP\n",
    "jp_platform = new_df.groupby('platform')['jp_sales'].sum().reset_index()\n",
    "top_jp_platform = jp_platform.sort_values (by = 'jp_sales', ascending = False)\n",
    "top_jp_platform"
   ]
  },
  {
   "cell_type": "markdown",
   "metadata": {},
   "source": [
    "- A diferencia de las otras 2 regiones, para JP se puede ver que las ventas son menores en general. En esta región si cambian las principales 5, las cuales vienen a ser: 3DS como la primera, PS3, PSV, PS4 y WiiU, quedando por fuera Xbox."
   ]
  },
  {
   "cell_type": "code",
   "execution_count": 79,
   "metadata": {},
   "outputs": [
    {
     "data": {
      "text/html": [
       "<div>\n",
       "<style scoped>\n",
       "    .dataframe tbody tr th:only-of-type {\n",
       "        vertical-align: middle;\n",
       "    }\n",
       "\n",
       "    .dataframe tbody tr th {\n",
       "        vertical-align: top;\n",
       "    }\n",
       "\n",
       "    .dataframe thead th {\n",
       "        text-align: right;\n",
       "    }\n",
       "</style>\n",
       "<table border=\"1\" class=\"dataframe\">\n",
       "  <thead>\n",
       "    <tr style=\"text-align: right;\">\n",
       "      <th></th>\n",
       "      <th>genre</th>\n",
       "      <th>jp_sales</th>\n",
       "    </tr>\n",
       "  </thead>\n",
       "  <tbody>\n",
       "    <tr>\n",
       "      <th>7</th>\n",
       "      <td>Role-Playing</td>\n",
       "      <td>65.44</td>\n",
       "    </tr>\n",
       "    <tr>\n",
       "      <th>0</th>\n",
       "      <td>Action</td>\n",
       "      <td>52.80</td>\n",
       "    </tr>\n",
       "    <tr>\n",
       "      <th>3</th>\n",
       "      <td>Misc</td>\n",
       "      <td>12.86</td>\n",
       "    </tr>\n",
       "    <tr>\n",
       "      <th>9</th>\n",
       "      <td>Simulation</td>\n",
       "      <td>10.41</td>\n",
       "    </tr>\n",
       "    <tr>\n",
       "      <th>2</th>\n",
       "      <td>Fighting</td>\n",
       "      <td>9.44</td>\n",
       "    </tr>\n",
       "    <tr>\n",
       "      <th>8</th>\n",
       "      <td>Shooter</td>\n",
       "      <td>9.23</td>\n",
       "    </tr>\n",
       "    <tr>\n",
       "      <th>4</th>\n",
       "      <td>Platform</td>\n",
       "      <td>8.63</td>\n",
       "    </tr>\n",
       "    <tr>\n",
       "      <th>1</th>\n",
       "      <td>Adventure</td>\n",
       "      <td>8.24</td>\n",
       "    </tr>\n",
       "    <tr>\n",
       "      <th>10</th>\n",
       "      <td>Sports</td>\n",
       "      <td>8.01</td>\n",
       "    </tr>\n",
       "    <tr>\n",
       "      <th>11</th>\n",
       "      <td>Strategy</td>\n",
       "      <td>2.88</td>\n",
       "    </tr>\n",
       "    <tr>\n",
       "      <th>6</th>\n",
       "      <td>Racing</td>\n",
       "      <td>2.50</td>\n",
       "    </tr>\n",
       "    <tr>\n",
       "      <th>5</th>\n",
       "      <td>Puzzle</td>\n",
       "      <td>2.14</td>\n",
       "    </tr>\n",
       "  </tbody>\n",
       "</table>\n",
       "</div>"
      ],
      "text/plain": [
       "           genre  jp_sales\n",
       "7   Role-Playing     65.44\n",
       "0         Action     52.80\n",
       "3           Misc     12.86\n",
       "9     Simulation     10.41\n",
       "2       Fighting      9.44\n",
       "8        Shooter      9.23\n",
       "4       Platform      8.63\n",
       "1      Adventure      8.24\n",
       "10        Sports      8.01\n",
       "11      Strategy      2.88\n",
       "6         Racing      2.50\n",
       "5         Puzzle      2.14"
      ]
     },
     "execution_count": 79,
     "metadata": {},
     "output_type": "execute_result"
    }
   ],
   "source": [
    "#se identifican los principales géneros \n",
    "jp_genre = new_df.groupby('genre')['jp_sales'].sum().reset_index()\n",
    "top_jp_genre = jp_genre.sort_values (by = 'jp_sales', ascending = False)\n",
    "top_jp_genre"
   ]
  },
  {
   "cell_type": "markdown",
   "metadata": {},
   "source": [
    "- Para los géneros, también hay una diferencia entre los primeros 5. Estos son: Role-Playing, Action, Misc y Simulation y Fighting que no estaban entre las principales de las otras 2 regiones. "
   ]
  },
  {
   "cell_type": "code",
   "execution_count": 84,
   "metadata": {},
   "outputs": [],
   "source": [
    "#se identifica las ventas por ESRB\n",
    "#se agrupa por rating y se suman las ventas de JP\n",
    "ratingjp = exclu.groupby(['year_of_release', 'rating'])['jp_sales'].sum().reset_index()"
   ]
  },
  {
   "cell_type": "code",
   "execution_count": 82,
   "metadata": {},
   "outputs": [
    {
     "data": {
      "image/png": "[encoded data removed]",
      "text/plain": [
       "<Figure size 500x200 with 1 Axes>"
      ]
     },
     "metadata": {},
     "output_type": "display_data"
    }
   ],
   "source": [
    "#se crea una tabla pivote y un gráfico de barras\n",
    "pivotjp = ratingjp.pivot (index = 'year_of_release', columns = 'rating', values = 'jp_sales')\n",
    "pivotjp.plot (kind = 'bar', xlabel = 'Año de lanzamiento', title = \"Ventas anuales en JP por categoria ESRB\", figsize = (5, 2))\n",
    "plt.show()"
   ]
  },
  {
   "cell_type": "code",
   "execution_count": 88,
   "metadata": {},
   "outputs": [
    {
     "data": {
      "image/png": "[encoded data removed]",
      "text/plain": [
       "<Figure size 500x200 with 1 Axes>"
      ]
     },
     "metadata": {},
     "output_type": "display_data"
    }
   ],
   "source": [
    "#se crea un gráfico de barras para una mejor visualización de las categorías más vendidas. \n",
    "plt.figure(figsize=(5, 2))\n",
    "sns.barplot(data= ratingjp, x='rating', y='jp_sales')\n",
    "plt.title (\"Ventas en la región JP por categoría ESRB\")\n",
    "plt.xlabel('Categoría')\n",
    "plt.ylabel('Ventas JP')\n",
    "plt.grid(axis='y')\n",
    "plt.show()"
   ]
  },
  {
   "cell_type": "markdown",
   "metadata": {},
   "source": [
    "- A diferencia de las otras regiones, para JP la principal categoría vendida es E que significa \"Todos\", seguido de T que es \"Adolecentes\", la cual era una categoría con ventas bajas en las otras regiones. "
   ]
  },
  {
   "cell_type": "markdown",
   "metadata": {},
   "source": [
    "- Respecto a las principales plataformas con mayores ventas para las diferentes regiones, se pudo observar que tanto NA y EU tienen las mismas plataformas en el top 5 y que sus ventas en ambas regiones son similares. NA es la región que más ventas genera en total. Comparando con JP, se mantienen 3DS, PS3 y PS4 y las otras 2 son distintas. Se puede ver que las ventas en JP con significativamente menores que en las otras 2 regiones. \n",
    "\n",
    "- Para los géneros, al igual que con las plataformas, para NA y EU se mantienen casi los mismos géneros de preferencia, donde solo Racing toma la posición de Misc. Esta categorización se puede ver que es prácticamente la misma que se obtuvo para las ventas globales por género. Respecto a JP,los géneros simulation y fighting entran en el top 5 los cuales no estaban en las otras regiones. Se podría decir que la cultura entre estas regiones tiene una importancia considerable en cuanto a los gustos y gastos generados en videojuegos. \n",
    "\n",
    "- Respecto a las ventas por categorización de ESRB, al igual que en las anteriores 2, para NA y EU las ventas son similares para las categorías donde la mayor vendida es M que es \"Maduro 17+\". A diferencia de JP donde la principal categoría vendida es E que significa \"Todos\". Esto también se ve reflejado en la cultura y enseñanzas de dichas regiones. Donde NA y EU podrían llegar a compartir similitudes, cosa que no se puede decir con la región de JP."
   ]
  },
  {
   "cell_type": "markdown",
   "metadata": {},
   "source": [
    "## Prueba de hipótesis"
   ]
  },
  {
   "cell_type": "markdown",
   "metadata": {},
   "source": [
    "### Las calificaciones promedio de los usuarios para las plataformas Xbox One y PC son las mismas."
   ]
  },
  {
   "cell_type": "markdown",
   "metadata": {},
   "source": [
    "Se define la hipóteis nula y alternativa \n",
    "- H0: Las calificaciones promedio de los usuarios para las plataformas Xbox One y PC con las mismas. \n",
    "- Ha: Las calificaciones promedio de los usuarios para las plataformas Xbox One y PC son distintas. "
   ]
  },
  {
   "cell_type": "code",
   "execution_count": 89,
   "metadata": {},
   "outputs": [
    {
     "data": {
      "text/html": [
       "<div>\n",
       "<style scoped>\n",
       "    .dataframe tbody tr th:only-of-type {\n",
       "        vertical-align: middle;\n",
       "    }\n",
       "\n",
       "    .dataframe tbody tr th {\n",
       "        vertical-align: top;\n",
       "    }\n",
       "\n",
       "    .dataframe thead th {\n",
       "        text-align: right;\n",
       "    }\n",
       "</style>\n",
       "<table border=\"1\" class=\"dataframe\">\n",
       "  <thead>\n",
       "    <tr style=\"text-align: right;\">\n",
       "      <th></th>\n",
       "      <th>name</th>\n",
       "      <th>platform</th>\n",
       "      <th>year_of_release</th>\n",
       "      <th>genre</th>\n",
       "      <th>na_sales</th>\n",
       "      <th>eu_sales</th>\n",
       "      <th>jp_sales</th>\n",
       "      <th>other_sales</th>\n",
       "      <th>critic_score</th>\n",
       "      <th>user_score</th>\n",
       "      <th>rating</th>\n",
       "      <th>total_sales</th>\n",
       "    </tr>\n",
       "  </thead>\n",
       "  <tbody>\n",
       "    <tr>\n",
       "      <th>16</th>\n",
       "      <td>Grand Theft Auto V</td>\n",
       "      <td>PS3</td>\n",
       "      <td>2013</td>\n",
       "      <td>Action</td>\n",
       "      <td>7.02</td>\n",
       "      <td>9.09</td>\n",
       "      <td>0.98</td>\n",
       "      <td>3.96</td>\n",
       "      <td>97.0</td>\n",
       "      <td>8.2</td>\n",
       "      <td>M</td>\n",
       "      <td>21.05</td>\n",
       "    </tr>\n",
       "    <tr>\n",
       "      <th>23</th>\n",
       "      <td>Grand Theft Auto V</td>\n",
       "      <td>X360</td>\n",
       "      <td>2013</td>\n",
       "      <td>Action</td>\n",
       "      <td>9.66</td>\n",
       "      <td>5.14</td>\n",
       "      <td>0.06</td>\n",
       "      <td>1.41</td>\n",
       "      <td>97.0</td>\n",
       "      <td>8.1</td>\n",
       "      <td>M</td>\n",
       "      <td>16.27</td>\n",
       "    </tr>\n",
       "    <tr>\n",
       "      <th>31</th>\n",
       "      <td>Call of Duty: Black Ops 3</td>\n",
       "      <td>PS4</td>\n",
       "      <td>2015</td>\n",
       "      <td>Shooter</td>\n",
       "      <td>6.03</td>\n",
       "      <td>5.86</td>\n",
       "      <td>0.36</td>\n",
       "      <td>2.38</td>\n",
       "      <td>-1.0</td>\n",
       "      <td>-1.0</td>\n",
       "      <td>pendiente</td>\n",
       "      <td>14.63</td>\n",
       "    </tr>\n",
       "    <tr>\n",
       "      <th>33</th>\n",
       "      <td>Pokemon X/Pokemon Y</td>\n",
       "      <td>3DS</td>\n",
       "      <td>2013</td>\n",
       "      <td>Role-Playing</td>\n",
       "      <td>5.28</td>\n",
       "      <td>4.19</td>\n",
       "      <td>4.35</td>\n",
       "      <td>0.78</td>\n",
       "      <td>-1.0</td>\n",
       "      <td>-1.0</td>\n",
       "      <td>pendiente</td>\n",
       "      <td>14.60</td>\n",
       "    </tr>\n",
       "    <tr>\n",
       "      <th>34</th>\n",
       "      <td>Call of Duty: Black Ops II</td>\n",
       "      <td>PS3</td>\n",
       "      <td>2012</td>\n",
       "      <td>Shooter</td>\n",
       "      <td>4.99</td>\n",
       "      <td>5.73</td>\n",
       "      <td>0.65</td>\n",
       "      <td>2.42</td>\n",
       "      <td>83.0</td>\n",
       "      <td>5.3</td>\n",
       "      <td>M</td>\n",
       "      <td>13.79</td>\n",
       "    </tr>\n",
       "  </tbody>\n",
       "</table>\n",
       "</div>"
      ],
      "text/plain": [
       "                          name platform  year_of_release         genre  \\\n",
       "16          Grand Theft Auto V      PS3             2013        Action   \n",
       "23          Grand Theft Auto V     X360             2013        Action   \n",
       "31   Call of Duty: Black Ops 3      PS4             2015       Shooter   \n",
       "33         Pokemon X/Pokemon Y      3DS             2013  Role-Playing   \n",
       "34  Call of Duty: Black Ops II      PS3             2012       Shooter   \n",
       "\n",
       "    na_sales  eu_sales  jp_sales  other_sales  critic_score  user_score  \\\n",
       "16      7.02      9.09      0.98         3.96          97.0         8.2   \n",
       "23      9.66      5.14      0.06         1.41          97.0         8.1   \n",
       "31      6.03      5.86      0.36         2.38          -1.0        -1.0   \n",
       "33      5.28      4.19      4.35         0.78          -1.0        -1.0   \n",
       "34      4.99      5.73      0.65         2.42          83.0         5.3   \n",
       "\n",
       "       rating  total_sales  \n",
       "16          M        21.05  \n",
       "23          M        16.27  \n",
       "31  pendiente        14.63  \n",
       "33  pendiente        14.60  \n",
       "34          M        13.79  "
      ]
     },
     "execution_count": 89,
     "metadata": {},
     "output_type": "execute_result"
    }
   ],
   "source": [
    "new_df.head()"
   ]
  },
  {
   "cell_type": "code",
   "execution_count": 91,
   "metadata": {},
   "outputs": [
    {
     "data": {
      "text/html": [
       "<div>\n",
       "<style scoped>\n",
       "    .dataframe tbody tr th:only-of-type {\n",
       "        vertical-align: middle;\n",
       "    }\n",
       "\n",
       "    .dataframe tbody tr th {\n",
       "        vertical-align: top;\n",
       "    }\n",
       "\n",
       "    .dataframe thead th {\n",
       "        text-align: right;\n",
       "    }\n",
       "</style>\n",
       "<table border=\"1\" class=\"dataframe\">\n",
       "  <thead>\n",
       "    <tr style=\"text-align: right;\">\n",
       "      <th></th>\n",
       "      <th>name</th>\n",
       "      <th>platform</th>\n",
       "      <th>year_of_release</th>\n",
       "      <th>genre</th>\n",
       "      <th>na_sales</th>\n",
       "      <th>eu_sales</th>\n",
       "      <th>jp_sales</th>\n",
       "      <th>other_sales</th>\n",
       "      <th>critic_score</th>\n",
       "      <th>user_score</th>\n",
       "      <th>rating</th>\n",
       "      <th>total_sales</th>\n",
       "    </tr>\n",
       "  </thead>\n",
       "  <tbody>\n",
       "    <tr>\n",
       "      <th>165</th>\n",
       "      <td>Grand Theft Auto V</td>\n",
       "      <td>XOne</td>\n",
       "      <td>2014</td>\n",
       "      <td>Action</td>\n",
       "      <td>2.81</td>\n",
       "      <td>2.19</td>\n",
       "      <td>0.00</td>\n",
       "      <td>0.47</td>\n",
       "      <td>97.0</td>\n",
       "      <td>7.9</td>\n",
       "      <td>M</td>\n",
       "      <td>5.47</td>\n",
       "    </tr>\n",
       "    <tr>\n",
       "      <th>179</th>\n",
       "      <td>Call of Duty: Advanced Warfare</td>\n",
       "      <td>XOne</td>\n",
       "      <td>2014</td>\n",
       "      <td>Shooter</td>\n",
       "      <td>3.22</td>\n",
       "      <td>1.55</td>\n",
       "      <td>0.01</td>\n",
       "      <td>0.48</td>\n",
       "      <td>81.0</td>\n",
       "      <td>5.4</td>\n",
       "      <td>M</td>\n",
       "      <td>5.26</td>\n",
       "    </tr>\n",
       "    <tr>\n",
       "      <th>242</th>\n",
       "      <td>Halo 5: Guardians</td>\n",
       "      <td>XOne</td>\n",
       "      <td>2015</td>\n",
       "      <td>Shooter</td>\n",
       "      <td>2.78</td>\n",
       "      <td>1.27</td>\n",
       "      <td>0.03</td>\n",
       "      <td>0.41</td>\n",
       "      <td>84.0</td>\n",
       "      <td>6.4</td>\n",
       "      <td>T</td>\n",
       "      <td>4.49</td>\n",
       "    </tr>\n",
       "    <tr>\n",
       "      <th>270</th>\n",
       "      <td>Fallout 4</td>\n",
       "      <td>XOne</td>\n",
       "      <td>2015</td>\n",
       "      <td>Role-Playing</td>\n",
       "      <td>2.51</td>\n",
       "      <td>1.32</td>\n",
       "      <td>0.01</td>\n",
       "      <td>0.38</td>\n",
       "      <td>88.0</td>\n",
       "      <td>6.2</td>\n",
       "      <td>M</td>\n",
       "      <td>4.22</td>\n",
       "    </tr>\n",
       "    <tr>\n",
       "      <th>373</th>\n",
       "      <td>Assassin's Creed: Unity</td>\n",
       "      <td>XOne</td>\n",
       "      <td>2014</td>\n",
       "      <td>Action</td>\n",
       "      <td>2.27</td>\n",
       "      <td>0.90</td>\n",
       "      <td>0.00</td>\n",
       "      <td>0.33</td>\n",
       "      <td>72.0</td>\n",
       "      <td>4.1</td>\n",
       "      <td>M</td>\n",
       "      <td>3.50</td>\n",
       "    </tr>\n",
       "    <tr>\n",
       "      <th>...</th>\n",
       "      <td>...</td>\n",
       "      <td>...</td>\n",
       "      <td>...</td>\n",
       "      <td>...</td>\n",
       "      <td>...</td>\n",
       "      <td>...</td>\n",
       "      <td>...</td>\n",
       "      <td>...</td>\n",
       "      <td>...</td>\n",
       "      <td>...</td>\n",
       "      <td>...</td>\n",
       "      <td>...</td>\n",
       "    </tr>\n",
       "    <tr>\n",
       "      <th>16544</th>\n",
       "      <td>Assassin's Creed Chronicles</td>\n",
       "      <td>XOne</td>\n",
       "      <td>2016</td>\n",
       "      <td>Action</td>\n",
       "      <td>0.00</td>\n",
       "      <td>0.01</td>\n",
       "      <td>0.00</td>\n",
       "      <td>0.00</td>\n",
       "      <td>-1.0</td>\n",
       "      <td>6.8</td>\n",
       "      <td>T</td>\n",
       "      <td>0.01</td>\n",
       "    </tr>\n",
       "    <tr>\n",
       "      <th>16597</th>\n",
       "      <td>Saints Row: Gat out of Hell</td>\n",
       "      <td>XOne</td>\n",
       "      <td>2015</td>\n",
       "      <td>Action</td>\n",
       "      <td>0.00</td>\n",
       "      <td>0.01</td>\n",
       "      <td>0.00</td>\n",
       "      <td>0.00</td>\n",
       "      <td>65.0</td>\n",
       "      <td>6.0</td>\n",
       "      <td>M</td>\n",
       "      <td>0.01</td>\n",
       "    </tr>\n",
       "    <tr>\n",
       "      <th>16630</th>\n",
       "      <td>Sébastien Loeb Rally Evo</td>\n",
       "      <td>XOne</td>\n",
       "      <td>2016</td>\n",
       "      <td>Racing</td>\n",
       "      <td>0.00</td>\n",
       "      <td>0.01</td>\n",
       "      <td>0.00</td>\n",
       "      <td>0.00</td>\n",
       "      <td>63.0</td>\n",
       "      <td>8.2</td>\n",
       "      <td>E</td>\n",
       "      <td>0.01</td>\n",
       "    </tr>\n",
       "    <tr>\n",
       "      <th>16643</th>\n",
       "      <td>Rugby Challenge 3</td>\n",
       "      <td>XOne</td>\n",
       "      <td>2016</td>\n",
       "      <td>Sports</td>\n",
       "      <td>0.00</td>\n",
       "      <td>0.01</td>\n",
       "      <td>0.00</td>\n",
       "      <td>0.00</td>\n",
       "      <td>-1.0</td>\n",
       "      <td>6.6</td>\n",
       "      <td>E</td>\n",
       "      <td>0.01</td>\n",
       "    </tr>\n",
       "    <tr>\n",
       "      <th>16660</th>\n",
       "      <td>Prison Architect</td>\n",
       "      <td>XOne</td>\n",
       "      <td>2016</td>\n",
       "      <td>Action</td>\n",
       "      <td>0.01</td>\n",
       "      <td>0.00</td>\n",
       "      <td>0.00</td>\n",
       "      <td>0.00</td>\n",
       "      <td>74.0</td>\n",
       "      <td>6.7</td>\n",
       "      <td>pendiente</td>\n",
       "      <td>0.01</td>\n",
       "    </tr>\n",
       "  </tbody>\n",
       "</table>\n",
       "<p>182 rows × 12 columns</p>\n",
       "</div>"
      ],
      "text/plain": [
       "                                 name platform  year_of_release         genre  \\\n",
       "165                Grand Theft Auto V     XOne             2014        Action   \n",
       "179    Call of Duty: Advanced Warfare     XOne             2014       Shooter   \n",
       "242                 Halo 5: Guardians     XOne             2015       Shooter   \n",
       "270                         Fallout 4     XOne             2015  Role-Playing   \n",
       "373           Assassin's Creed: Unity     XOne             2014        Action   \n",
       "...                               ...      ...              ...           ...   \n",
       "16544     Assassin's Creed Chronicles     XOne             2016        Action   \n",
       "16597     Saints Row: Gat out of Hell     XOne             2015        Action   \n",
       "16630        Sébastien Loeb Rally Evo     XOne             2016        Racing   \n",
       "16643               Rugby Challenge 3     XOne             2016        Sports   \n",
       "16660                Prison Architect     XOne             2016        Action   \n",
       "\n",
       "       na_sales  eu_sales  jp_sales  other_sales  critic_score  user_score  \\\n",
       "165        2.81      2.19      0.00         0.47          97.0         7.9   \n",
       "179        3.22      1.55      0.01         0.48          81.0         5.4   \n",
       "242        2.78      1.27      0.03         0.41          84.0         6.4   \n",
       "270        2.51      1.32      0.01         0.38          88.0         6.2   \n",
       "373        2.27      0.90      0.00         0.33          72.0         4.1   \n",
       "...         ...       ...       ...          ...           ...         ...   \n",
       "16544      0.00      0.01      0.00         0.00          -1.0         6.8   \n",
       "16597      0.00      0.01      0.00         0.00          65.0         6.0   \n",
       "16630      0.00      0.01      0.00         0.00          63.0         8.2   \n",
       "16643      0.00      0.01      0.00         0.00          -1.0         6.6   \n",
       "16660      0.01      0.00      0.00         0.00          74.0         6.7   \n",
       "\n",
       "          rating  total_sales  \n",
       "165            M         5.47  \n",
       "179            M         5.26  \n",
       "242            T         4.49  \n",
       "270            M         4.22  \n",
       "373            M         3.50  \n",
       "...          ...          ...  \n",
       "16544          T         0.01  \n",
       "16597          M         0.01  \n",
       "16630          E         0.01  \n",
       "16643          E         0.01  \n",
       "16660  pendiente         0.01  \n",
       "\n",
       "[182 rows x 12 columns]"
      ]
     },
     "execution_count": 91,
     "metadata": {},
     "output_type": "execute_result"
    }
   ],
   "source": [
    "#Se crea una tabla solo con la información para la plataforma XOne. \n",
    "#Se utiliza el dataframe df_excluido donde ya se excluye los user_score de -1 que se relleno inicialmente.\n",
    "xone = df_excluido[df_excluido['platform'] == 'XOne']\n",
    "xone"
   ]
  },
  {
   "cell_type": "code",
   "execution_count": 97,
   "metadata": {},
   "outputs": [
    {
     "name": "stdout",
     "output_type": "stream",
     "text": [
      "La varianza de user score para la plataforma XOne es: 1.8965188383045526\n"
     ]
    }
   ],
   "source": [
    "#se calcula la varianza de mi muestra para user_score de XOne\n",
    "varianza1 = np.var(xone['user_score'])\n",
    "print ('La varianza de user score para la plataforma XOne es:', varianza1)"
   ]
  },
  {
   "cell_type": "code",
   "execution_count": 98,
   "metadata": {},
   "outputs": [
    {
     "name": "stdout",
     "output_type": "stream",
     "text": [
      "La desviacion estandar de user score para la plataforma XOne es: 1.380940564592144\n"
     ]
    }
   ],
   "source": [
    "#se calcula la desviacion estandar de XOne\n",
    "XOne = xone.describe()\n",
    "print ('La desviacion estandar de user score para la plataforma XOne es:',  XOne.loc ['std', 'user_score'])"
   ]
  },
  {
   "cell_type": "code",
   "execution_count": 99,
   "metadata": {},
   "outputs": [
    {
     "data": {
      "text/html": [
       "<div>\n",
       "<style scoped>\n",
       "    .dataframe tbody tr th:only-of-type {\n",
       "        vertical-align: middle;\n",
       "    }\n",
       "\n",
       "    .dataframe tbody tr th {\n",
       "        vertical-align: top;\n",
       "    }\n",
       "\n",
       "    .dataframe thead th {\n",
       "        text-align: right;\n",
       "    }\n",
       "</style>\n",
       "<table border=\"1\" class=\"dataframe\">\n",
       "  <thead>\n",
       "    <tr style=\"text-align: right;\">\n",
       "      <th></th>\n",
       "      <th>name</th>\n",
       "      <th>platform</th>\n",
       "      <th>year_of_release</th>\n",
       "      <th>genre</th>\n",
       "      <th>na_sales</th>\n",
       "      <th>eu_sales</th>\n",
       "      <th>jp_sales</th>\n",
       "      <th>other_sales</th>\n",
       "      <th>critic_score</th>\n",
       "      <th>user_score</th>\n",
       "      <th>rating</th>\n",
       "      <th>total_sales</th>\n",
       "    </tr>\n",
       "  </thead>\n",
       "  <tbody>\n",
       "    <tr>\n",
       "      <th>192</th>\n",
       "      <td>Diablo III</td>\n",
       "      <td>PC</td>\n",
       "      <td>2012</td>\n",
       "      <td>Role-Playing</td>\n",
       "      <td>2.44</td>\n",
       "      <td>2.16</td>\n",
       "      <td>0.0</td>\n",
       "      <td>0.54</td>\n",
       "      <td>88.0</td>\n",
       "      <td>4.0</td>\n",
       "      <td>M</td>\n",
       "      <td>5.14</td>\n",
       "    </tr>\n",
       "    <tr>\n",
       "      <th>458</th>\n",
       "      <td>The Sims 4</td>\n",
       "      <td>PC</td>\n",
       "      <td>2014</td>\n",
       "      <td>Simulation</td>\n",
       "      <td>1.00</td>\n",
       "      <td>1.82</td>\n",
       "      <td>0.0</td>\n",
       "      <td>0.23</td>\n",
       "      <td>70.0</td>\n",
       "      <td>3.9</td>\n",
       "      <td>T</td>\n",
       "      <td>3.05</td>\n",
       "    </tr>\n",
       "    <tr>\n",
       "      <th>688</th>\n",
       "      <td>Guild Wars 2</td>\n",
       "      <td>PC</td>\n",
       "      <td>2012</td>\n",
       "      <td>Action</td>\n",
       "      <td>0.96</td>\n",
       "      <td>1.07</td>\n",
       "      <td>0.0</td>\n",
       "      <td>0.27</td>\n",
       "      <td>90.0</td>\n",
       "      <td>7.9</td>\n",
       "      <td>T</td>\n",
       "      <td>2.30</td>\n",
       "    </tr>\n",
       "    <tr>\n",
       "      <th>959</th>\n",
       "      <td>World of Warcraft: Mists of Pandaria</td>\n",
       "      <td>PC</td>\n",
       "      <td>2012</td>\n",
       "      <td>Role-Playing</td>\n",
       "      <td>0.84</td>\n",
       "      <td>0.76</td>\n",
       "      <td>0.0</td>\n",
       "      <td>0.22</td>\n",
       "      <td>82.0</td>\n",
       "      <td>4.8</td>\n",
       "      <td>T</td>\n",
       "      <td>1.82</td>\n",
       "    </tr>\n",
       "    <tr>\n",
       "      <th>1095</th>\n",
       "      <td>StarCraft II: Heart of the Swarm</td>\n",
       "      <td>PC</td>\n",
       "      <td>2013</td>\n",
       "      <td>Strategy</td>\n",
       "      <td>0.83</td>\n",
       "      <td>0.66</td>\n",
       "      <td>0.0</td>\n",
       "      <td>0.18</td>\n",
       "      <td>86.0</td>\n",
       "      <td>7.9</td>\n",
       "      <td>T</td>\n",
       "      <td>1.67</td>\n",
       "    </tr>\n",
       "    <tr>\n",
       "      <th>...</th>\n",
       "      <td>...</td>\n",
       "      <td>...</td>\n",
       "      <td>...</td>\n",
       "      <td>...</td>\n",
       "      <td>...</td>\n",
       "      <td>...</td>\n",
       "      <td>...</td>\n",
       "      <td>...</td>\n",
       "      <td>...</td>\n",
       "      <td>...</td>\n",
       "      <td>...</td>\n",
       "      <td>...</td>\n",
       "    </tr>\n",
       "    <tr>\n",
       "      <th>16463</th>\n",
       "      <td>TrackMania Turbo</td>\n",
       "      <td>PC</td>\n",
       "      <td>2016</td>\n",
       "      <td>Action</td>\n",
       "      <td>0.00</td>\n",
       "      <td>0.01</td>\n",
       "      <td>0.0</td>\n",
       "      <td>0.00</td>\n",
       "      <td>79.0</td>\n",
       "      <td>6.8</td>\n",
       "      <td>E</td>\n",
       "      <td>0.01</td>\n",
       "    </tr>\n",
       "    <tr>\n",
       "      <th>16509</th>\n",
       "      <td>Ride 2</td>\n",
       "      <td>PC</td>\n",
       "      <td>2016</td>\n",
       "      <td>Racing</td>\n",
       "      <td>0.00</td>\n",
       "      <td>0.01</td>\n",
       "      <td>0.0</td>\n",
       "      <td>0.00</td>\n",
       "      <td>78.0</td>\n",
       "      <td>7.9</td>\n",
       "      <td>E</td>\n",
       "      <td>0.01</td>\n",
       "    </tr>\n",
       "    <tr>\n",
       "      <th>16518</th>\n",
       "      <td>Rugby World Cup 2015</td>\n",
       "      <td>PC</td>\n",
       "      <td>2015</td>\n",
       "      <td>Sports</td>\n",
       "      <td>0.00</td>\n",
       "      <td>0.01</td>\n",
       "      <td>0.0</td>\n",
       "      <td>0.00</td>\n",
       "      <td>-1.0</td>\n",
       "      <td>1.4</td>\n",
       "      <td>E</td>\n",
       "      <td>0.01</td>\n",
       "    </tr>\n",
       "    <tr>\n",
       "      <th>16584</th>\n",
       "      <td>Transformers: Fall of Cybertron</td>\n",
       "      <td>PC</td>\n",
       "      <td>2012</td>\n",
       "      <td>Action</td>\n",
       "      <td>0.01</td>\n",
       "      <td>0.00</td>\n",
       "      <td>0.0</td>\n",
       "      <td>0.00</td>\n",
       "      <td>78.0</td>\n",
       "      <td>7.9</td>\n",
       "      <td>T</td>\n",
       "      <td>0.01</td>\n",
       "    </tr>\n",
       "    <tr>\n",
       "      <th>16692</th>\n",
       "      <td>Metal Gear Solid V: Ground Zeroes</td>\n",
       "      <td>PC</td>\n",
       "      <td>2014</td>\n",
       "      <td>Action</td>\n",
       "      <td>0.00</td>\n",
       "      <td>0.01</td>\n",
       "      <td>0.0</td>\n",
       "      <td>0.00</td>\n",
       "      <td>80.0</td>\n",
       "      <td>7.6</td>\n",
       "      <td>M</td>\n",
       "      <td>0.01</td>\n",
       "    </tr>\n",
       "  </tbody>\n",
       "</table>\n",
       "<p>206 rows × 12 columns</p>\n",
       "</div>"
      ],
      "text/plain": [
       "                                       name platform  year_of_release  \\\n",
       "192                              Diablo III       PC             2012   \n",
       "458                              The Sims 4       PC             2014   \n",
       "688                            Guild Wars 2       PC             2012   \n",
       "959    World of Warcraft: Mists of Pandaria       PC             2012   \n",
       "1095       StarCraft II: Heart of the Swarm       PC             2013   \n",
       "...                                     ...      ...              ...   \n",
       "16463                      TrackMania Turbo       PC             2016   \n",
       "16509                                Ride 2       PC             2016   \n",
       "16518                  Rugby World Cup 2015       PC             2015   \n",
       "16584       Transformers: Fall of Cybertron       PC             2012   \n",
       "16692     Metal Gear Solid V: Ground Zeroes       PC             2014   \n",
       "\n",
       "              genre  na_sales  eu_sales  jp_sales  other_sales  critic_score  \\\n",
       "192    Role-Playing      2.44      2.16       0.0         0.54          88.0   \n",
       "458      Simulation      1.00      1.82       0.0         0.23          70.0   \n",
       "688          Action      0.96      1.07       0.0         0.27          90.0   \n",
       "959    Role-Playing      0.84      0.76       0.0         0.22          82.0   \n",
       "1095       Strategy      0.83      0.66       0.0         0.18          86.0   \n",
       "...             ...       ...       ...       ...          ...           ...   \n",
       "16463        Action      0.00      0.01       0.0         0.00          79.0   \n",
       "16509        Racing      0.00      0.01       0.0         0.00          78.0   \n",
       "16518        Sports      0.00      0.01       0.0         0.00          -1.0   \n",
       "16584        Action      0.01      0.00       0.0         0.00          78.0   \n",
       "16692        Action      0.00      0.01       0.0         0.00          80.0   \n",
       "\n",
       "       user_score rating  total_sales  \n",
       "192           4.0      M         5.14  \n",
       "458           3.9      T         3.05  \n",
       "688           7.9      T         2.30  \n",
       "959           4.8      T         1.82  \n",
       "1095          7.9      T         1.67  \n",
       "...           ...    ...          ...  \n",
       "16463         6.8      E         0.01  \n",
       "16509         7.9      E         0.01  \n",
       "16518         1.4      E         0.01  \n",
       "16584         7.9      T         0.01  \n",
       "16692         7.6      M         0.01  \n",
       "\n",
       "[206 rows x 12 columns]"
      ]
     },
     "execution_count": 99,
     "metadata": {},
     "output_type": "execute_result"
    }
   ],
   "source": [
    "#Se crea una tabla solo con la información para la plataforma PC. \n",
    "#Se utiliza el dataframe df_excluido donde ya se excluye los user_score de -1 que se relleno inicialmente.\n",
    "pc = df_excluido[df_excluido['platform'] == 'PC']\n",
    "pc"
   ]
  },
  {
   "cell_type": "code",
   "execution_count": 100,
   "metadata": {},
   "outputs": [
    {
     "name": "stdout",
     "output_type": "stream",
     "text": [
      "La varianza de user score para la plataforma PC es: 2.7569952398906588\n"
     ]
    }
   ],
   "source": [
    "#se calcula la varianza de mi muestra para user_score de PC\n",
    "varianza2 = np.var(pc['user_score'])\n",
    "print ('La varianza de user score para la plataforma PC es:', varianza2)"
   ]
  },
  {
   "cell_type": "code",
   "execution_count": 101,
   "metadata": {},
   "outputs": [
    {
     "name": "stdout",
     "output_type": "stream",
     "text": [
      "La desviacion estandar de user score para la plataforma PC es: 1.6644650783835682\n"
     ]
    }
   ],
   "source": [
    "#se calcula la desviacion estandar de PC para user_score\n",
    "PC = pc.describe()\n",
    "print ('La desviacion estandar de user score para la plataforma PC es:',  PC.loc ['std', 'user_score'])"
   ]
  },
  {
   "cell_type": "markdown",
   "metadata": {},
   "source": [
    "Al haber calculado las varianza y std para cada muestra, se puede decir que tienen diferentes varianzas. \n",
    "\n",
    "- Por esta razón se utilizará una prueba sobre igualdad de media de 2 poblaciones con varianza diferente. \n",
    "- Se establece un nivel de significancia de 0.05, ya que se considera que es lo suficientemente representativo para poder aceptar o rechazar la hipótesis nula. "
   ]
  },
  {
   "cell_type": "markdown",
   "metadata": {},
   "source": []
  },
  {
   "cell_type": "code",
   "execution_count": 102,
   "metadata": {},
   "outputs": [
    {
     "name": "stdout",
     "output_type": "stream",
     "text": [
      "valor p: 0.5489537965134912\n",
      "No podemos rechazar la hipótesis nula\n"
     ]
    }
   ],
   "source": [
    "#se realiza la prueba ttest_ind\n",
    "alpha = 0.05\n",
    "\n",
    "results = st.ttest_ind (xone['user_score'], pc['user_score'], equal_var = False)\n",
    "print ('valor p:', results.pvalue)\n",
    "\n",
    "if (results.pvalue < alpha):\n",
    "    print ('Rechazamos la hipótesis nula')\n",
    "else:\n",
    "    print (\"No podemos rechazar la hipótesis nula\")"
   ]
  },
  {
   "cell_type": "markdown",
   "metadata": {},
   "source": [
    "- Después de realizar la prueba de hipótesis, obtenemos un valor p alto de 0.54 lo que nos dice que no podemos rechazar la hipótesos nula. A pesar de que XOne y PC son 2 plataformas diferentes, las críticas de los usuarios son muy similares hacia las 2 plataformas. Eso puede ser ya que ambas tienen funcioanlidades similares."
   ]
  },
  {
   "cell_type": "markdown",
   "metadata": {},
   "source": [
    "### Las calificaciones promedio de los usuarios para los géneros Acción y Deportes son diferentes."
   ]
  },
  {
   "cell_type": "markdown",
   "metadata": {},
   "source": [
    "Se define la hipóteis nula y alternativa \n",
    "\n",
    "- H0: Las calificaciones promedio de los usuarios para los géneros acción y deportes son las mismas. \n",
    "- Ha: Las calificaciones promedio de los usuarios para las plataformas acción y deportes son distintas. "
   ]
  },
  {
   "cell_type": "code",
   "execution_count": 105,
   "metadata": {},
   "outputs": [
    {
     "data": {
      "text/html": [
       "<div>\n",
       "<style scoped>\n",
       "    .dataframe tbody tr th:only-of-type {\n",
       "        vertical-align: middle;\n",
       "    }\n",
       "\n",
       "    .dataframe tbody tr th {\n",
       "        vertical-align: top;\n",
       "    }\n",
       "\n",
       "    .dataframe thead th {\n",
       "        text-align: right;\n",
       "    }\n",
       "</style>\n",
       "<table border=\"1\" class=\"dataframe\">\n",
       "  <thead>\n",
       "    <tr style=\"text-align: right;\">\n",
       "      <th></th>\n",
       "      <th>name</th>\n",
       "      <th>platform</th>\n",
       "      <th>year_of_release</th>\n",
       "      <th>genre</th>\n",
       "      <th>na_sales</th>\n",
       "      <th>eu_sales</th>\n",
       "      <th>jp_sales</th>\n",
       "      <th>other_sales</th>\n",
       "      <th>critic_score</th>\n",
       "      <th>user_score</th>\n",
       "      <th>rating</th>\n",
       "      <th>total_sales</th>\n",
       "    </tr>\n",
       "  </thead>\n",
       "  <tbody>\n",
       "    <tr>\n",
       "      <th>16</th>\n",
       "      <td>Grand Theft Auto V</td>\n",
       "      <td>PS3</td>\n",
       "      <td>2013</td>\n",
       "      <td>Action</td>\n",
       "      <td>7.02</td>\n",
       "      <td>9.09</td>\n",
       "      <td>0.98</td>\n",
       "      <td>3.96</td>\n",
       "      <td>97.0</td>\n",
       "      <td>8.2</td>\n",
       "      <td>M</td>\n",
       "      <td>21.05</td>\n",
       "    </tr>\n",
       "    <tr>\n",
       "      <th>23</th>\n",
       "      <td>Grand Theft Auto V</td>\n",
       "      <td>X360</td>\n",
       "      <td>2013</td>\n",
       "      <td>Action</td>\n",
       "      <td>9.66</td>\n",
       "      <td>5.14</td>\n",
       "      <td>0.06</td>\n",
       "      <td>1.41</td>\n",
       "      <td>97.0</td>\n",
       "      <td>8.1</td>\n",
       "      <td>M</td>\n",
       "      <td>16.27</td>\n",
       "    </tr>\n",
       "    <tr>\n",
       "      <th>42</th>\n",
       "      <td>Grand Theft Auto V</td>\n",
       "      <td>PS4</td>\n",
       "      <td>2014</td>\n",
       "      <td>Action</td>\n",
       "      <td>3.96</td>\n",
       "      <td>6.31</td>\n",
       "      <td>0.38</td>\n",
       "      <td>1.97</td>\n",
       "      <td>97.0</td>\n",
       "      <td>8.3</td>\n",
       "      <td>M</td>\n",
       "      <td>12.62</td>\n",
       "    </tr>\n",
       "    <tr>\n",
       "      <th>81</th>\n",
       "      <td>FIFA Soccer 13</td>\n",
       "      <td>PS3</td>\n",
       "      <td>2012</td>\n",
       "      <td>Action</td>\n",
       "      <td>1.06</td>\n",
       "      <td>5.01</td>\n",
       "      <td>0.13</td>\n",
       "      <td>1.97</td>\n",
       "      <td>88.0</td>\n",
       "      <td>6.6</td>\n",
       "      <td>E</td>\n",
       "      <td>8.17</td>\n",
       "    </tr>\n",
       "    <tr>\n",
       "      <th>127</th>\n",
       "      <td>Assassin's Creed III</td>\n",
       "      <td>PS3</td>\n",
       "      <td>2012</td>\n",
       "      <td>Action</td>\n",
       "      <td>2.64</td>\n",
       "      <td>2.52</td>\n",
       "      <td>0.16</td>\n",
       "      <td>1.12</td>\n",
       "      <td>85.0</td>\n",
       "      <td>6.9</td>\n",
       "      <td>M</td>\n",
       "      <td>6.44</td>\n",
       "    </tr>\n",
       "    <tr>\n",
       "      <th>...</th>\n",
       "      <td>...</td>\n",
       "      <td>...</td>\n",
       "      <td>...</td>\n",
       "      <td>...</td>\n",
       "      <td>...</td>\n",
       "      <td>...</td>\n",
       "      <td>...</td>\n",
       "      <td>...</td>\n",
       "      <td>...</td>\n",
       "      <td>...</td>\n",
       "      <td>...</td>\n",
       "      <td>...</td>\n",
       "    </tr>\n",
       "    <tr>\n",
       "      <th>16597</th>\n",
       "      <td>Saints Row: Gat out of Hell</td>\n",
       "      <td>XOne</td>\n",
       "      <td>2015</td>\n",
       "      <td>Action</td>\n",
       "      <td>0.00</td>\n",
       "      <td>0.01</td>\n",
       "      <td>0.00</td>\n",
       "      <td>0.00</td>\n",
       "      <td>65.0</td>\n",
       "      <td>6.0</td>\n",
       "      <td>M</td>\n",
       "      <td>0.01</td>\n",
       "    </tr>\n",
       "    <tr>\n",
       "      <th>16652</th>\n",
       "      <td>Fast Racing Neo</td>\n",
       "      <td>WiiU</td>\n",
       "      <td>2016</td>\n",
       "      <td>Action</td>\n",
       "      <td>0.00</td>\n",
       "      <td>0.01</td>\n",
       "      <td>0.00</td>\n",
       "      <td>0.00</td>\n",
       "      <td>81.0</td>\n",
       "      <td>8.5</td>\n",
       "      <td>E</td>\n",
       "      <td>0.01</td>\n",
       "    </tr>\n",
       "    <tr>\n",
       "      <th>16654</th>\n",
       "      <td>Ben 10 Omniverse 2</td>\n",
       "      <td>X360</td>\n",
       "      <td>2013</td>\n",
       "      <td>Action</td>\n",
       "      <td>0.00</td>\n",
       "      <td>0.01</td>\n",
       "      <td>0.00</td>\n",
       "      <td>0.00</td>\n",
       "      <td>-1.0</td>\n",
       "      <td>5.1</td>\n",
       "      <td>E10+</td>\n",
       "      <td>0.01</td>\n",
       "    </tr>\n",
       "    <tr>\n",
       "      <th>16660</th>\n",
       "      <td>Prison Architect</td>\n",
       "      <td>XOne</td>\n",
       "      <td>2016</td>\n",
       "      <td>Action</td>\n",
       "      <td>0.01</td>\n",
       "      <td>0.00</td>\n",
       "      <td>0.00</td>\n",
       "      <td>0.00</td>\n",
       "      <td>74.0</td>\n",
       "      <td>6.7</td>\n",
       "      <td>pendiente</td>\n",
       "      <td>0.01</td>\n",
       "    </tr>\n",
       "    <tr>\n",
       "      <th>16692</th>\n",
       "      <td>Metal Gear Solid V: Ground Zeroes</td>\n",
       "      <td>PC</td>\n",
       "      <td>2014</td>\n",
       "      <td>Action</td>\n",
       "      <td>0.00</td>\n",
       "      <td>0.01</td>\n",
       "      <td>0.00</td>\n",
       "      <td>0.00</td>\n",
       "      <td>80.0</td>\n",
       "      <td>7.6</td>\n",
       "      <td>M</td>\n",
       "      <td>0.01</td>\n",
       "    </tr>\n",
       "  </tbody>\n",
       "</table>\n",
       "<p>523 rows × 12 columns</p>\n",
       "</div>"
      ],
      "text/plain": [
       "                                    name platform  year_of_release   genre  \\\n",
       "16                    Grand Theft Auto V      PS3             2013  Action   \n",
       "23                    Grand Theft Auto V     X360             2013  Action   \n",
       "42                    Grand Theft Auto V      PS4             2014  Action   \n",
       "81                        FIFA Soccer 13      PS3             2012  Action   \n",
       "127                 Assassin's Creed III      PS3             2012  Action   \n",
       "...                                  ...      ...              ...     ...   \n",
       "16597        Saints Row: Gat out of Hell     XOne             2015  Action   \n",
       "16652                   Fast Racing Neo      WiiU             2016  Action   \n",
       "16654                 Ben 10 Omniverse 2     X360             2013  Action   \n",
       "16660                   Prison Architect     XOne             2016  Action   \n",
       "16692  Metal Gear Solid V: Ground Zeroes       PC             2014  Action   \n",
       "\n",
       "       na_sales  eu_sales  jp_sales  other_sales  critic_score  user_score  \\\n",
       "16         7.02      9.09      0.98         3.96          97.0         8.2   \n",
       "23         9.66      5.14      0.06         1.41          97.0         8.1   \n",
       "42         3.96      6.31      0.38         1.97          97.0         8.3   \n",
       "81         1.06      5.01      0.13         1.97          88.0         6.6   \n",
       "127        2.64      2.52      0.16         1.12          85.0         6.9   \n",
       "...         ...       ...       ...          ...           ...         ...   \n",
       "16597      0.00      0.01      0.00         0.00          65.0         6.0   \n",
       "16652      0.00      0.01      0.00         0.00          81.0         8.5   \n",
       "16654      0.00      0.01      0.00         0.00          -1.0         5.1   \n",
       "16660      0.01      0.00      0.00         0.00          74.0         6.7   \n",
       "16692      0.00      0.01      0.00         0.00          80.0         7.6   \n",
       "\n",
       "          rating  total_sales  \n",
       "16             M        21.05  \n",
       "23             M        16.27  \n",
       "42             M        12.62  \n",
       "81             E         8.17  \n",
       "127            M         6.44  \n",
       "...          ...          ...  \n",
       "16597          M         0.01  \n",
       "16652          E         0.01  \n",
       "16654       E10+         0.01  \n",
       "16660  pendiente         0.01  \n",
       "16692          M         0.01  \n",
       "\n",
       "[523 rows x 12 columns]"
      ]
     },
     "execution_count": 105,
     "metadata": {},
     "output_type": "execute_result"
    }
   ],
   "source": [
    "#Se crea una tabla solo con la información para el género acción \n",
    "#Se utiliza el dataframe df_excluido donde ya se excluye los user_score de -1 que se relleno inicialmente.\n",
    "action = df_excluido[df_excluido['genre'] == 'Action']\n",
    "action"
   ]
  },
  {
   "cell_type": "code",
   "execution_count": 106,
   "metadata": {},
   "outputs": [
    {
     "name": "stdout",
     "output_type": "stream",
     "text": [
      "La varianza de user score para el género acción es: 1.8854720340439224\n"
     ]
    }
   ],
   "source": [
    "#se calcula la varianza de mi muestra para user_score de acción\n",
    "actionvar = np.var(action['user_score'])\n",
    "print ('La varianza de user score para el género acción es:', actionvar)"
   ]
  },
  {
   "cell_type": "code",
   "execution_count": 110,
   "metadata": {},
   "outputs": [
    {
     "name": "stdout",
     "output_type": "stream",
     "text": [
      "La desviación estandar de user score para el género acción es: 1.3744395401161926\n"
     ]
    }
   ],
   "source": [
    "#se calcula la desviacion estandar de acción para user_score\n",
    "action1 = action.describe()\n",
    "print ('La desviación estandar de user score para el género acción es:',  action1.loc ['std', 'user_score'])"
   ]
  },
  {
   "cell_type": "code",
   "execution_count": 111,
   "metadata": {},
   "outputs": [
    {
     "data": {
      "text/html": [
       "<div>\n",
       "<style scoped>\n",
       "    .dataframe tbody tr th:only-of-type {\n",
       "        vertical-align: middle;\n",
       "    }\n",
       "\n",
       "    .dataframe tbody tr th {\n",
       "        vertical-align: top;\n",
       "    }\n",
       "\n",
       "    .dataframe thead th {\n",
       "        text-align: right;\n",
       "    }\n",
       "</style>\n",
       "<table border=\"1\" class=\"dataframe\">\n",
       "  <thead>\n",
       "    <tr style=\"text-align: right;\">\n",
       "      <th></th>\n",
       "      <th>name</th>\n",
       "      <th>platform</th>\n",
       "      <th>year_of_release</th>\n",
       "      <th>genre</th>\n",
       "      <th>na_sales</th>\n",
       "      <th>eu_sales</th>\n",
       "      <th>jp_sales</th>\n",
       "      <th>other_sales</th>\n",
       "      <th>critic_score</th>\n",
       "      <th>user_score</th>\n",
       "      <th>rating</th>\n",
       "      <th>total_sales</th>\n",
       "    </tr>\n",
       "  </thead>\n",
       "  <tbody>\n",
       "    <tr>\n",
       "      <th>77</th>\n",
       "      <td>FIFA 16</td>\n",
       "      <td>PS4</td>\n",
       "      <td>2015</td>\n",
       "      <td>Sports</td>\n",
       "      <td>1.12</td>\n",
       "      <td>6.12</td>\n",
       "      <td>0.06</td>\n",
       "      <td>1.28</td>\n",
       "      <td>82.0</td>\n",
       "      <td>4.3</td>\n",
       "      <td>E</td>\n",
       "      <td>8.58</td>\n",
       "    </tr>\n",
       "    <tr>\n",
       "      <th>94</th>\n",
       "      <td>FIFA 17</td>\n",
       "      <td>PS4</td>\n",
       "      <td>2016</td>\n",
       "      <td>Sports</td>\n",
       "      <td>0.66</td>\n",
       "      <td>5.75</td>\n",
       "      <td>0.08</td>\n",
       "      <td>1.11</td>\n",
       "      <td>85.0</td>\n",
       "      <td>5.0</td>\n",
       "      <td>E</td>\n",
       "      <td>7.60</td>\n",
       "    </tr>\n",
       "    <tr>\n",
       "      <th>126</th>\n",
       "      <td>FIFA 14</td>\n",
       "      <td>PS3</td>\n",
       "      <td>2013</td>\n",
       "      <td>Sports</td>\n",
       "      <td>0.78</td>\n",
       "      <td>4.24</td>\n",
       "      <td>0.07</td>\n",
       "      <td>1.37</td>\n",
       "      <td>86.0</td>\n",
       "      <td>4.3</td>\n",
       "      <td>E</td>\n",
       "      <td>6.46</td>\n",
       "    </tr>\n",
       "    <tr>\n",
       "      <th>143</th>\n",
       "      <td>FIFA 15</td>\n",
       "      <td>PS4</td>\n",
       "      <td>2014</td>\n",
       "      <td>Sports</td>\n",
       "      <td>0.80</td>\n",
       "      <td>4.33</td>\n",
       "      <td>0.05</td>\n",
       "      <td>0.90</td>\n",
       "      <td>82.0</td>\n",
       "      <td>5.7</td>\n",
       "      <td>E</td>\n",
       "      <td>6.08</td>\n",
       "    </tr>\n",
       "    <tr>\n",
       "      <th>264</th>\n",
       "      <td>FIFA 15</td>\n",
       "      <td>PS3</td>\n",
       "      <td>2014</td>\n",
       "      <td>Sports</td>\n",
       "      <td>0.58</td>\n",
       "      <td>3.02</td>\n",
       "      <td>0.04</td>\n",
       "      <td>0.64</td>\n",
       "      <td>-1.0</td>\n",
       "      <td>4.5</td>\n",
       "      <td>E</td>\n",
       "      <td>4.28</td>\n",
       "    </tr>\n",
       "    <tr>\n",
       "      <th>...</th>\n",
       "      <td>...</td>\n",
       "      <td>...</td>\n",
       "      <td>...</td>\n",
       "      <td>...</td>\n",
       "      <td>...</td>\n",
       "      <td>...</td>\n",
       "      <td>...</td>\n",
       "      <td>...</td>\n",
       "      <td>...</td>\n",
       "      <td>...</td>\n",
       "      <td>...</td>\n",
       "      <td>...</td>\n",
       "    </tr>\n",
       "    <tr>\n",
       "      <th>16146</th>\n",
       "      <td>Don Bradman Cricket 14</td>\n",
       "      <td>PS3</td>\n",
       "      <td>2014</td>\n",
       "      <td>Sports</td>\n",
       "      <td>0.00</td>\n",
       "      <td>0.01</td>\n",
       "      <td>0.00</td>\n",
       "      <td>0.00</td>\n",
       "      <td>73.0</td>\n",
       "      <td>6.9</td>\n",
       "      <td>E</td>\n",
       "      <td>0.01</td>\n",
       "    </tr>\n",
       "    <tr>\n",
       "      <th>16230</th>\n",
       "      <td>Madden NFL 13</td>\n",
       "      <td>PS3</td>\n",
       "      <td>2012</td>\n",
       "      <td>Sports</td>\n",
       "      <td>0.00</td>\n",
       "      <td>0.01</td>\n",
       "      <td>0.00</td>\n",
       "      <td>0.00</td>\n",
       "      <td>83.0</td>\n",
       "      <td>5.5</td>\n",
       "      <td>E</td>\n",
       "      <td>0.01</td>\n",
       "    </tr>\n",
       "    <tr>\n",
       "      <th>16450</th>\n",
       "      <td>Turbo: Super Stunt Squad</td>\n",
       "      <td>X360</td>\n",
       "      <td>2013</td>\n",
       "      <td>Sports</td>\n",
       "      <td>0.00</td>\n",
       "      <td>0.01</td>\n",
       "      <td>0.00</td>\n",
       "      <td>0.00</td>\n",
       "      <td>-1.0</td>\n",
       "      <td>4.5</td>\n",
       "      <td>E</td>\n",
       "      <td>0.01</td>\n",
       "    </tr>\n",
       "    <tr>\n",
       "      <th>16518</th>\n",
       "      <td>Rugby World Cup 2015</td>\n",
       "      <td>PC</td>\n",
       "      <td>2015</td>\n",
       "      <td>Sports</td>\n",
       "      <td>0.00</td>\n",
       "      <td>0.01</td>\n",
       "      <td>0.00</td>\n",
       "      <td>0.00</td>\n",
       "      <td>-1.0</td>\n",
       "      <td>1.4</td>\n",
       "      <td>E</td>\n",
       "      <td>0.01</td>\n",
       "    </tr>\n",
       "    <tr>\n",
       "      <th>16643</th>\n",
       "      <td>Rugby Challenge 3</td>\n",
       "      <td>XOne</td>\n",
       "      <td>2016</td>\n",
       "      <td>Sports</td>\n",
       "      <td>0.00</td>\n",
       "      <td>0.01</td>\n",
       "      <td>0.00</td>\n",
       "      <td>0.00</td>\n",
       "      <td>-1.0</td>\n",
       "      <td>6.6</td>\n",
       "      <td>E</td>\n",
       "      <td>0.01</td>\n",
       "    </tr>\n",
       "  </tbody>\n",
       "</table>\n",
       "<p>195 rows × 12 columns</p>\n",
       "</div>"
      ],
      "text/plain": [
       "                           name platform  year_of_release   genre  na_sales  \\\n",
       "77                      FIFA 16      PS4             2015  Sports      1.12   \n",
       "94                      FIFA 17      PS4             2016  Sports      0.66   \n",
       "126                     FIFA 14      PS3             2013  Sports      0.78   \n",
       "143                     FIFA 15      PS4             2014  Sports      0.80   \n",
       "264                     FIFA 15      PS3             2014  Sports      0.58   \n",
       "...                         ...      ...              ...     ...       ...   \n",
       "16146    Don Bradman Cricket 14      PS3             2014  Sports      0.00   \n",
       "16230             Madden NFL 13      PS3             2012  Sports      0.00   \n",
       "16450  Turbo: Super Stunt Squad     X360             2013  Sports      0.00   \n",
       "16518      Rugby World Cup 2015       PC             2015  Sports      0.00   \n",
       "16643         Rugby Challenge 3     XOne             2016  Sports      0.00   \n",
       "\n",
       "       eu_sales  jp_sales  other_sales  critic_score  user_score rating  \\\n",
       "77         6.12      0.06         1.28          82.0         4.3      E   \n",
       "94         5.75      0.08         1.11          85.0         5.0      E   \n",
       "126        4.24      0.07         1.37          86.0         4.3      E   \n",
       "143        4.33      0.05         0.90          82.0         5.7      E   \n",
       "264        3.02      0.04         0.64          -1.0         4.5      E   \n",
       "...         ...       ...          ...           ...         ...    ...   \n",
       "16146      0.01      0.00         0.00          73.0         6.9      E   \n",
       "16230      0.01      0.00         0.00          83.0         5.5      E   \n",
       "16450      0.01      0.00         0.00          -1.0         4.5      E   \n",
       "16518      0.01      0.00         0.00          -1.0         1.4      E   \n",
       "16643      0.01      0.00         0.00          -1.0         6.6      E   \n",
       "\n",
       "       total_sales  \n",
       "77            8.58  \n",
       "94            7.60  \n",
       "126           6.46  \n",
       "143           6.08  \n",
       "264           4.28  \n",
       "...            ...  \n",
       "16146         0.01  \n",
       "16230         0.01  \n",
       "16450         0.01  \n",
       "16518         0.01  \n",
       "16643         0.01  \n",
       "\n",
       "[195 rows x 12 columns]"
      ]
     },
     "execution_count": 111,
     "metadata": {},
     "output_type": "execute_result"
    }
   ],
   "source": [
    "#Se crea una tabla solo con la información para el género deporte. \n",
    "#Se utiliza el dataframe df_excluido donde ya se excluye los user_score de -1 que se relleno inicialmente.\n",
    "sports = df_excluido[df_excluido['genre'] == 'Sports']\n",
    "sports"
   ]
  },
  {
   "cell_type": "code",
   "execution_count": 112,
   "metadata": {},
   "outputs": [
    {
     "name": "stdout",
     "output_type": "stream",
     "text": [
      "La varianza de user score para el género deporte es: 3.0073882971729127\n"
     ]
    }
   ],
   "source": [
    "#se calcula la varianza de mi muestra para user_score de deporte\n",
    "sportvar = np.var(sports['user_score'])\n",
    "print ('La varianza de user score para el género deporte es:', sportvar)"
   ]
  },
  {
   "cell_type": "code",
   "execution_count": 115,
   "metadata": {},
   "outputs": [
    {
     "name": "stdout",
     "output_type": "stream",
     "text": [
      "La desviación estandar de user score para el género deporte es: 1.7386461108301285\n"
     ]
    }
   ],
   "source": [
    "#se calcula la desviacion estandar de deporte para user_score\n",
    "sport1 = sports.describe()\n",
    "print ('La desviación estandar de user score para el género deporte es:',  sport1.loc ['std', 'user_score'])"
   ]
  },
  {
   "cell_type": "markdown",
   "metadata": {},
   "source": [
    "Al haber calculado las varianza y std para cada muestra, se puede decir que tienen diferentes varianzas. \n",
    "\n",
    "- Por esta razón se utilizará una prueba sobre igualdad de media de 2 poblaciones con varianza diferente. \n",
    "- Se establece un nivel de significancia de 0.05, ya que se considera que es lo suficientemente representativo para poder aceptar o rechazar la hipótesis nula. "
   ]
  },
  {
   "cell_type": "code",
   "execution_count": 116,
   "metadata": {},
   "outputs": [
    {
     "name": "stdout",
     "output_type": "stream",
     "text": [
      "valor p: 4.24307776572644e-20\n",
      "Rechazamos la hipótesis nula\n"
     ]
    }
   ],
   "source": [
    "#se realiza la prueba ttest_ind\n",
    "alpha = 0.05\n",
    "\n",
    "results2 = st.ttest_ind (action['user_score'], sports['user_score'], equal_var = False)\n",
    "print ('valor p:', results2.pvalue)\n",
    "\n",
    "if (results2.pvalue < alpha):\n",
    "    print ('Rechazamos la hipótesis nula')\n",
    "else:\n",
    "    print (\"No podemos rechazar la hipótesis nula\")"
   ]
  },
  {
   "cell_type": "markdown",
   "metadata": {},
   "source": [
    "- Después de realizar la prueba de hipótesis, se rechaza la hipótesis nula que mencionaba \"Las calificaciones promedio de los usuarios para los géneros acción y deportes son las mismas\". Lo que quiere decir que los usuarios tienen mayor preferencia sobre un género que otro. "
   ]
  },
  {
   "cell_type": "markdown",
   "metadata": {},
   "source": [
    "## Conclusión "
   ]
  },
  {
   "cell_type": "markdown",
   "metadata": {},
   "source": [
    "Después de realizar todos los análisis necesarios se puede concluir que: \n",
    "- Una plataforma tiene un ciclo de vida de al rededor de 5 años, razón por la cual se toman los datos desde el año 2012. \n",
    "- Las plataformas más rentables para crear una campaña para el 2017 respecto al crecimiento y ventas en los últimos 4 años son: PS4 y XOne. \n",
    "- La campaña debe ir enfocada principalmente en Estados Unidos, ya que es la región donde más ventas se generan anualmente, le sigue Europa y por último Japón. \n",
    "- Además las puntuaciones de los usuarios no afectan a las ventas totales de los diferentes juegos, sin embargo las puntuación de profesionales si son más consideradas por los usuarios al momento de hacer una compra.\n",
    "- La campaña debería ir enfocada en juegos que generes adrenalina en los usuarios como aquellos de género acción que está en el top 5 de las 3 distintas regiones así como deporte y disparos que también generan un número de ventas significativo. \n",
    "- Como se pudo analizar, respecto a las críticas de los usuarios para la plataforma XOne y PC, presentan críticas muy similares y esto se puede deber a que son plataformas con funcionaliades muy amigables para los usuarios. Para los usuarios que utilizan PC, los juegos se desenvuelven correctamente y con facilidad que al final es lo que buscan de una plataforma. Lo mismo se puede decir para usuarios de XOne. \n",
    "- Finalmente, respecto a las críticas de usuarios en los géneros de deporte y acción se determinó que las críticas no son iguales. Se podría pensar que hay una preferencia de un género sobre otro. Para las 3 regiones, el género action es los que más ventas genera, esto podría ser un indicador de que tal vez los usuarios tienen gustos más inclinados hacia este género o también se podría d c"
   ]
  }
 ],
 "metadata": {
  "ExecuteTimeLog": [
   {
    "duration": 2630,
    "start_time": "2024-09-25T00:31:15.316Z"
   },
   {
    "duration": 2,
    "start_time": "2024-09-25T00:31:21.488Z"
   },
   {
    "duration": 3,
    "start_time": "2024-09-25T00:31:25.625Z"
   },
   {
    "duration": 3,
    "start_time": "2024-09-25T00:31:29.587Z"
   },
   {
    "duration": 636,
    "start_time": "2024-09-25T00:32:14.502Z"
   },
   {
    "duration": 44,
    "start_time": "2024-09-25T00:32:41.103Z"
   },
   {
    "duration": 14,
    "start_time": "2024-09-25T00:33:42.399Z"
   },
   {
    "duration": 17,
    "start_time": "2024-09-25T00:33:58.757Z"
   },
   {
    "duration": 22,
    "start_time": "2024-09-25T00:36:21.386Z"
   },
   {
    "duration": 11,
    "start_time": "2024-09-25T00:46:58.107Z"
   },
   {
    "duration": 18,
    "start_time": "2024-09-25T00:47:42.091Z"
   },
   {
    "duration": 3,
    "start_time": "2024-09-25T00:53:09.586Z"
   },
   {
    "duration": 10,
    "start_time": "2024-09-25T00:54:14.970Z"
   },
   {
    "duration": 12,
    "start_time": "2024-09-25T00:54:22.952Z"
   },
   {
    "duration": 566,
    "start_time": "2024-09-25T00:59:51.442Z"
   },
   {
    "duration": 79,
    "start_time": "2024-09-25T01:03:03.152Z"
   },
   {
    "duration": 39,
    "start_time": "2024-09-25T01:04:39.162Z"
   },
   {
    "duration": 3,
    "start_time": "2024-09-25T01:06:29.643Z"
   },
   {
    "duration": 51,
    "start_time": "2024-09-25T01:07:24.302Z"
   },
   {
    "duration": 5,
    "start_time": "2024-09-25T01:08:07.365Z"
   },
   {
    "duration": 12,
    "start_time": "2024-09-25T01:08:25.839Z"
   },
   {
    "duration": 4,
    "start_time": "2024-09-25T01:08:40.714Z"
   },
   {
    "duration": 3,
    "start_time": "2024-09-25T01:09:10.083Z"
   },
   {
    "duration": 3,
    "start_time": "2024-09-25T01:09:15.472Z"
   },
   {
    "duration": 11,
    "start_time": "2024-09-25T01:09:41.594Z"
   },
   {
    "duration": 4,
    "start_time": "2024-09-25T01:09:59.489Z"
   },
   {
    "duration": 12,
    "start_time": "2024-09-25T01:10:14.583Z"
   },
   {
    "duration": 3,
    "start_time": "2024-09-25T01:19:36.333Z"
   },
   {
    "duration": 3,
    "start_time": "2024-09-25T01:20:41.825Z"
   },
   {
    "duration": 8,
    "start_time": "2024-09-25T01:21:53.610Z"
   },
   {
    "duration": 35,
    "start_time": "2024-09-25T01:21:57.639Z"
   },
   {
    "duration": 8,
    "start_time": "2024-09-25T01:22:20.556Z"
   },
   {
    "duration": 32,
    "start_time": "2024-09-25T01:22:22.888Z"
   },
   {
    "duration": 8,
    "start_time": "2024-09-25T01:22:29.403Z"
   },
   {
    "duration": 48,
    "start_time": "2024-09-25T01:22:31.637Z"
   },
   {
    "duration": 100,
    "start_time": "2024-09-25T01:25:16.132Z"
   },
   {
    "duration": 4,
    "start_time": "2024-09-25T01:25:33.922Z"
   },
   {
    "duration": 38,
    "start_time": "2024-09-25T01:25:45.949Z"
   },
   {
    "duration": 4,
    "start_time": "2024-09-25T01:25:53.933Z"
   },
   {
    "duration": 4,
    "start_time": "2024-09-25T01:26:24.044Z"
   },
   {
    "duration": 11,
    "start_time": "2024-09-25T01:27:01.533Z"
   },
   {
    "duration": 5,
    "start_time": "2024-09-25T01:28:05.905Z"
   },
   {
    "duration": 12,
    "start_time": "2024-09-25T01:34:06.796Z"
   },
   {
    "duration": 23,
    "start_time": "2024-09-25T01:44:48.221Z"
   },
   {
    "duration": 15,
    "start_time": "2024-09-25T01:45:33.780Z"
   },
   {
    "duration": 5,
    "start_time": "2024-09-25T01:45:44.257Z"
   },
   {
    "duration": 830,
    "start_time": "2024-09-25T01:46:45.207Z"
   },
   {
    "duration": 27,
    "start_time": "2024-09-25T01:46:46.040Z"
   },
   {
    "duration": 28,
    "start_time": "2024-09-25T01:46:46.069Z"
   },
   {
    "duration": 11,
    "start_time": "2024-09-25T01:46:46.100Z"
   },
   {
    "duration": 12,
    "start_time": "2024-09-25T01:46:46.112Z"
   },
   {
    "duration": 22,
    "start_time": "2024-09-25T01:46:46.126Z"
   },
   {
    "duration": 11,
    "start_time": "2024-09-25T01:46:46.150Z"
   },
   {
    "duration": 5,
    "start_time": "2024-09-25T01:46:46.188Z"
   },
   {
    "duration": 4,
    "start_time": "2024-09-25T01:46:46.195Z"
   },
   {
    "duration": 4,
    "start_time": "2024-09-25T01:46:46.202Z"
   },
   {
    "duration": 4,
    "start_time": "2024-09-25T01:46:46.209Z"
   },
   {
    "duration": 11,
    "start_time": "2024-09-25T01:46:46.215Z"
   },
   {
    "duration": 2517,
    "start_time": "2024-09-25T16:03:27.945Z"
   },
   {
    "duration": 45,
    "start_time": "2024-09-25T16:03:30.464Z"
   },
   {
    "duration": 12,
    "start_time": "2024-09-25T16:03:30.511Z"
   },
   {
    "duration": 10,
    "start_time": "2024-09-25T16:03:30.525Z"
   },
   {
    "duration": 11,
    "start_time": "2024-09-25T16:03:30.536Z"
   },
   {
    "duration": 20,
    "start_time": "2024-09-25T16:03:30.549Z"
   },
   {
    "duration": 11,
    "start_time": "2024-09-25T16:03:30.570Z"
   },
   {
    "duration": 5,
    "start_time": "2024-09-25T16:03:30.583Z"
   },
   {
    "duration": 4,
    "start_time": "2024-09-25T16:03:30.589Z"
   },
   {
    "duration": 39,
    "start_time": "2024-09-25T16:03:30.595Z"
   },
   {
    "duration": 5,
    "start_time": "2024-09-25T16:03:30.636Z"
   },
   {
    "duration": 11,
    "start_time": "2024-09-25T16:03:30.642Z"
   },
   {
    "duration": 7,
    "start_time": "2024-09-25T16:03:46.151Z"
   },
   {
    "duration": 22,
    "start_time": "2024-09-25T16:03:48.248Z"
   },
   {
    "duration": 10,
    "start_time": "2024-09-25T16:03:50.531Z"
   },
   {
    "duration": 10,
    "start_time": "2024-09-25T16:03:56.742Z"
   },
   {
    "duration": 11,
    "start_time": "2024-09-25T16:03:58.630Z"
   },
   {
    "duration": 19,
    "start_time": "2024-09-25T16:04:02.591Z"
   },
   {
    "duration": 11,
    "start_time": "2024-09-25T16:04:06.905Z"
   },
   {
    "duration": 5,
    "start_time": "2024-09-25T16:04:13.484Z"
   },
   {
    "duration": 3,
    "start_time": "2024-09-25T16:04:15.327Z"
   },
   {
    "duration": 4,
    "start_time": "2024-09-25T16:04:17.457Z"
   },
   {
    "duration": 4,
    "start_time": "2024-09-25T16:04:19.498Z"
   },
   {
    "duration": 11,
    "start_time": "2024-09-25T16:04:21.487Z"
   },
   {
    "duration": 11,
    "start_time": "2024-09-25T16:08:27.453Z"
   },
   {
    "duration": 798,
    "start_time": "2024-09-25T16:09:44.007Z"
   },
   {
    "duration": 52,
    "start_time": "2024-09-25T16:11:40.651Z"
   },
   {
    "duration": 10,
    "start_time": "2024-09-25T16:11:54.720Z"
   },
   {
    "duration": 3,
    "start_time": "2024-09-25T16:12:08.190Z"
   },
   {
    "duration": 3,
    "start_time": "2024-09-25T16:12:10.168Z"
   },
   {
    "duration": 4,
    "start_time": "2024-09-25T16:12:11.816Z"
   },
   {
    "duration": 11,
    "start_time": "2024-09-25T16:12:13.423Z"
   },
   {
    "duration": 10,
    "start_time": "2024-09-25T16:12:16.597Z"
   },
   {
    "duration": 34,
    "start_time": "2024-09-25T16:20:03.549Z"
   },
   {
    "duration": 67,
    "start_time": "2024-09-25T16:20:08.723Z"
   },
   {
    "duration": 15,
    "start_time": "2024-09-25T16:20:36.267Z"
   },
   {
    "duration": 52,
    "start_time": "2024-09-25T16:21:33.493Z"
   },
   {
    "duration": 5,
    "start_time": "2024-09-25T16:21:49.732Z"
   },
   {
    "duration": 47,
    "start_time": "2024-09-25T16:22:56.934Z"
   },
   {
    "duration": 12,
    "start_time": "2024-09-25T16:23:03.971Z"
   },
   {
    "duration": 3,
    "start_time": "2024-09-25T16:24:04.815Z"
   },
   {
    "duration": 11,
    "start_time": "2024-09-25T16:24:07.331Z"
   },
   {
    "duration": 4,
    "start_time": "2024-09-25T16:24:23.745Z"
   },
   {
    "duration": 51,
    "start_time": "2024-09-25T16:24:26.087Z"
   },
   {
    "duration": 806,
    "start_time": "2024-09-25T16:27:00.242Z"
   },
   {
    "duration": 23,
    "start_time": "2024-09-25T16:27:02.405Z"
   },
   {
    "duration": 13,
    "start_time": "2024-09-25T16:27:10.782Z"
   },
   {
    "duration": 10,
    "start_time": "2024-09-25T16:27:14.358Z"
   },
   {
    "duration": 11,
    "start_time": "2024-09-25T16:27:17.443Z"
   },
   {
    "duration": 20,
    "start_time": "2024-09-25T16:27:23.079Z"
   },
   {
    "duration": 10,
    "start_time": "2024-09-25T16:27:26.587Z"
   },
   {
    "duration": 3,
    "start_time": "2024-09-25T16:27:58.462Z"
   },
   {
    "duration": 4,
    "start_time": "2024-09-25T16:28:04.094Z"
   },
   {
    "duration": 4,
    "start_time": "2024-09-25T16:28:08.070Z"
   },
   {
    "duration": 4,
    "start_time": "2024-09-25T16:28:13.820Z"
   },
   {
    "duration": 5,
    "start_time": "2024-09-25T16:28:15.771Z"
   },
   {
    "duration": 14,
    "start_time": "2024-09-25T16:28:28.053Z"
   },
   {
    "duration": 10,
    "start_time": "2024-09-25T16:28:32.327Z"
   },
   {
    "duration": 261,
    "start_time": "2024-09-25T16:38:34.431Z"
   },
   {
    "duration": 13,
    "start_time": "2024-09-25T16:38:49.199Z"
   },
   {
    "duration": 11,
    "start_time": "2024-09-25T16:38:55.486Z"
   },
   {
    "duration": 417,
    "start_time": "2024-09-25T16:40:40.529Z"
   },
   {
    "duration": 5,
    "start_time": "2024-09-25T16:40:53.773Z"
   },
   {
    "duration": 3,
    "start_time": "2024-09-25T16:41:53.890Z"
   },
   {
    "duration": 5,
    "start_time": "2024-09-25T16:42:27.831Z"
   },
   {
    "duration": 3,
    "start_time": "2024-09-25T16:43:20.884Z"
   },
   {
    "duration": 10,
    "start_time": "2024-09-25T16:43:33.338Z"
   },
   {
    "duration": 4,
    "start_time": "2024-09-25T16:47:17.712Z"
   },
   {
    "duration": 10,
    "start_time": "2024-09-25T16:47:44.933Z"
   },
   {
    "duration": 4,
    "start_time": "2024-09-25T16:49:41.123Z"
   },
   {
    "duration": 10,
    "start_time": "2024-09-25T16:49:54.267Z"
   },
   {
    "duration": 14,
    "start_time": "2024-09-25T17:06:53.956Z"
   },
   {
    "duration": 6,
    "start_time": "2024-09-25T17:07:09.713Z"
   },
   {
    "duration": 5,
    "start_time": "2024-09-25T17:07:44.481Z"
   },
   {
    "duration": 7,
    "start_time": "2024-09-25T17:07:50.246Z"
   },
   {
    "duration": 40,
    "start_time": "2024-09-25T17:09:04.111Z"
   },
   {
    "duration": 7,
    "start_time": "2024-09-25T17:09:41.586Z"
   },
   {
    "duration": 21,
    "start_time": "2024-09-25T17:09:50.620Z"
   },
   {
    "duration": 7,
    "start_time": "2024-09-25T17:09:57.712Z"
   },
   {
    "duration": 10,
    "start_time": "2024-09-25T17:31:04.059Z"
   },
   {
    "duration": 14,
    "start_time": "2024-09-25T17:32:35.214Z"
   },
   {
    "duration": 10,
    "start_time": "2024-09-25T17:32:52.742Z"
   },
   {
    "duration": 15,
    "start_time": "2024-09-25T17:33:11.861Z"
   },
   {
    "duration": 10,
    "start_time": "2024-09-25T17:33:27.450Z"
   },
   {
    "duration": 155,
    "start_time": "2024-09-25T17:57:19.117Z"
   },
   {
    "duration": 21,
    "start_time": "2024-09-25T17:57:44.593Z"
   },
   {
    "duration": 14,
    "start_time": "2024-09-25T18:01:00.019Z"
   },
   {
    "duration": 15,
    "start_time": "2024-09-25T18:01:14.634Z"
   },
   {
    "duration": 5,
    "start_time": "2024-09-25T18:02:30.338Z"
   },
   {
    "duration": 10,
    "start_time": "2024-09-25T18:02:40.899Z"
   },
   {
    "duration": 4,
    "start_time": "2024-09-25T18:03:07.315Z"
   },
   {
    "duration": 6,
    "start_time": "2024-09-25T18:03:31.084Z"
   },
   {
    "duration": 4,
    "start_time": "2024-09-25T18:04:01.307Z"
   },
   {
    "duration": 11,
    "start_time": "2024-09-25T18:05:24.900Z"
   },
   {
    "duration": 3,
    "start_time": "2024-09-25T18:05:42.778Z"
   },
   {
    "duration": 5,
    "start_time": "2024-09-25T18:07:07.857Z"
   },
   {
    "duration": 6,
    "start_time": "2024-09-25T18:07:19.973Z"
   },
   {
    "duration": 13,
    "start_time": "2024-09-25T18:12:46.417Z"
   },
   {
    "duration": 14,
    "start_time": "2024-09-25T18:12:54.556Z"
   },
   {
    "duration": 7,
    "start_time": "2024-09-25T18:13:04.663Z"
   },
   {
    "duration": 733,
    "start_time": "2024-09-25T18:20:42.918Z"
   },
   {
    "duration": 728,
    "start_time": "2024-09-25T18:23:16.784Z"
   },
   {
    "duration": 116,
    "start_time": "2024-09-25T18:31:53.855Z"
   },
   {
    "duration": 662,
    "start_time": "2024-09-25T18:32:07.979Z"
   },
   {
    "duration": 358,
    "start_time": "2024-09-25T18:32:28.988Z"
   },
   {
    "duration": 163,
    "start_time": "2024-09-25T20:31:30.763Z"
   },
   {
    "duration": 2653,
    "start_time": "2024-09-25T20:31:53.876Z"
   },
   {
    "duration": 42,
    "start_time": "2024-09-25T20:31:56.531Z"
   },
   {
    "duration": 14,
    "start_time": "2024-09-25T20:31:56.575Z"
   },
   {
    "duration": 10,
    "start_time": "2024-09-25T20:31:56.592Z"
   },
   {
    "duration": 15,
    "start_time": "2024-09-25T20:31:56.604Z"
   },
   {
    "duration": 23,
    "start_time": "2024-09-25T20:31:56.621Z"
   },
   {
    "duration": 10,
    "start_time": "2024-09-25T20:31:56.646Z"
   },
   {
    "duration": 4,
    "start_time": "2024-09-25T20:31:56.658Z"
   },
   {
    "duration": 3,
    "start_time": "2024-09-25T20:31:56.664Z"
   },
   {
    "duration": 4,
    "start_time": "2024-09-25T20:31:56.671Z"
   },
   {
    "duration": 37,
    "start_time": "2024-09-25T20:31:56.677Z"
   },
   {
    "duration": 6,
    "start_time": "2024-09-25T20:31:56.716Z"
   },
   {
    "duration": 13,
    "start_time": "2024-09-25T20:31:56.724Z"
   },
   {
    "duration": 8,
    "start_time": "2024-09-25T20:31:56.738Z"
   },
   {
    "duration": 11,
    "start_time": "2024-09-25T20:31:56.748Z"
   },
   {
    "duration": 4,
    "start_time": "2024-09-25T20:31:56.762Z"
   },
   {
    "duration": 40,
    "start_time": "2024-09-25T20:31:56.770Z"
   },
   {
    "duration": 5,
    "start_time": "2024-09-25T20:31:56.813Z"
   },
   {
    "duration": 4,
    "start_time": "2024-09-25T20:31:56.820Z"
   },
   {
    "duration": 4,
    "start_time": "2024-09-25T20:31:56.825Z"
   },
   {
    "duration": 12,
    "start_time": "2024-09-25T20:31:56.830Z"
   },
   {
    "duration": 3,
    "start_time": "2024-09-25T20:31:56.844Z"
   },
   {
    "duration": 13,
    "start_time": "2024-09-25T20:31:56.849Z"
   },
   {
    "duration": 9,
    "start_time": "2024-09-25T20:31:56.863Z"
   },
   {
    "duration": 12,
    "start_time": "2024-09-25T20:31:56.910Z"
   },
   {
    "duration": 3,
    "start_time": "2024-09-25T20:31:56.924Z"
   },
   {
    "duration": 5,
    "start_time": "2024-09-25T20:31:56.929Z"
   },
   {
    "duration": 6,
    "start_time": "2024-09-25T20:31:56.938Z"
   },
   {
    "duration": 436,
    "start_time": "2024-09-25T20:31:56.946Z"
   },
   {
    "duration": 5,
    "start_time": "2024-09-25T20:31:57.384Z"
   },
   {
    "duration": 19,
    "start_time": "2024-09-25T20:32:09.283Z"
   },
   {
    "duration": 5,
    "start_time": "2024-09-25T20:32:25.504Z"
   },
   {
    "duration": 13,
    "start_time": "2024-09-25T20:32:31.966Z"
   },
   {
    "duration": 13,
    "start_time": "2024-09-25T20:32:41.895Z"
   },
   {
    "duration": 32,
    "start_time": "2024-09-25T20:33:01.350Z"
   },
   {
    "duration": 13,
    "start_time": "2024-09-25T20:39:59.344Z"
   },
   {
    "duration": 12,
    "start_time": "2024-09-25T20:57:24.418Z"
   },
   {
    "duration": 14,
    "start_time": "2024-09-25T21:00:32.359Z"
   },
   {
    "duration": 12,
    "start_time": "2024-09-25T21:04:46.341Z"
   },
   {
    "duration": 10,
    "start_time": "2024-09-25T21:08:46.861Z"
   },
   {
    "duration": 12,
    "start_time": "2024-09-25T21:09:23.349Z"
   },
   {
    "duration": 404,
    "start_time": "2024-09-25T21:13:06.873Z"
   },
   {
    "duration": 18,
    "start_time": "2024-09-25T21:13:34.085Z"
   },
   {
    "duration": 32,
    "start_time": "2024-09-25T21:13:49.385Z"
   },
   {
    "duration": 33,
    "start_time": "2024-09-25T21:13:55.601Z"
   },
   {
    "duration": 33,
    "start_time": "2024-09-25T21:14:01.838Z"
   },
   {
    "duration": 38,
    "start_time": "2024-09-25T21:15:45.847Z"
   },
   {
    "duration": 32,
    "start_time": "2024-09-25T21:15:56.090Z"
   },
   {
    "duration": 7,
    "start_time": "2024-09-25T21:17:16.098Z"
   },
   {
    "duration": 11,
    "start_time": "2024-09-25T21:17:26.146Z"
   },
   {
    "duration": 3,
    "start_time": "2024-09-25T21:18:42.779Z"
   },
   {
    "duration": 18,
    "start_time": "2024-09-25T21:18:48.873Z"
   },
   {
    "duration": 5,
    "start_time": "2024-09-25T21:18:59.475Z"
   },
   {
    "duration": 15,
    "start_time": "2024-09-25T21:19:34.986Z"
   },
   {
    "duration": 5,
    "start_time": "2024-09-25T21:19:37.760Z"
   },
   {
    "duration": 5,
    "start_time": "2024-09-25T21:20:46.938Z"
   },
   {
    "duration": 19,
    "start_time": "2024-09-25T21:21:24.210Z"
   },
   {
    "duration": 821,
    "start_time": "2024-09-25T21:51:34.357Z"
   },
   {
    "duration": 30,
    "start_time": "2024-09-25T21:51:35.180Z"
   },
   {
    "duration": 19,
    "start_time": "2024-09-25T21:51:35.211Z"
   },
   {
    "duration": 13,
    "start_time": "2024-09-25T21:51:35.232Z"
   },
   {
    "duration": 15,
    "start_time": "2024-09-25T21:51:35.247Z"
   },
   {
    "duration": 20,
    "start_time": "2024-09-25T21:51:35.263Z"
   },
   {
    "duration": 35,
    "start_time": "2024-09-25T21:51:35.285Z"
   },
   {
    "duration": 6,
    "start_time": "2024-09-25T21:51:35.322Z"
   },
   {
    "duration": 8,
    "start_time": "2024-09-25T21:51:35.332Z"
   },
   {
    "duration": 7,
    "start_time": "2024-09-25T21:51:35.342Z"
   },
   {
    "duration": 5,
    "start_time": "2024-09-25T21:51:35.351Z"
   },
   {
    "duration": 6,
    "start_time": "2024-09-25T21:51:35.361Z"
   },
   {
    "duration": 10,
    "start_time": "2024-09-25T21:51:35.369Z"
   },
   {
    "duration": 30,
    "start_time": "2024-09-25T21:51:35.384Z"
   },
   {
    "duration": 14,
    "start_time": "2024-09-25T21:51:35.416Z"
   },
   {
    "duration": 7,
    "start_time": "2024-09-25T21:51:35.433Z"
   },
   {
    "duration": 5,
    "start_time": "2024-09-25T21:51:35.443Z"
   },
   {
    "duration": 6,
    "start_time": "2024-09-25T21:51:35.452Z"
   },
   {
    "duration": 3,
    "start_time": "2024-09-25T21:51:35.459Z"
   },
   {
    "duration": 4,
    "start_time": "2024-09-25T21:51:35.464Z"
   },
   {
    "duration": 9,
    "start_time": "2024-09-25T21:51:35.470Z"
   },
   {
    "duration": 29,
    "start_time": "2024-09-25T21:51:35.481Z"
   },
   {
    "duration": 16,
    "start_time": "2024-09-25T21:51:35.512Z"
   },
   {
    "duration": 7,
    "start_time": "2024-09-25T21:51:35.530Z"
   },
   {
    "duration": 12,
    "start_time": "2024-09-25T21:51:35.539Z"
   },
   {
    "duration": 3,
    "start_time": "2024-09-25T21:51:35.553Z"
   },
   {
    "duration": 5,
    "start_time": "2024-09-25T21:51:35.558Z"
   },
   {
    "duration": 6,
    "start_time": "2024-09-25T21:51:35.565Z"
   },
   {
    "duration": 483,
    "start_time": "2024-09-25T21:51:35.608Z"
   },
   {
    "duration": 4,
    "start_time": "2024-09-25T21:51:36.093Z"
   },
   {
    "duration": 11,
    "start_time": "2024-09-25T21:51:36.108Z"
   },
   {
    "duration": 27,
    "start_time": "2024-09-25T21:51:36.120Z"
   },
   {
    "duration": 10,
    "start_time": "2024-09-25T21:51:36.149Z"
   },
   {
    "duration": 4,
    "start_time": "2024-09-25T21:51:36.161Z"
   },
   {
    "duration": 4,
    "start_time": "2024-09-25T21:51:36.167Z"
   },
   {
    "duration": 55,
    "start_time": "2024-09-25T21:51:36.172Z"
   },
   {
    "duration": 14,
    "start_time": "2024-09-25T22:01:29.803Z"
   },
   {
    "duration": 808,
    "start_time": "2024-09-25T22:02:31.687Z"
   },
   {
    "duration": 29,
    "start_time": "2024-09-25T22:02:32.498Z"
   },
   {
    "duration": 15,
    "start_time": "2024-09-25T22:02:32.529Z"
   },
   {
    "duration": 15,
    "start_time": "2024-09-25T22:02:32.547Z"
   },
   {
    "duration": 12,
    "start_time": "2024-09-25T22:02:32.563Z"
   },
   {
    "duration": 41,
    "start_time": "2024-09-25T22:02:32.576Z"
   },
   {
    "duration": 17,
    "start_time": "2024-09-25T22:02:32.619Z"
   },
   {
    "duration": 3,
    "start_time": "2024-09-25T22:02:32.638Z"
   },
   {
    "duration": 4,
    "start_time": "2024-09-25T22:02:32.643Z"
   },
   {
    "duration": 5,
    "start_time": "2024-09-25T22:02:32.652Z"
   },
   {
    "duration": 4,
    "start_time": "2024-09-25T22:02:32.659Z"
   },
   {
    "duration": 5,
    "start_time": "2024-09-25T22:02:32.665Z"
   },
   {
    "duration": 40,
    "start_time": "2024-09-25T22:02:32.671Z"
   },
   {
    "duration": 10,
    "start_time": "2024-09-25T22:02:32.713Z"
   },
   {
    "duration": 13,
    "start_time": "2024-09-25T22:02:32.727Z"
   },
   {
    "duration": 7,
    "start_time": "2024-09-25T22:02:32.743Z"
   },
   {
    "duration": 4,
    "start_time": "2024-09-25T22:02:32.753Z"
   },
   {
    "duration": 4,
    "start_time": "2024-09-25T22:02:32.759Z"
   },
   {
    "duration": 4,
    "start_time": "2024-09-25T22:02:32.765Z"
   },
   {
    "duration": 4,
    "start_time": "2024-09-25T22:02:32.771Z"
   },
   {
    "duration": 42,
    "start_time": "2024-09-25T22:02:32.776Z"
   },
   {
    "duration": 6,
    "start_time": "2024-09-25T22:02:32.820Z"
   },
   {
    "duration": 16,
    "start_time": "2024-09-25T22:02:32.828Z"
   },
   {
    "duration": 11,
    "start_time": "2024-09-25T22:02:32.846Z"
   },
   {
    "duration": 12,
    "start_time": "2024-09-25T22:02:32.859Z"
   },
   {
    "duration": 2,
    "start_time": "2024-09-25T22:02:32.874Z"
   },
   {
    "duration": 35,
    "start_time": "2024-09-25T22:02:32.878Z"
   },
   {
    "duration": 8,
    "start_time": "2024-09-25T22:02:32.918Z"
   },
   {
    "duration": 427,
    "start_time": "2024-09-25T22:02:32.928Z"
   },
   {
    "duration": 5,
    "start_time": "2024-09-25T22:02:33.357Z"
   },
   {
    "duration": 12,
    "start_time": "2024-09-25T22:02:33.363Z"
   },
   {
    "duration": 38,
    "start_time": "2024-09-25T22:02:33.376Z"
   },
   {
    "duration": 12,
    "start_time": "2024-09-25T22:02:33.415Z"
   },
   {
    "duration": 5,
    "start_time": "2024-09-25T22:02:33.429Z"
   },
   {
    "duration": 4,
    "start_time": "2024-09-25T22:02:33.437Z"
   },
   {
    "duration": 18,
    "start_time": "2024-09-25T22:02:33.443Z"
   },
   {
    "duration": 10,
    "start_time": "2024-09-25T22:02:33.463Z"
   },
   {
    "duration": 11,
    "start_time": "2024-09-25T22:09:33.692Z"
   },
   {
    "duration": 375,
    "start_time": "2024-09-25T22:18:32.826Z"
   },
   {
    "duration": 181,
    "start_time": "2024-09-25T22:18:53.170Z"
   },
   {
    "duration": 271,
    "start_time": "2024-09-25T22:19:07.060Z"
   },
   {
    "duration": 217,
    "start_time": "2024-09-25T22:20:28.586Z"
   },
   {
    "duration": 183,
    "start_time": "2024-09-25T22:20:48.861Z"
   },
   {
    "duration": 193,
    "start_time": "2024-09-25T22:20:55.258Z"
   },
   {
    "duration": 3,
    "start_time": "2024-09-25T23:00:55.586Z"
   },
   {
    "duration": 6,
    "start_time": "2024-09-25T23:01:36.759Z"
   },
   {
    "duration": 10,
    "start_time": "2024-09-25T23:03:31.469Z"
   },
   {
    "duration": 6,
    "start_time": "2024-09-25T23:03:56.702Z"
   },
   {
    "duration": 27,
    "start_time": "2024-09-25T23:05:00.360Z"
   },
   {
    "duration": 20,
    "start_time": "2024-09-25T23:05:07.729Z"
   },
   {
    "duration": 7,
    "start_time": "2024-09-25T23:05:14.716Z"
   },
   {
    "duration": 13,
    "start_time": "2024-09-25T23:11:32.980Z"
   },
   {
    "duration": 566,
    "start_time": "2024-09-25T23:11:57.430Z"
   },
   {
    "duration": 405,
    "start_time": "2024-09-25T23:12:45.806Z"
   },
   {
    "duration": 119,
    "start_time": "2024-09-25T23:14:56.288Z"
   },
   {
    "duration": 6,
    "start_time": "2024-09-25T23:15:16.692Z"
   },
   {
    "duration": 243,
    "start_time": "2024-09-25T23:15:20.483Z"
   },
   {
    "duration": 113,
    "start_time": "2024-09-25T23:16:04.130Z"
   },
   {
    "duration": 124,
    "start_time": "2024-09-25T23:16:18.345Z"
   },
   {
    "duration": 123,
    "start_time": "2024-09-25T23:17:10.163Z"
   },
   {
    "duration": 127,
    "start_time": "2024-09-25T23:17:17.411Z"
   },
   {
    "duration": 131,
    "start_time": "2024-09-25T23:17:30.207Z"
   },
   {
    "duration": 90,
    "start_time": "2024-09-25T23:17:42.246Z"
   },
   {
    "duration": 80,
    "start_time": "2024-09-25T23:18:14.232Z"
   },
   {
    "duration": 110,
    "start_time": "2024-09-25T23:18:23.972Z"
   },
   {
    "duration": 2600,
    "start_time": "2024-09-26T01:35:15.170Z"
   },
   {
    "duration": 43,
    "start_time": "2024-09-26T01:35:17.772Z"
   },
   {
    "duration": 13,
    "start_time": "2024-09-26T01:35:17.817Z"
   },
   {
    "duration": 11,
    "start_time": "2024-09-26T01:35:17.832Z"
   },
   {
    "duration": 11,
    "start_time": "2024-09-26T01:35:17.845Z"
   },
   {
    "duration": 25,
    "start_time": "2024-09-26T01:35:17.857Z"
   },
   {
    "duration": 10,
    "start_time": "2024-09-26T01:35:17.884Z"
   },
   {
    "duration": 3,
    "start_time": "2024-09-26T01:35:17.896Z"
   },
   {
    "duration": 3,
    "start_time": "2024-09-26T01:35:17.900Z"
   },
   {
    "duration": 4,
    "start_time": "2024-09-26T01:35:17.905Z"
   },
   {
    "duration": 4,
    "start_time": "2024-09-26T01:35:17.910Z"
   },
   {
    "duration": 4,
    "start_time": "2024-09-26T01:35:17.916Z"
   },
   {
    "duration": 48,
    "start_time": "2024-09-26T01:35:17.922Z"
   },
   {
    "duration": 6,
    "start_time": "2024-09-26T01:35:17.974Z"
   },
   {
    "duration": 10,
    "start_time": "2024-09-26T01:35:17.982Z"
   },
   {
    "duration": 2,
    "start_time": "2024-09-26T01:35:17.993Z"
   },
   {
    "duration": 3,
    "start_time": "2024-09-26T01:35:17.997Z"
   },
   {
    "duration": 2,
    "start_time": "2024-09-26T01:35:18.002Z"
   },
   {
    "duration": 3,
    "start_time": "2024-09-26T01:35:18.005Z"
   },
   {
    "duration": 4,
    "start_time": "2024-09-26T01:35:18.009Z"
   },
   {
    "duration": 10,
    "start_time": "2024-09-26T01:35:18.014Z"
   },
   {
    "duration": 46,
    "start_time": "2024-09-26T01:35:18.025Z"
   },
   {
    "duration": 10,
    "start_time": "2024-09-26T01:35:18.073Z"
   },
   {
    "duration": 5,
    "start_time": "2024-09-26T01:35:18.086Z"
   },
   {
    "duration": 10,
    "start_time": "2024-09-26T01:35:18.093Z"
   },
   {
    "duration": 2,
    "start_time": "2024-09-26T01:35:18.105Z"
   },
   {
    "duration": 5,
    "start_time": "2024-09-26T01:35:18.109Z"
   },
   {
    "duration": 5,
    "start_time": "2024-09-26T01:35:18.116Z"
   },
   {
    "duration": 390,
    "start_time": "2024-09-26T01:35:18.123Z"
   },
   {
    "duration": 4,
    "start_time": "2024-09-26T01:35:18.515Z"
   },
   {
    "duration": 9,
    "start_time": "2024-09-26T01:35:18.520Z"
   },
   {
    "duration": 41,
    "start_time": "2024-09-26T01:35:18.531Z"
   },
   {
    "duration": 9,
    "start_time": "2024-09-26T01:35:18.574Z"
   },
   {
    "duration": 4,
    "start_time": "2024-09-26T01:35:18.584Z"
   },
   {
    "duration": 4,
    "start_time": "2024-09-26T01:35:18.590Z"
   },
   {
    "duration": 17,
    "start_time": "2024-09-26T01:35:18.595Z"
   },
   {
    "duration": 10,
    "start_time": "2024-09-26T01:35:18.614Z"
   },
   {
    "duration": 223,
    "start_time": "2024-09-26T01:35:18.626Z"
   },
   {
    "duration": 20,
    "start_time": "2024-09-26T01:35:18.851Z"
   },
   {
    "duration": 134,
    "start_time": "2024-09-26T01:35:18.873Z"
   },
   {
    "duration": 5,
    "start_time": "2024-09-26T01:35:19.011Z"
   },
   {
    "duration": 84,
    "start_time": "2024-09-26T01:35:19.018Z"
   },
   {
    "duration": 781,
    "start_time": "2024-09-26T01:44:00.206Z"
   },
   {
    "duration": 23,
    "start_time": "2024-09-26T01:44:00.989Z"
   },
   {
    "duration": 13,
    "start_time": "2024-09-26T01:44:01.014Z"
   },
   {
    "duration": 9,
    "start_time": "2024-09-26T01:44:01.030Z"
   },
   {
    "duration": 32,
    "start_time": "2024-09-26T01:44:01.041Z"
   },
   {
    "duration": 20,
    "start_time": "2024-09-26T01:44:01.074Z"
   },
   {
    "duration": 10,
    "start_time": "2024-09-26T01:44:01.096Z"
   },
   {
    "duration": 4,
    "start_time": "2024-09-26T01:44:01.108Z"
   },
   {
    "duration": 4,
    "start_time": "2024-09-26T01:44:01.113Z"
   },
   {
    "duration": 4,
    "start_time": "2024-09-26T01:44:01.120Z"
   },
   {
    "duration": 4,
    "start_time": "2024-09-26T01:44:01.125Z"
   },
   {
    "duration": 40,
    "start_time": "2024-09-26T01:44:01.131Z"
   },
   {
    "duration": 12,
    "start_time": "2024-09-26T01:44:01.173Z"
   },
   {
    "duration": 7,
    "start_time": "2024-09-26T01:44:01.186Z"
   },
   {
    "duration": 10,
    "start_time": "2024-09-26T01:44:01.195Z"
   },
   {
    "duration": 3,
    "start_time": "2024-09-26T01:44:01.208Z"
   },
   {
    "duration": 3,
    "start_time": "2024-09-26T01:44:01.213Z"
   },
   {
    "duration": 3,
    "start_time": "2024-09-26T01:44:01.218Z"
   },
   {
    "duration": 47,
    "start_time": "2024-09-26T01:44:01.224Z"
   },
   {
    "duration": 5,
    "start_time": "2024-09-26T01:44:01.273Z"
   },
   {
    "duration": 10,
    "start_time": "2024-09-26T01:44:01.280Z"
   },
   {
    "duration": 8,
    "start_time": "2024-09-26T01:44:01.292Z"
   },
   {
    "duration": 12,
    "start_time": "2024-09-26T01:44:01.301Z"
   },
   {
    "duration": 4,
    "start_time": "2024-09-26T01:44:01.315Z"
   },
   {
    "duration": 5,
    "start_time": "2024-09-26T01:44:01.320Z"
   },
   {
    "duration": 46,
    "start_time": "2024-09-26T01:44:01.327Z"
   },
   {
    "duration": 431,
    "start_time": "2024-09-26T01:44:01.377Z"
   },
   {
    "duration": 4,
    "start_time": "2024-09-26T01:44:01.812Z"
   },
   {
    "duration": 10,
    "start_time": "2024-09-26T01:44:01.817Z"
   },
   {
    "duration": 43,
    "start_time": "2024-09-26T01:44:01.828Z"
   },
   {
    "duration": 9,
    "start_time": "2024-09-26T01:44:01.872Z"
   },
   {
    "duration": 5,
    "start_time": "2024-09-26T01:44:01.883Z"
   },
   {
    "duration": 3,
    "start_time": "2024-09-26T01:44:01.890Z"
   },
   {
    "duration": 16,
    "start_time": "2024-09-26T01:44:01.894Z"
   },
   {
    "duration": 10,
    "start_time": "2024-09-26T01:44:01.912Z"
   },
   {
    "duration": 216,
    "start_time": "2024-09-26T01:44:01.923Z"
   },
   {
    "duration": 6,
    "start_time": "2024-09-26T01:44:02.141Z"
   },
   {
    "duration": 85,
    "start_time": "2024-09-26T01:44:02.149Z"
   },
   {
    "duration": 5,
    "start_time": "2024-09-26T01:44:02.236Z"
   },
   {
    "duration": 92,
    "start_time": "2024-09-26T01:44:02.242Z"
   },
   {
    "duration": 5,
    "start_time": "2024-09-26T02:02:51.847Z"
   },
   {
    "duration": 19,
    "start_time": "2024-09-26T02:02:59.244Z"
   },
   {
    "duration": 5,
    "start_time": "2024-09-26T02:03:49.453Z"
   },
   {
    "duration": 5,
    "start_time": "2024-09-26T02:05:37.288Z"
   },
   {
    "duration": 75,
    "start_time": "2024-09-26T02:06:04.086Z"
   },
   {
    "duration": 5,
    "start_time": "2024-09-26T02:07:15.087Z"
   },
   {
    "duration": 7,
    "start_time": "2024-09-26T02:07:45.778Z"
   },
   {
    "duration": 73,
    "start_time": "2024-09-26T02:08:58.995Z"
   },
   {
    "duration": 799,
    "start_time": "2024-09-26T02:09:09.602Z"
   },
   {
    "duration": 26,
    "start_time": "2024-09-26T02:09:10.403Z"
   },
   {
    "duration": 13,
    "start_time": "2024-09-26T02:09:10.431Z"
   },
   {
    "duration": 24,
    "start_time": "2024-09-26T02:09:10.446Z"
   },
   {
    "duration": 11,
    "start_time": "2024-09-26T02:09:10.472Z"
   },
   {
    "duration": 21,
    "start_time": "2024-09-26T02:09:10.484Z"
   },
   {
    "duration": 11,
    "start_time": "2024-09-26T02:09:10.507Z"
   },
   {
    "duration": 3,
    "start_time": "2024-09-26T02:09:10.519Z"
   },
   {
    "duration": 3,
    "start_time": "2024-09-26T02:09:10.524Z"
   },
   {
    "duration": 3,
    "start_time": "2024-09-26T02:09:10.530Z"
   },
   {
    "duration": 36,
    "start_time": "2024-09-26T02:09:10.535Z"
   },
   {
    "duration": 4,
    "start_time": "2024-09-26T02:09:10.573Z"
   },
   {
    "duration": 10,
    "start_time": "2024-09-26T02:09:10.579Z"
   },
   {
    "duration": 6,
    "start_time": "2024-09-26T02:09:10.591Z"
   },
   {
    "duration": 9,
    "start_time": "2024-09-26T02:09:10.599Z"
   },
   {
    "duration": 3,
    "start_time": "2024-09-26T02:09:10.610Z"
   },
   {
    "duration": 3,
    "start_time": "2024-09-26T02:09:10.614Z"
   },
   {
    "duration": 4,
    "start_time": "2024-09-26T02:09:10.619Z"
   },
   {
    "duration": 53,
    "start_time": "2024-09-26T02:09:10.624Z"
   },
   {
    "duration": 4,
    "start_time": "2024-09-26T02:09:10.679Z"
   },
   {
    "duration": 11,
    "start_time": "2024-09-26T02:09:10.685Z"
   },
   {
    "duration": 7,
    "start_time": "2024-09-26T02:09:10.697Z"
   },
   {
    "duration": 9,
    "start_time": "2024-09-26T02:09:10.705Z"
   },
   {
    "duration": 2,
    "start_time": "2024-09-26T02:09:10.716Z"
   },
   {
    "duration": 5,
    "start_time": "2024-09-26T02:09:10.720Z"
   },
   {
    "duration": 46,
    "start_time": "2024-09-26T02:09:10.726Z"
   },
   {
    "duration": 425,
    "start_time": "2024-09-26T02:09:10.774Z"
   },
   {
    "duration": 4,
    "start_time": "2024-09-26T02:09:11.203Z"
   },
   {
    "duration": 10,
    "start_time": "2024-09-26T02:09:11.208Z"
   },
   {
    "duration": 21,
    "start_time": "2024-09-26T02:09:11.221Z"
   },
   {
    "duration": 33,
    "start_time": "2024-09-26T02:09:11.244Z"
   },
   {
    "duration": 4,
    "start_time": "2024-09-26T02:09:11.279Z"
   },
   {
    "duration": 3,
    "start_time": "2024-09-26T02:09:11.285Z"
   },
   {
    "duration": 15,
    "start_time": "2024-09-26T02:09:11.290Z"
   },
   {
    "duration": 10,
    "start_time": "2024-09-26T02:09:11.307Z"
   },
   {
    "duration": 227,
    "start_time": "2024-09-26T02:09:11.319Z"
   },
   {
    "duration": 4,
    "start_time": "2024-09-26T02:09:11.548Z"
   },
   {
    "duration": 16,
    "start_time": "2024-09-26T02:09:11.554Z"
   },
   {
    "duration": 75,
    "start_time": "2024-09-26T02:09:11.572Z"
   },
   {
    "duration": 22,
    "start_time": "2024-09-26T02:09:11.649Z"
   },
   {
    "duration": 5,
    "start_time": "2024-09-26T02:09:11.673Z"
   },
   {
    "duration": 73,
    "start_time": "2024-09-26T02:09:11.680Z"
   },
   {
    "duration": 10,
    "start_time": "2024-09-26T02:17:16.279Z"
   },
   {
    "duration": 227,
    "start_time": "2024-09-26T02:24:59.248Z"
   },
   {
    "duration": 18,
    "start_time": "2024-09-26T02:25:04.179Z"
   },
   {
    "duration": 8,
    "start_time": "2024-09-26T02:26:31.697Z"
   },
   {
    "duration": 19,
    "start_time": "2024-09-26T02:27:05.802Z"
   },
   {
    "duration": 159,
    "start_time": "2024-09-26T02:36:30.600Z"
   },
   {
    "duration": 126,
    "start_time": "2024-09-26T02:36:51.221Z"
   },
   {
    "duration": 199,
    "start_time": "2024-09-26T02:37:01.218Z"
   },
   {
    "duration": 125,
    "start_time": "2024-09-26T02:37:18.741Z"
   },
   {
    "duration": 128,
    "start_time": "2024-09-26T02:37:24.514Z"
   },
   {
    "duration": 150,
    "start_time": "2024-09-26T02:37:51.522Z"
   },
   {
    "duration": 128,
    "start_time": "2024-09-26T02:38:09.101Z"
   },
   {
    "duration": 434,
    "start_time": "2024-09-26T02:42:03.245Z"
   },
   {
    "duration": 25,
    "start_time": "2024-09-26T02:42:23.890Z"
   },
   {
    "duration": 166,
    "start_time": "2024-09-26T02:45:23.314Z"
   },
   {
    "duration": 43,
    "start_time": "2024-09-26T02:47:05.624Z"
   },
   {
    "duration": 5,
    "start_time": "2024-09-26T02:52:41.071Z"
   },
   {
    "duration": 155,
    "start_time": "2024-09-26T03:27:29.844Z"
   },
   {
    "duration": 257,
    "start_time": "2024-09-26T03:29:46.919Z"
   },
   {
    "duration": 160,
    "start_time": "2024-09-26T03:29:58.572Z"
   },
   {
    "duration": 154,
    "start_time": "2024-09-26T03:30:10.738Z"
   },
   {
    "duration": 155,
    "start_time": "2024-09-26T03:30:24.307Z"
   },
   {
    "duration": 151,
    "start_time": "2024-09-26T03:32:23.739Z"
   },
   {
    "duration": 157,
    "start_time": "2024-09-26T15:07:33.322Z"
   },
   {
    "duration": 2544,
    "start_time": "2024-09-26T15:07:44.454Z"
   },
   {
    "duration": 43,
    "start_time": "2024-09-26T15:07:47.001Z"
   },
   {
    "duration": 13,
    "start_time": "2024-09-26T15:07:47.046Z"
   },
   {
    "duration": 10,
    "start_time": "2024-09-26T15:07:47.062Z"
   },
   {
    "duration": 13,
    "start_time": "2024-09-26T15:07:47.074Z"
   },
   {
    "duration": 20,
    "start_time": "2024-09-26T15:07:47.089Z"
   },
   {
    "duration": 11,
    "start_time": "2024-09-26T15:07:47.110Z"
   },
   {
    "duration": 3,
    "start_time": "2024-09-26T15:07:47.123Z"
   },
   {
    "duration": 3,
    "start_time": "2024-09-26T15:07:47.127Z"
   },
   {
    "duration": 4,
    "start_time": "2024-09-26T15:07:47.133Z"
   },
   {
    "duration": 9,
    "start_time": "2024-09-26T15:07:47.170Z"
   },
   {
    "duration": 6,
    "start_time": "2024-09-26T15:07:47.181Z"
   },
   {
    "duration": 11,
    "start_time": "2024-09-26T15:07:47.189Z"
   },
   {
    "duration": 7,
    "start_time": "2024-09-26T15:07:47.203Z"
   },
   {
    "duration": 11,
    "start_time": "2024-09-26T15:07:47.211Z"
   },
   {
    "duration": 3,
    "start_time": "2024-09-26T15:07:47.223Z"
   },
   {
    "duration": 3,
    "start_time": "2024-09-26T15:07:47.227Z"
   },
   {
    "duration": 40,
    "start_time": "2024-09-26T15:07:47.232Z"
   },
   {
    "duration": 10,
    "start_time": "2024-09-26T15:07:47.273Z"
   },
   {
    "duration": 3,
    "start_time": "2024-09-26T15:07:47.285Z"
   },
   {
    "duration": 11,
    "start_time": "2024-09-26T15:07:47.289Z"
   },
   {
    "duration": 7,
    "start_time": "2024-09-26T15:07:47.301Z"
   },
   {
    "duration": 10,
    "start_time": "2024-09-26T15:07:47.310Z"
   },
   {
    "duration": 2,
    "start_time": "2024-09-26T15:07:47.322Z"
   },
   {
    "duration": 44,
    "start_time": "2024-09-26T15:07:47.326Z"
   },
   {
    "duration": 5,
    "start_time": "2024-09-26T15:07:47.372Z"
   },
   {
    "duration": 371,
    "start_time": "2024-09-26T15:07:47.379Z"
   },
   {
    "duration": 4,
    "start_time": "2024-09-26T15:07:47.754Z"
   },
   {
    "duration": 11,
    "start_time": "2024-09-26T15:07:47.769Z"
   },
   {
    "duration": 22,
    "start_time": "2024-09-26T15:07:47.782Z"
   },
   {
    "duration": 9,
    "start_time": "2024-09-26T15:07:47.806Z"
   },
   {
    "duration": 4,
    "start_time": "2024-09-26T15:07:47.817Z"
   },
   {
    "duration": 3,
    "start_time": "2024-09-26T15:07:47.823Z"
   },
   {
    "duration": 47,
    "start_time": "2024-09-26T15:07:47.828Z"
   },
   {
    "duration": 11,
    "start_time": "2024-09-26T15:07:47.876Z"
   },
   {
    "duration": 202,
    "start_time": "2024-09-26T15:07:47.888Z"
   },
   {
    "duration": 5,
    "start_time": "2024-09-26T15:07:48.092Z"
   },
   {
    "duration": 6,
    "start_time": "2024-09-26T15:07:48.098Z"
   },
   {
    "duration": 142,
    "start_time": "2024-09-26T15:07:48.106Z"
   },
   {
    "duration": 4,
    "start_time": "2024-09-26T15:07:48.250Z"
   },
   {
    "duration": 6,
    "start_time": "2024-09-26T15:07:48.270Z"
   },
   {
    "duration": 73,
    "start_time": "2024-09-26T15:07:48.277Z"
   },
   {
    "duration": 42,
    "start_time": "2024-09-26T15:07:48.351Z"
   },
   {
    "duration": 25,
    "start_time": "2024-09-26T15:07:48.397Z"
   },
   {
    "duration": 9,
    "start_time": "2024-09-26T15:07:48.423Z"
   },
   {
    "duration": 150,
    "start_time": "2024-09-26T15:07:48.433Z"
   },
   {
    "duration": 29,
    "start_time": "2024-09-26T15:23:40.316Z"
   },
   {
    "duration": 2504,
    "start_time": "2024-09-26T22:22:40.014Z"
   },
   {
    "duration": 43,
    "start_time": "2024-09-26T22:22:42.520Z"
   },
   {
    "duration": 17,
    "start_time": "2024-09-26T22:22:42.565Z"
   },
   {
    "duration": 13,
    "start_time": "2024-09-26T22:22:42.584Z"
   },
   {
    "duration": 20,
    "start_time": "2024-09-26T22:22:42.598Z"
   },
   {
    "duration": 25,
    "start_time": "2024-09-26T22:22:42.620Z"
   },
   {
    "duration": 10,
    "start_time": "2024-09-26T22:22:42.646Z"
   },
   {
    "duration": 3,
    "start_time": "2024-09-26T22:22:42.658Z"
   },
   {
    "duration": 3,
    "start_time": "2024-09-26T22:22:42.663Z"
   },
   {
    "duration": 4,
    "start_time": "2024-09-26T22:22:42.668Z"
   },
   {
    "duration": 3,
    "start_time": "2024-09-26T22:22:42.674Z"
   },
   {
    "duration": 8,
    "start_time": "2024-09-26T22:22:42.705Z"
   },
   {
    "duration": 11,
    "start_time": "2024-09-26T22:22:42.715Z"
   },
   {
    "duration": 6,
    "start_time": "2024-09-26T22:22:42.728Z"
   },
   {
    "duration": 10,
    "start_time": "2024-09-26T22:22:42.735Z"
   },
   {
    "duration": 3,
    "start_time": "2024-09-26T22:22:42.746Z"
   },
   {
    "duration": 3,
    "start_time": "2024-09-26T22:22:42.751Z"
   },
   {
    "duration": 3,
    "start_time": "2024-09-26T22:22:42.756Z"
   },
   {
    "duration": 52,
    "start_time": "2024-09-26T22:22:42.760Z"
   },
   {
    "duration": 4,
    "start_time": "2024-09-26T22:22:42.814Z"
   },
   {
    "duration": 12,
    "start_time": "2024-09-26T22:22:42.820Z"
   },
   {
    "duration": 5,
    "start_time": "2024-09-26T22:22:42.834Z"
   },
   {
    "duration": 10,
    "start_time": "2024-09-26T22:22:42.841Z"
   },
   {
    "duration": 3,
    "start_time": "2024-09-26T22:22:42.852Z"
   },
   {
    "duration": 4,
    "start_time": "2024-09-26T22:22:42.858Z"
   },
   {
    "duration": 5,
    "start_time": "2024-09-26T22:22:42.864Z"
   },
   {
    "duration": 356,
    "start_time": "2024-09-26T22:22:42.906Z"
   },
   {
    "duration": 3,
    "start_time": "2024-09-26T22:22:43.267Z"
   },
   {
    "duration": 9,
    "start_time": "2024-09-26T22:22:43.272Z"
   },
   {
    "duration": 84,
    "start_time": "2024-09-26T22:22:43.283Z"
   },
   {
    "duration": 9,
    "start_time": "2024-09-26T22:22:43.368Z"
   },
   {
    "duration": 5,
    "start_time": "2024-09-26T22:22:43.378Z"
   },
   {
    "duration": 23,
    "start_time": "2024-09-26T22:22:43.385Z"
   },
   {
    "duration": 19,
    "start_time": "2024-09-26T22:22:43.410Z"
   },
   {
    "duration": 11,
    "start_time": "2024-09-26T22:22:43.431Z"
   },
   {
    "duration": 201,
    "start_time": "2024-09-26T22:22:43.444Z"
   },
   {
    "duration": 5,
    "start_time": "2024-09-26T22:22:43.647Z"
   },
   {
    "duration": 5,
    "start_time": "2024-09-26T22:22:43.654Z"
   },
   {
    "duration": 91,
    "start_time": "2024-09-26T22:22:43.661Z"
   },
   {
    "duration": 4,
    "start_time": "2024-09-26T22:22:43.753Z"
   },
   {
    "duration": 5,
    "start_time": "2024-09-26T22:22:43.758Z"
   },
   {
    "duration": 90,
    "start_time": "2024-09-26T22:22:43.764Z"
   },
   {
    "duration": 27,
    "start_time": "2024-09-26T22:22:43.855Z"
   },
   {
    "duration": 22,
    "start_time": "2024-09-26T22:22:43.883Z"
   },
   {
    "duration": 135,
    "start_time": "2024-09-26T22:22:43.907Z"
   },
   {
    "duration": 10,
    "start_time": "2024-09-26T22:27:31.455Z"
   },
   {
    "duration": 9,
    "start_time": "2024-09-26T22:32:08.319Z"
   },
   {
    "duration": 9,
    "start_time": "2024-09-26T22:35:52.183Z"
   },
   {
    "duration": 5,
    "start_time": "2024-09-26T22:49:30.559Z"
   },
   {
    "duration": 9,
    "start_time": "2024-09-26T22:51:16.528Z"
   },
   {
    "duration": 84,
    "start_time": "2024-09-26T22:52:52.833Z"
   },
   {
    "duration": 81,
    "start_time": "2024-09-26T22:53:05.966Z"
   },
   {
    "duration": 6,
    "start_time": "2024-09-26T23:05:03.675Z"
   },
   {
    "duration": 332,
    "start_time": "2024-09-26T23:06:00.082Z"
   },
   {
    "duration": 143,
    "start_time": "2024-09-26T23:06:19.595Z"
   },
   {
    "duration": 202,
    "start_time": "2024-09-26T23:06:34.940Z"
   },
   {
    "duration": 122,
    "start_time": "2024-09-26T23:07:02.127Z"
   },
   {
    "duration": 9,
    "start_time": "2024-09-26T23:10:16.287Z"
   },
   {
    "duration": 10,
    "start_time": "2024-09-26T23:10:29.059Z"
   },
   {
    "duration": 9,
    "start_time": "2024-09-26T23:13:52.122Z"
   },
   {
    "duration": 5,
    "start_time": "2024-09-26T23:16:07.768Z"
   },
   {
    "duration": 6,
    "start_time": "2024-09-26T23:16:10.072Z"
   },
   {
    "duration": 123,
    "start_time": "2024-09-26T23:16:12.492Z"
   },
   {
    "duration": 125,
    "start_time": "2024-09-26T23:17:37.597Z"
   },
   {
    "duration": 83,
    "start_time": "2024-09-26T23:17:44.188Z"
   },
   {
    "duration": 80,
    "start_time": "2024-09-26T23:17:48.315Z"
   },
   {
    "duration": 6,
    "start_time": "2024-09-26T23:19:12.628Z"
   },
   {
    "duration": 212,
    "start_time": "2024-09-26T23:19:50.344Z"
   },
   {
    "duration": 5,
    "start_time": "2024-09-26T23:19:56.860Z"
   },
   {
    "duration": 122,
    "start_time": "2024-09-26T23:19:59.681Z"
   },
   {
    "duration": 224,
    "start_time": "2024-09-26T23:24:49.092Z"
   },
   {
    "duration": 45,
    "start_time": "2024-09-26T23:31:13.921Z"
   },
   {
    "duration": 7,
    "start_time": "2024-09-26T23:31:34.903Z"
   },
   {
    "duration": 168,
    "start_time": "2024-09-26T23:31:48.804Z"
   },
   {
    "duration": 124,
    "start_time": "2024-09-26T23:32:20.136Z"
   },
   {
    "duration": 140,
    "start_time": "2024-09-26T23:32:24.119Z"
   },
   {
    "duration": 3,
    "start_time": "2024-09-26T23:34:57.797Z"
   },
   {
    "duration": 8,
    "start_time": "2024-09-26T23:35:44.254Z"
   },
   {
    "duration": 9,
    "start_time": "2024-09-26T23:38:37.260Z"
   },
   {
    "duration": 5,
    "start_time": "2024-09-26T23:40:30.185Z"
   },
   {
    "duration": 123,
    "start_time": "2024-09-26T23:41:24.464Z"
   },
   {
    "duration": 118,
    "start_time": "2024-09-26T23:42:07.831Z"
   },
   {
    "duration": 11,
    "start_time": "2024-09-26T23:42:46.504Z"
   },
   {
    "duration": 6,
    "start_time": "2024-09-26T23:43:02.110Z"
   },
   {
    "duration": 137,
    "start_time": "2024-09-26T23:45:20.133Z"
   },
   {
    "duration": 201,
    "start_time": "2024-09-26T23:46:03.262Z"
   },
   {
    "duration": 124,
    "start_time": "2024-09-26T23:46:34.368Z"
   },
   {
    "duration": 134,
    "start_time": "2024-09-26T23:48:11.056Z"
   },
   {
    "duration": 10,
    "start_time": "2024-09-27T00:14:53.858Z"
   },
   {
    "duration": 17,
    "start_time": "2024-09-27T00:22:21.645Z"
   },
   {
    "duration": 18,
    "start_time": "2024-09-27T00:24:04.618Z"
   },
   {
    "duration": 4,
    "start_time": "2024-09-27T00:25:13.112Z"
   },
   {
    "duration": 21,
    "start_time": "2024-09-27T00:25:50.989Z"
   },
   {
    "duration": 4,
    "start_time": "2024-09-27T00:29:24.850Z"
   },
   {
    "duration": 571,
    "start_time": "2024-09-27T00:30:09.619Z"
   },
   {
    "duration": 16,
    "start_time": "2024-09-27T00:31:03.144Z"
   },
   {
    "duration": 3,
    "start_time": "2024-09-27T00:31:55.363Z"
   },
   {
    "duration": 18,
    "start_time": "2024-09-27T00:32:07.878Z"
   },
   {
    "duration": 17,
    "start_time": "2024-09-27T00:33:03.652Z"
   },
   {
    "duration": 3,
    "start_time": "2024-09-27T00:33:53.250Z"
   },
   {
    "duration": 16,
    "start_time": "2024-09-27T00:34:51.620Z"
   },
   {
    "duration": 4,
    "start_time": "2024-09-27T00:48:43.749Z"
   },
   {
    "duration": 4,
    "start_time": "2024-09-27T01:05:07.134Z"
   },
   {
    "duration": 17,
    "start_time": "2024-09-27T01:06:50.812Z"
   },
   {
    "duration": 17,
    "start_time": "2024-09-27T01:07:46.636Z"
   },
   {
    "duration": 4,
    "start_time": "2024-09-27T01:08:49.485Z"
   },
   {
    "duration": 16,
    "start_time": "2024-09-27T01:11:31.423Z"
   },
   {
    "duration": 16,
    "start_time": "2024-09-27T01:12:14.589Z"
   },
   {
    "duration": 16,
    "start_time": "2024-09-27T01:12:38.461Z"
   },
   {
    "duration": 18,
    "start_time": "2024-09-27T01:13:37.071Z"
   },
   {
    "duration": 4,
    "start_time": "2024-09-27T01:14:48.700Z"
   },
   {
    "duration": 13,
    "start_time": "2024-09-27T01:15:59.562Z"
   },
   {
    "duration": 26,
    "start_time": "2024-09-27T01:16:05.160Z"
   },
   {
    "duration": 17,
    "start_time": "2024-09-27T01:16:13.162Z"
   },
   {
    "duration": 4,
    "start_time": "2024-09-27T01:18:36.465Z"
   },
   {
    "duration": 2,
    "start_time": "2024-09-27T01:27:13.904Z"
   },
   {
    "duration": 11,
    "start_time": "2024-09-27T19:16:24.709Z"
   }
  ],
  "kernelspec": {
   "display_name": "Python 3 (ipykernel)",
   "language": "python",
   "name": "python3"
  },
  "language_info": {
   "codemirror_mode": {
    "name": "ipython",
    "version": 3
   },
   "file_extension": ".py",
   "mimetype": "text/x-python",
   "name": "python",
   "nbconvert_exporter": "python",
   "pygments_lexer": "ipython3",
   "version": "3.9.19"
  },
  "toc": {
   "base_numbering": 1,
   "nav_menu": {},
   "number_sections": true,
   "sideBar": true,
   "skip_h1_title": true,
   "title_cell": "Table of Contents",
   "title_sidebar": "Contents",
   "toc_cell": false,
   "toc_position": {},
   "toc_section_display": true,
   "toc_window_display": false
  }
 },
 "nbformat": 4,
 "nbformat_minor": 2
}
